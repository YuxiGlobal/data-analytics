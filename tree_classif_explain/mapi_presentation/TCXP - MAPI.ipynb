{
 "cells": [
  {
   "cell_type": "code",
   "execution_count": 5,
   "metadata": {
    "slideshow": {
     "slide_type": "notes"
    }
   },
   "outputs": [],
   "source": [
    "# jupyter nbconvert \"TCXP - MAPI.ipynb\" --to slides --post serve\n",
    "# PENDING: clear up pendings\n",
    "# PENDING: quote on truth vs .clarity \n"
   ]
  },
  {
   "cell_type": "markdown",
   "metadata": {
    "slideshow": {
     "slide_type": "slide"
    }
   },
   "source": [
    "# TCXP - A Scalable Algorithm for Explaining Individual Tree-based Classifier Predictions\n",
    "\n",
    "<div> \n",
    "<img width=\"400\" height=\"300\" src=\"ml_scratching.png\" />\n",
    "\n",
    "</div>"
   ]
  },
  {
   "cell_type": "markdown",
   "metadata": {
    "slideshow": {
     "slide_type": "slide"
    }
   },
   "source": [
    "# Outline \n",
    "\n",
    "\n",
    "* Explanations??? Please explain yourself!\n",
    "* What is TCXP? \n",
    "* TCXP vs. LIME \n",
    "* Demo on real data\n"
   ]
  },
  {
   "cell_type": "markdown",
   "metadata": {
    "slideshow": {
     "slide_type": "slide"
    }
   },
   "source": [
    "## Explanations (or lack thereof) in the context of Machine Learning \n",
    "\n",
    "\n",
    "\n",
    "* In industries (such as banking, insurance):\n",
    "    * Sales staff sometimes ask about individual predictions...\n",
    "    * Predictive analytics promises **actionable insights**:\n",
    "        * Individual prediction $\\rightarrow$ individual action \n",
    "        \n",
    "* Explanation for prediction: \n",
    "    * Answer the question: **Why** did the model predict $\\hat{y}^{(i)}$ on input $x^{(i)}$?\n",
    "    * What *features*/*variables* contributed (the most) to a prediction? \n",
    "    * What was each *feature*'s contribution to the prediction?\n",
    "    \n",
    "* PENDING: mention new European legislation"
   ]
  },
  {
   "cell_type": "markdown",
   "metadata": {
    "slideshow": {
     "slide_type": "slide"
    }
   },
   "source": [
    "## A dichotomy\n",
    "\n",
    "*  Predictions by *simple algoritms*, are \"easy\" to explain:\n",
    " $$P(x^{(i)} \\in C^+) = \\sigma( z^{(i)} ) \\quad \\text{ with }\\quad z^{(i)} = \\beta_0 + \\sum_{j=1}^{f} \\beta_j x^{(i)}_j$$\n",
    "    Why is $P(x^{(i)})$ close to 1? Typically a few of the terms $\\beta_j x^{(i)}_j$ are positive and big enough.\n",
    "    $$\\Delta z_j^{(i)} := \\beta_j x_j^{(i)}  $$\n",
    "    is the $j$-th feature's contribution to the $(i)$-th example's prediction.\n",
    "    \n",
    "* Predictions by *advanced algorithms*, e.g. random forests, neural networks, XGBoost are *hard* to explain\n",
    "    * black-box nature and high internal complexity of these models"
   ]
  },
  {
   "cell_type": "markdown",
   "metadata": {
    "slideshow": {
     "slide_type": "slide"
    }
   },
   "source": [
    "## Explaining  advanced ML algorithms to sales staff"
   ]
  },
  {
   "cell_type": "markdown",
   "metadata": {
    "slideshow": {
     "slide_type": "fragment"
    }
   },
   "source": [
    "<div>\n",
    "    <p>        \n",
    "    <img height=\"250\" width=\"250\" src=\"confused-girl.jpg\" style=\"display: inline-block\"/>\n",
    "    <img height=\"250\" width=\"250\" src=\"confused-boy.jpg\" style=\"display: inline-block\" />\n",
    "    <img height=\"250\" width=\"250\" src=\"confused-black-girl.jpg\" style=\"display: inline-block\" />\n",
    "    </p>\n",
    "</div>"
   ]
  },
  {
   "cell_type": "markdown",
   "metadata": {
    "slideshow": {
     "slide_type": "slide"
    }
   },
   "source": [
    "# What is TCXP?\n",
    "\n",
    "\n",
    "* An algo to generate **interpretable explanations** for *individual* tree-based classifier predictions.\n",
    "  -  **Simple** and **scalable**\n",
    "  \n",
    "* Definition: If model $M$ yields a probability $p^+ (i) = p^+_M( \\mathbf{x}(i))$ that the $i$-th data point belongs to the positive class, an **explanation** for this prediction is:\n",
    "    $$( p_0(i), \\Delta p_{1}(i), \\dots, \\Delta p_{f}(i)  )  \\quad \\text{ such that }\\quad  \n",
    "     p_{0}(i) + \\sum_{j=1}^f \\Delta p_{j}(i) = p^+  (i ) $$\n",
    "$\\Delta p_j(i)$ is interpreted as the _contribution_ to the prediction coming from the $j$-th feature, $x_j(i)$.     \n",
    "\n",
    "  \n",
    "* **How**?\n",
    "  * **Basic idea:**  carry out *careful accounting* of probability contributions of each variable.\n",
    "\n",
    "   "
   ]
  },
  {
   "cell_type": "markdown",
   "metadata": {
    "slideshow": {
     "slide_type": "slide"
    }
   },
   "source": [
    "## Binary classification through a tree: leaf counts\n",
    "<div> \n",
    "    <img  src=\"tree_00.png\" />    \n",
    "</div>\n",
    "\n",
    "For each leaf node $k$ we record count of positive class over total count: $( n^+_k ,\\, n^+_k + n^-_k )  $"
   ]
  },
  {
   "cell_type": "markdown",
   "metadata": {
    "slideshow": {
     "slide_type": "slide"
    }
   },
   "source": [
    "## Binary classification through a tree: probability estimates\n",
    "\n",
    "A classification trees has **internal decision** nodes, each using a single variable, and final (non-decision) **leaves**\n",
    "\n",
    "<div> \n",
    "    <img  src=\"tree_01.png\" />    \n",
    "</div>\n",
    "\n",
    "For each leaf $k$, $p^+_k = n^+_k / (n^+_k + n^-_k) $"
   ]
  },
  {
   "cell_type": "markdown",
   "metadata": {
    "slideshow": {
     "slide_type": "slide"
    }
   },
   "source": [
    "## Explanation generation: all node counts \n",
    "    \n",
    "<div>\n",
    "    <img  src=\"tree_02.png\" />    \n",
    "</div>\n",
    "\n",
    "\n",
    "For each internal node compute  $( n^+_k, \\, (n^+_k + n^-_k)) $"
   ]
  },
  {
   "cell_type": "markdown",
   "metadata": {
    "slideshow": {
     "slide_type": "slide"
    }
   },
   "source": [
    "## Explanation generation: all node probs\n",
    "    \n",
    "<div>\n",
    "    <img  src=\"tree_03.png\" />    \n",
    "</div>\n",
    "\n",
    "\n",
    "For each internal node node $k$, $p^+_k = n^+_k / (n^+_k + n^-_k) $"
   ]
  },
  {
   "cell_type": "markdown",
   "metadata": {
    "slideshow": {
     "slide_type": "slide"
    }
   },
   "source": [
    "## Explanation generation: deltas on all edges\n",
    "    \n",
    "<div>\n",
    "    <img  src=\"tree_04.png\" />    \n",
    "</div>\n",
    "\n",
    "\n",
    "If $k$ is the parent of $l$,  compute $\\Delta p^+ _{(k,l)} := p^+_l - p^+_k$"
   ]
  },
  {
   "cell_type": "markdown",
   "metadata": {
    "slideshow": {
     "slide_type": "slide"
    }
   },
   "source": [
    "## Explanation generation: assigning deltas to variables -  Case 1\n",
    "    \n",
    "<div>\n",
    "    <img  src=\"tree_c1.png\" />    \n",
    "</div>\n",
    "\n",
    "First delta is attributable to $Y$, second to $Z$, third to $X$"
   ]
  },
  {
   "cell_type": "markdown",
   "metadata": {
    "slideshow": {
     "slide_type": "slide"
    }
   },
   "source": [
    "## Explanation generation: assigning deltas to variables -  Case 1\n",
    "    \n",
    "<div>\n",
    "    <img  src=\"tree_c1.png\" />    \n",
    "</div>\n",
    "\n",
    "First delta is attributable to $Y$, second to $Z$, third to $X$"
   ]
  },
  {
   "cell_type": "markdown",
   "metadata": {
    "slideshow": {
     "slide_type": "slide"
    }
   },
   "source": [
    "## Explanation generation: assigning deltas to variables -  Case 2\n",
    "    \n",
    "<div>\n",
    "    <img  src=\"tree_c2.png\" />    \n",
    "</div>\n",
    "\n",
    "First delta is attributable to $Y$, second to $Z$, third to $Y$ again."
   ]
  },
  {
   "cell_type": "markdown",
   "metadata": {
    "slideshow": {
     "slide_type": "slide"
    }
   },
   "source": [
    "## Explanation generation: assigning deltas to variables -  Case 3\n",
    "    \n",
    "<div>\n",
    "    <img  src=\"tree_c3.png\" />    \n",
    "</div>\n",
    "\n",
    "First delta is attributable to $Y$, second to $X$, none to $Z$"
   ]
  },
  {
   "cell_type": "markdown",
   "metadata": {
    "slideshow": {
     "slide_type": "slide"
    }
   },
   "source": [
    "## Extension to forest/GBT and complexity\n",
    "\n",
    "Consider a clasifier $\\mathcal{T}$, consisting of $T$ trees, with weights $w_1, w_2, \\dots, w_T$ with ($\\sum^T_{i=1} w_i = 1$)  \n",
    "and let $\\mathbf{e}^{(t)}(i) := ( p_0^{(t)}(i), \\Delta p^{(t)}_{1}(i), \\dots, \\Delta p^{(t)}_{f}(i)  )$ denote the explanation computed on tree $t$, $t=1, \\dots, T$. \n",
    "Then we can define the explanation fo the whole classifier as the weighted sum:\n",
    "$$\\mathbf{e}^{(\\mathcal T)}(i) := \\sum_{i=1}^T w_i \\mathbf{e}^{(t)}(i) $$\n",
    "\n",
    "### Complexity\n",
    "\n",
    "For if all trees in $\\mathcal T$ consist of a total of $V$ nodes and the maximum depth of any tree is $d$, then:\n",
    "\n",
    "  * Precomputing cond. probabilitities at all nodes takes $O(V)$ time and $O(V)$ space.\n",
    "  * Computing an individual explanation takes $O(d)$ time and $O(f)$ space\n",
    "  \n",
    "Incidentally, both bounds are dominated by the corresponding bounds of training the classifier and generating a prediction"
   ]
  },
  {
   "cell_type": "markdown",
   "metadata": {
    "slideshow": {
     "slide_type": "slide"
    }
   },
   "source": [
    "## Another approach for explanation generation: LIME\n",
    "\n",
    "**LIME**: **L**ocal **I**nterpreatable **M**odel-agnostic **E**xplanations\n",
    "\n",
    "**Basic Idea**: For each $\\mathbf x (i)$:\n",
    "  * Generate (100s of) random samples of a neighborhood around $\\mathbf x(i)$.\n",
    "  * Compute prediction using model $M$ for each sample.\n",
    "  * Fit linear ML model to predictions.\n",
    "  * Cast coefficients of linear model as variable importances.\n",
    "  \n",
    "**Main drawback**:\n",
    "   * It is **very slow** to compute an explanation for a single datapoint! \n",
    "     * $\\rightarrow$ This doesn't scale!\n",
    " "
   ]
  },
  {
   "cell_type": "markdown",
   "metadata": {
    "slideshow": {
     "slide_type": "slide"
    }
   },
   "source": [
    "## Comparison between LIME and TCXP\n",
    "\n",
    "<div>\n",
    "    <img  src=\"lime_vs_tcxp.png\" />    \n",
    "</div>"
   ]
  }
 ],
 "metadata": {
  "celltoolbar": "Slideshow",
  "kernelspec": {
   "display_name": "Python 3",
   "language": "python",
   "name": "python3"
  },
  "language_info": {
   "codemirror_mode": {
    "name": "ipython",
    "version": 3
   },
   "file_extension": ".py",
   "mimetype": "text/x-python",
   "name": "python",
   "nbconvert_exporter": "python",
   "pygments_lexer": "ipython3",
   "version": "3.6.4"
  }
 },
 "nbformat": 4,
 "nbformat_minor": 2
}
