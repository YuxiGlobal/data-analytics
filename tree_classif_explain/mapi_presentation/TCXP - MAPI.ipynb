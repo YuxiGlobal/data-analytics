{
 "cells": [
  {
   "cell_type": "code",
   "execution_count": 5,
   "metadata": {
    "slideshow": {
     "slide_type": "notes"
    }
   },
   "outputs": [],
   "source": [
    "# jupyter nbconvert \"TCXP - MAPI.ipynb\" --to slides --post serve\n",
    "\n",
    "# PENDING: references "
   ]
  },
  {
   "cell_type": "markdown",
   "metadata": {
    "slideshow": {
     "slide_type": "slide"
    }
   },
   "source": [
    "# TCXP - A Scalable Algorithm for Explaining Individual Tree-based Classifier Predictions\n",
    "\n",
    "[mateo.restrepo@yuxiglobal.com](mailto:mateo.restrepo@yuxiglobal.com) - Head of Data Analytics at Yuxi Global, Medellín\n",
    "\n",
    "<div style=\"margin:auto\"> \n",
    "    <p text-align=\"center\">\n",
    "       <img style=\"display:block;margin-left:auto;margin-right:auto;\" width=\"450px\" height=\"350px\" src=\"ml_scratching.png\" />\n",
    "    </p>\n",
    "</div>"
   ]
  },
  {
   "cell_type": "markdown",
   "metadata": {
    "slideshow": {
     "slide_type": "slide"
    }
   },
   "source": [
    "# Outline \n",
    "\n",
    "* Context and terminology  ...\n",
    "* Explanations??? Please explain yourself!\n",
    "* What is TCXP? \n",
    "* TCXP vs. LIME \n",
    "* Demo on real data\n"
   ]
  },
  {
   "cell_type": "markdown",
   "metadata": {
    "slideshow": {
     "slide_type": "slide"
    }
   },
   "source": [
    "###  Context and terminology\n",
    "\n",
    "A   **(hard) binary classifier** is just a (computable) function $C$ that takes a vector of covariates (features) and outputs a a result in $\\{0,1\\}$\n",
    "\n",
    "$$  \\begin{align} C & : & \\mathbb R^f  & \\rightarrow & \\{ -1 , +1\\} \\\\\n",
    "& \\, & \\mathbf x  &\\mapsto & y \n",
    "\\end{align}$$ \n",
    "\n",
    "\n",
    "A **(soft) binary classifier** is : \n",
    "\n",
    "$$ \n",
    "\\begin{align} p : & \\mathbb  R^f & \\rightarrow &\\,  [0, 1] \\\\\n",
    "    & \\mathbf x &  \\mapsto &  p^{+}(\\mathbf x)   \n",
    "\\end{align}\n",
    "$$\n",
    "\n",
    "\n",
    "$p^+(\\mathbf{x})$ is interpreted as the (estimated) probability that $\\mathbf x$ belongs to the _positive class_."
   ]
  },
  {
   "cell_type": "markdown",
   "metadata": {
    "slideshow": {
     "slide_type": "fragment"
    }
   },
   "source": [
    "  \n",
    " **(supervised) Machine learning** is the ~~science~~ _art_ of automatically constructing an optimal $C$ (or $p^+$) from many examples $\\{(\\mathbf x^{(i)}, y^{(i)}) \\, :\\, i=1,\\dots, N \\}$.   \n",
    "  "
   ]
  },
  {
   "cell_type": "markdown",
   "metadata": {
    "slideshow": {
     "slide_type": "slide"
    }
   },
   "source": [
    "## Examples from  industry\n",
    "\n",
    "\n",
    "  *  **Credit risk:** $\\mathbf{x}$ = information about a customer and a credit product  $p^+(\\mathbf x)$ is the probability that she will default.\n",
    "  \n",
    "  \n",
    "  *  **Customer churn:**  $\\mathbf{x}$ = information about a customer's behavior  $p^+(\\mathbf x)$ is the probability that he will stop being my client.\n",
    "  \n",
    "  \n",
    "  *  **Online-advertisement:**  $\\mathbf{x}$ = information about an online ad and a person  that is looking at it  $p^+(\\mathbf \n",
    "  x)$  the probability that person will click on it\n",
    "  \n",
    "  "
   ]
  },
  {
   "cell_type": "markdown",
   "metadata": {
    "slideshow": {
     "slide_type": "slide"
    }
   },
   "source": [
    "## Explanations (or lack thereof) in the context of ML models\n",
    "\n",
    "\n",
    "* Explanation for prediction: \n",
    "    * Answer the question: **Why** did the model predict $\\hat{y}^{(i)}$ on input $\\mathbf x^{(i)}$?\n",
    "    "
   ]
  },
  {
   "cell_type": "markdown",
   "metadata": {
    "slideshow": {
     "slide_type": "fragment"
    }
   },
   "source": [
    "    \n",
    "* In industries (such as banking, insurance):\n",
    "    * Sales staff sometimes ask about individual predictions...\n",
    "    * Predictive analytics promises **actionable insights**:\n",
    "        * Individual prediction $\\rightarrow$ individual action \n",
    "       "
   ]
  },
  {
   "cell_type": "markdown",
   "metadata": {
    "slideshow": {
     "slide_type": "slide"
    }
   },
   "source": [
    "* **One way to implement**: Quantify each *feature*'s contribution to the prediction?\n",
    "* Something like this: \n",
    "  \n",
    "<img height=\"8000\" width=\"4000\" src=\"explanation_bar_plot.png\"/>    \n",
    "\n"
   ]
  },
  {
   "cell_type": "markdown",
   "metadata": {
    "slideshow": {
     "slide_type": "slide"
    }
   },
   "source": [
    "## Explaining  advanced ML algorithms to sales staff"
   ]
  },
  {
   "cell_type": "markdown",
   "metadata": {
    "slideshow": {
     "slide_type": "fragment"
    }
   },
   "source": [
    "<div>\n",
    "    <p>        \n",
    "    <img height=\"400px\" width=\"250\" src=\"confused-girl.jpg\"      style=\"display: inline-block\"/>\n",
    "    <img height=\"250\" width=\"250\" src=\"confused-boy.jpg\"        style=\"display: inline-block\" />\n",
    "    <img height=\"250\" width=\"250\" src=\"confused-black-girl.jpg\" style=\"display: inline-block\" />\n",
    "    </p>\n",
    "</div>"
   ]
  },
  {
   "cell_type": "markdown",
   "metadata": {
    "slideshow": {
     "slide_type": "slide"
    }
   },
   "source": [
    "## Besides... You need to produce explanations BY LAW!\n",
    "\n",
    "\n",
    "* _Algorithmic Fairness Provisions_ of the  **General Data Protection regulation (GDPR)**:\n",
    "\n",
    "\n",
    "  *  _\"The Right to Explanation of Automated Decision mandates that the data subject has a right to get an explanation about decisions made by algorithms and a right to opt-out of some algorithmic decisions altogether if they are not satisfied with it.\"_ \n",
    "  \n",
    "  \n",
    "  *  [Article: Deep Learning going illegal in Europe](https://www.analyticsindiamag.com/deep-learning-going-illegal-europe/)\n",
    "  "
   ]
  },
  {
   "cell_type": "markdown",
   "metadata": {
    "slideshow": {
     "slide_type": "slide"
    }
   },
   "source": [
    "## A dichotomy\n",
    "\n",
    "*  Predictions by *simple algoritms* (e.g  for **Logistic regression**) are \"easy\" to explain.\n"
   ]
  },
  {
   "cell_type": "markdown",
   "metadata": {
    "slideshow": {
     "slide_type": "fragment"
    }
   },
   "source": [
    "    \n",
    "* Predictions by *advanced algorithms*, e.g. random forests, neural networks, XGBoost are *hard* to explain\n",
    "    * black-box nature and high internal complexity of these models"
   ]
  },
  {
   "cell_type": "markdown",
   "metadata": {
    "slideshow": {
     "slide_type": "fragment"
    }
   },
   "source": [
    "<div style=\"margin:auto\">\n",
    "    <p text-align=\"center\">\n",
    "    <img style=\"margin-left:auto;margin-right:auto;display:block\" src=\"truth-and-clarity.png\" />\n",
    "    </p>\n",
    "</div>"
   ]
  },
  {
   "cell_type": "markdown",
   "metadata": {
    "slideshow": {
     "slide_type": "slide"
    }
   },
   "source": [
    "# What is TCXP?\n",
    "\n",
    "\n",
    "* An algo to generate **interpretable explanations** for *individual* tree-based classifier predictions.\n",
    "\n",
    "  -  **Simple** and **scalable**\n",
    "  \n",
    "  "
   ]
  },
  {
   "cell_type": "markdown",
   "metadata": {
    "slideshow": {
     "slide_type": "fragment"
    }
   },
   "source": [
    "  \n",
    "* **Definition:** An **explanation** fo an individual prediction   $p^+( \\mathbf{x}(i))$:\n",
    "    $$( p_0(i), \\Delta p_{1}(i), \\dots, \\Delta p_{f}(i)  )  \\quad \\text{ such that }\\quad  \n",
    "     p_{0}(i) + \\sum_{j=1}^f \\Delta p_{j}(i) = p^+  ( \\mathbf x ^{(i)} ) $$\n",
    "$\\Delta p_j(i)$ is interpreted as the _contribution_ to the prediction coming from the $j$-th feature, $x_j(i)$.     \n",
    "\n",
    "  "
   ]
  },
  {
   "cell_type": "markdown",
   "metadata": {
    "slideshow": {
     "slide_type": "fragment"
    }
   },
   "source": [
    "* **How**?\n",
    "  * **Basic idea:**  carry out *careful accounting* of probability contributions of each variable.\n",
    "\n",
    "   "
   ]
  },
  {
   "cell_type": "markdown",
   "metadata": {
    "slideshow": {
     "slide_type": "slide"
    }
   },
   "source": [
    "## Binary classification through a tree: leaf counts\n",
    "<div> \n",
    "    <img  height=\"800px\" width=\"870px\" src=\"tree_00.png\" />    \n",
    "</div>\n",
    "\n",
    "A classification trees has **internal decision** nodes, each using a single variable, and final (non-decision) **leaves**\n",
    "\n",
    "For each leaf node $k$ we record count of positive class over total count: $( n^+_k ,\\, n^+_k + n^-_k )  $"
   ]
  },
  {
   "cell_type": "markdown",
   "metadata": {
    "slideshow": {
     "slide_type": "slide"
    }
   },
   "source": [
    "## Binary classification through a tree: probability estimates\n",
    "\n",
    "\n",
    "<div> \n",
    "    <img  height=\"800px\" width=\"870px\" src=\"tree_01.png\" />    \n",
    "</div>\n",
    "\n",
    "For each leaf $k$, $p^+_k = n^+_k / (n^+_k + n^-_k) $"
   ]
  },
  {
   "cell_type": "markdown",
   "metadata": {
    "slideshow": {
     "slide_type": "slide"
    }
   },
   "source": [
    "## Explanation generation: all node counts \n",
    "    \n",
    "<div>\n",
    "    <img  height=\"800px\" width=\"870px\"  src=\"tree_02.png\" />    \n",
    "</div>\n",
    "\n",
    "\n",
    "For each internal node compute  $( n^+_k, \\, (n^+_k + n^-_k)) $"
   ]
  },
  {
   "cell_type": "markdown",
   "metadata": {
    "slideshow": {
     "slide_type": "slide"
    }
   },
   "source": [
    "## Explanation generation: all node probs\n",
    "    \n",
    "<div>\n",
    "    <img  height=\"800px\" width=\"870px\" src=\"tree_03.png\" />    \n",
    "</div>\n",
    "\n",
    "\n",
    "For each internal node node $k$, $p^+_k = n^+_k / (n^+_k + n^-_k) $"
   ]
  },
  {
   "cell_type": "markdown",
   "metadata": {
    "slideshow": {
     "slide_type": "slide"
    }
   },
   "source": [
    "## Explanation generation: deltas on all edges\n",
    "    \n",
    "<div>\n",
    "    <img    height=\"800px\" width=\"870px\" src=\"tree_04.png\" />    \n",
    "</div>\n",
    "If $k$ is the parent of $l$,  compute $\\Delta p^+ _{(k,l)} := p^+_l - p^+_k$"
   ]
  },
  {
   "cell_type": "markdown",
   "metadata": {
    "slideshow": {
     "slide_type": "slide"
    }
   },
   "source": [
    "## Explanation generation: assigning deltas to variables -  Case 1\n",
    "    \n",
    "<div>\n",
    "    <img  height=\"800px\" width=\"870px\" src=\"tree_c1.png\" />    \n",
    "</div>\n",
    "\n",
    "First delta is attributable to $Y$, second to $Z$, third to $X$"
   ]
  },
  {
   "cell_type": "markdown",
   "metadata": {
    "slideshow": {
     "slide_type": "slide"
    }
   },
   "source": [
    "## Explanation generation: assigning deltas to variables -  Case 2\n",
    "    \n",
    "<div>\n",
    "    <img  height=\"800px\" width=\"870px\" src=\"tree_c2.png\" />    \n",
    "</div>\n",
    "\n",
    "First delta is attributable to $Y$, second to $X$, third to $Y$ again."
   ]
  },
  {
   "cell_type": "markdown",
   "metadata": {
    "slideshow": {
     "slide_type": "slide"
    }
   },
   "source": [
    "## Explanation generation: assigning deltas to variables -  Case 3\n",
    "    \n",
    "<div>\n",
    "<img  height=\"800px\" width=\"870px\" src=\"tree_c3.png\" />    \n",
    "</div>\n",
    "\n",
    "\n",
    "First delta is attributable to $Y$, second to $X$, none to $Z$"
   ]
  },
  {
   "cell_type": "markdown",
   "metadata": {
    "slideshow": {
     "slide_type": "slide"
    }
   },
   "source": [
    "## Extension to forest / GBT and complexity\n",
    "\n",
    "Consider a clasifier $\\mathcal{T}$, consisting of $T$ trees, with weights $w_1, w_2, \\dots, w_T$ <br />\n",
    "with ($\\sum^T_{i=1} w_i = 1$)  and let \n",
    "$$\\mathbf{e}^{(t)}(i) := ( p_0^{(t)}(i), \\Delta p^{(t)}_{1}(i), \\dots, \\Delta p^{(t)}_{f}(i)  )$$ denote the explanation computed on tree $t$, $t=1, \\dots, T$. \n",
    "\n",
    "Let the explanation for the whole classifier be the weighted sum:\n",
    "$$\\mathbf{e}^{(\\mathcal T)}(i) := \\sum_{i=1}^T w_i \\mathbf{e}^{(t)}(i) $$"
   ]
  },
  {
   "cell_type": "markdown",
   "metadata": {
    "slideshow": {
     "slide_type": "slide"
    }
   },
   "source": [
    "### Complexity\n",
    "\n",
    "**Theorem**: If the trees in $\\mathcal T$ consist of a total of $V$ nodes and the maximum depth of any tree is $d$, then:\n",
    "\n",
    "  * Precomputing cond. probabilitities at all nodes takes $O(V)$ time and $O(V)$ space.\n",
    "  * Computing an individual explanation takes $O(d)$ time and $O(f)$ space\n",
    "  \n",
    "**Proof:** Trivial."
   ]
  },
  {
   "cell_type": "markdown",
   "metadata": {
    "slideshow": {
     "slide_type": "fragment"
    }
   },
   "source": [
    "**Corollary**: both bounds are dominated by the corresponding bounds of training the classifier and generating a prediction"
   ]
  },
  {
   "cell_type": "markdown",
   "metadata": {
    "slideshow": {
     "slide_type": "slide"
    }
   },
   "source": [
    "## Another approach for explanation generation: LIME\n",
    "\n",
    "**LIME**: **L**ocal **I**nterpreatable **M**odel-agnostic **E**xplanations\n",
    "\n",
    "**Basic Idea**: For each $\\mathbf x (i)$:\n",
    "  * Generate (100s of) random samples of a neighborhood around $\\mathbf x(i)$.\n",
    "  * Compute prediction using model $M$ for each sample.\n",
    "  * Fit linear ML model to predictions.\n",
    "  * Cast coefficients of linear model as variable importances.\n",
    "  "
   ]
  },
  {
   "cell_type": "markdown",
   "metadata": {
    "slideshow": {
     "slide_type": "fragment"
    }
   },
   "source": [
    "**Main drawback**:\n",
    "   * It is **very slow** to compute an explanation for a single datapoint! \n",
    "     * $\\rightarrow$ This doesn't scale!\n",
    " "
   ]
  },
  {
   "cell_type": "markdown",
   "metadata": {
    "slideshow": {
     "slide_type": "slide"
    }
   },
   "source": [
    "## Comparison between LIME and TCXP\n",
    "\n",
    "<div>\n",
    "    <img  width=\"600px\" height=\"650px\" src=\"lime_vs_tcxp.png\" />    \n",
    "</div>"
   ]
  },
  {
   "cell_type": "markdown",
   "metadata": {
    "slideshow": {
     "slide_type": "slide"
    }
   },
   "source": [
    "## Extras  \n",
    "\n",
    "  * Visit our company's website: [www.yuxiglobal.com](www.yuxiglobal.com)\n",
    "\n",
    "  * Add me on Linked-In: https://www.linkedin.com/in/mateorestrepo/\n",
    "\n",
    "  * Get the codez! https://github.com/YuxiGlobal/data-analytics\n",
    "\n",
    "  *  LIME: \n",
    "    * https://arxiv.org/abs/1602.04938\n",
    "    * https://github.com/marcotcr/lime\n",
    "\n"
   ]
  }
 ],
 "metadata": {
  "celltoolbar": "Slideshow",
  "kernelspec": {
   "display_name": "Python 3",
   "language": "python",
   "name": "python3"
  },
  "language_info": {
   "codemirror_mode": {
    "name": "ipython",
    "version": 3
   },
   "file_extension": ".py",
   "mimetype": "text/x-python",
   "name": "python",
   "nbconvert_exporter": "python",
   "pygments_lexer": "ipython3",
   "version": "3.6.5"
  }
 },
 "nbformat": 4,
 "nbformat_minor": 2
}
