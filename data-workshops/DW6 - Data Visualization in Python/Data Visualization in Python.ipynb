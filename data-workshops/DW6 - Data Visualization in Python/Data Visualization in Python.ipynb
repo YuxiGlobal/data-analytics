{
 "cells": [
  {
   "cell_type": "markdown",
   "metadata": {},
   "source": [
    "# Data Visualization with Python (and auto generated Javascript)\n",
    "\n",
    "<div id=\"contents\"> </div> \n",
    "\n",
    "## Contents \n",
    "\n",
    " 1. [General Theory](#theory) \n",
    "    \n",
    "    1. [Review of Data Types](#data-types)\n",
    "       \n",
    "    1. [Key visual attributes](#visual-attribs)\n",
    "    \n",
    "    1. [Design criteria](#design-criteria)\n",
    "    \n",
    " 2. [Making plots with matplotlib](#matplotlib)\n",
    "  \n",
    " 3. [Interactive graphs in the web with Bokeh](#bokeh)\n",
    " \n",
    " 4. [Summary: Visualization DO's and DON'Ts](#dos-donts) \n",
    " \n",
    " 5. [Final Challenge](#final-challenge) \n",
    " \n",
    " 4. [References](#references)"
   ]
  },
  {
   "cell_type": "markdown",
   "metadata": {},
   "source": [
    "<div id=\"theory\">\n",
    "\n",
    "## 1. General Theory \n",
    "\n",
    "\n",
    "**Definition.** Visualization:  The visual representation of information. \n",
    "\n",
    "**Goals:**\n",
    "\n",
    "- Effective **communication** of information \n",
    "- **Clarity:** Easity to understand by a human\n",
    "- **Integrity:** Present all the data and nothing but the data.\n",
    "- Stimulate **viewer engagement**\n",
    "\n",
    "**Why**\n",
    "\n",
    "Takes advantage of the fact that the **human visual system is the highest bandwith channel** to the human brain.\n",
    "It takes fractions of a second to look at a computer screen that literally is outputing _millions of bits_ of information.\n",
    "\n",
    "### Data Visualization Methodology \n",
    "\n",
    "Data visualization at its core is no more than encoding _data attributes_ as _visual attributes_.\n",
    "This involves 2 steps: \n",
    "\n",
    "  1. Classify data types\n",
    "  2. Determine which visual attributes represent data types most effectively."
   ]
  },
  {
   "cell_type": "markdown",
   "metadata": {},
   "source": [
    "<div id=\"data-types\"> </div>\n",
    "\n",
    "### A. Review of Data types\n",
    "\n",
    "\n",
    "| **Data Type**          | **Example (s)**      | Operations supported                           | Notes                   |\n",
    "|------------------------|----------------------|------------------------------------------------|-------------------------|\n",
    "| Categorical - Nominal  | Genders (M, F, ...)  | `==`, `!=` (equality/inequality comparison)    |                         |\n",
    "| Categorical - Ordered  | Education Level      | `==`, `!=`, `<`, (order comparison)          | There is a notion of better |\n",
    "| Quantitive - Interval  |   Date, Latitude     |  `==`, `!=`, `<`, `-`                          | Zero is arbitrary       |\n",
    "| Quantitive - Ratio     |   Counts, Weights    |  `==`, `!=`, `<`, `-`, `/`                     | The zero is meaningful  |\n",
    "\n",
    "\n",
    "<div id=\"visual-attribs\"> </div>\n",
    "    \n",
    "### B. Key visual attributes \n",
    "\n",
    " The following are key visual attributes and their applicability to encode different types of variables \n",
    " ( Convention: **&#10004;** applies very well, &#10003; applies OK ) \n",
    " \n",
    " \n",
    " | Visual attribute   | Nominal      | Ordered      | Quantitative |\n",
    " |--------------------|--------------|--------------|-----------|\n",
    " | Position           | **&#10004;** | **&#10004;** | **&#10004;**  |\n",
    " | Size (length, area, volume) | **&#10004;** | **&#10004;** | **&#10004;**  | \n",
    " | Value (Lightness)  | **&#10004;** | **&#10004;** | &#10003;  |\n",
    " | Texture            | **&#10004;** |  &#10003;    |           |\n",
    " | Color              | **&#10004;** |  &#10003;    |           |\n",
    " | Orientation        | **&#10004;** | \n",
    " | Shape              | **&#10004;** |\n",
    "\n",
    "\n",
    "**Notes** \n",
    "\n",
    "Value (Lightness) works well for encoding ordered attributes: \n",
    "<img src=\"value_ordered.png\" /> \n",
    "\n",
    "\n",
    "Value (Lightness) works but not as well,  for encoding continuous quantitative attributes:\n",
    "<img src=\"value_continuous.png\" /> \n",
    "\n",
    "\n",
    "## How accurate is human perception for different attributes \n",
    "\n",
    "<img src=\"perception_accuracy.jpg\" width=\"640px\" height=\"640px\"/> \n",
    "\n",
    "Let's see this in action.\n",
    "\n",
    "<img src=\"angles_vs_lengths.png\" width=\"640px\" height=\"480px\" /> \n",
    "\n",
    "\n",
    "\n",
    "**Moral of the story**: Represent the most important variables by positions or lengths and then go down the ladder!"
   ]
  },
  {
   "cell_type": "markdown",
   "metadata": {},
   "source": [
    "[Back to contents](#contents)\n",
    "\n",
    "<div id=\"design-criteria\"> </div>\n",
    "\n",
    "## C. Design criteria\n",
    "\n",
    "### Effectiveness\n",
    "\n",
    "  - Fast to interpret for the viewer\n",
    "  - More distinctions\n",
    "  - Fewer errors of interpretation\n",
    "  \n",
    "  \n",
    "### Expressiveness / Consistency\n",
    "\n",
    "   - Encode _all_ the facts in the data and _only_ the facts "
   ]
  },
  {
   "cell_type": "markdown",
   "metadata": {},
   "source": [
    "### Example of an incorrect use of a bar chart...\n",
    "\n",
    "<img src=\"incorrect_bar_chart.png\" /> "
   ]
  },
  {
   "cell_type": "markdown",
   "metadata": {},
   "source": [
    "### 3D plots are cool, but... \n",
    "\n",
    "Can you tell where $E$ is relative to $D$?\n",
    "\n",
    "<img src=\"scatter_3d.png\" /> \n",
    "\n",
    "Here is a less cool but clearer alternative: \n",
    "\n",
    "<img src=\"scatter_3d_alternative.png/\" >\n",
    "\n",
    "\n",
    "### What's wrong with this one? \n",
    "\n",
    "<img src=\"pie_3D_exploded.png\" /> \n",
    "\n",
    "### What's wrong with the following plot? \n",
    "<img src=\"lying_3D.png\" width=\"400px\" height=\"600px\"/> "
   ]
  },
  {
   "cell_type": "markdown",
   "metadata": {},
   "source": [
    "\n",
    "### Moral of the story: beware of 3D plots!\n",
    " \n",
    " [back to contents](#contents) "
   ]
  },
  {
   "cell_type": "markdown",
   "metadata": {},
   "source": [
    "## Matplotlib\n",
    "\n",
    "Key points about matplotlib \n",
    "\n",
    "  - Probably the **oldest, most mature, extended and well understood**  data visualization library \n",
    "  - It belongs to the [PyData](https://pydata.org/downloads/) suite of libraries (together with `numpy`, `scipy`, `scikit-learn` and `pandas`)  \n",
    "  - The interface and look is heavily inspired in **Matlab's graphics functions**\n",
    "  - Its API follows a **procedural style**: one creates a plot and then adds elements to it, such as other data series, text labels, etc. This is opposed to the declarative style of creating graphics of other libraries which we will see below.\n",
    "  - The data manipulation library **pandas** uses matplotlib as its graphics backend.\n",
    "  - Doesn't produce the best / coolest looking plots out of the box. Significant fiddling is required for that...\n",
    "\n"
   ]
  },
  {
   "cell_type": "markdown",
   "metadata": {},
   "source": [
    "### Basic 2D line-plot with matplotlib "
   ]
  },
  {
   "cell_type": "code",
   "execution_count": 2,
   "metadata": {},
   "outputs": [],
   "source": [
    "# The following magic directive instructs the notebook to insert plots generated by matplotlib directly in the notebook\n",
    "# It is necessary for some versions of Jupyter notebook\n",
    "%matplotlib inline\n",
    "\n",
    "import numpy as np  # numpy is the default python library for working with vectors and matrices\n",
    "from matplotlib import pyplot as plt \n",
    "# This is a very standard import line.\n",
    "# It is an extended convention to alias the pyplot (sub)module as 'plt'"
   ]
  },
  {
   "cell_type": "code",
   "execution_count": 3,
   "metadata": {},
   "outputs": [
    {
     "data": {
      "text/plain": [
       "(numpy.ndarray, (20,), numpy.ndarray, (20,))"
      ]
     },
     "execution_count": 3,
     "metadata": {},
     "output_type": "execute_result"
    }
   ],
   "source": [
    "# Now we use numpy to generate some random data\n",
    "# random points as two one dimensional arrays\n",
    "x1 = np.linspace( -1.5, 1.5, num=20) # this creates a series of 20 uniformly spaced points between -1.5 and 1.5\n",
    "y1 = ( x1 - 1.0 ) * x1 * ( x1 +  1.0) # we compute a cubic function of x in a vectorized way!\n",
    "\n",
    "# Inspect what we just produced\n",
    "type(x1), x1.shape, type(y1), y1.shape"
   ]
  },
  {
   "cell_type": "code",
   "execution_count": 7,
   "metadata": {},
   "outputs": [
    {
     "data": {
      "text/plain": [
       "matplotlib.axes._subplots.AxesSubplot"
      ]
     },
     "execution_count": 7,
     "metadata": {},
     "output_type": "execute_result"
    },
    {
     "data": {
      "image/png": "[encoded data removed]",
      "text/plain": [
       "<Figure size 432x288 with 1 Axes>"
      ]
     },
     "metadata": {
      "needs_background": "light"
     },
     "output_type": "display_data"
    }
   ],
   "source": [
    "fig, ax  = plt.subplots()\n",
    "type( ax )"
   ]
  },
  {
   "cell_type": "code",
   "execution_count": 10,
   "metadata": {},
   "outputs": [
    {
     "data": {
      "text/plain": [
       "Text(0.5, 0, 'My x axis')"
      ]
     },
     "execution_count": 10,
     "metadata": {},
     "output_type": "execute_result"
    },
    {
     "data": {
      "image/png": "[encoded data removed]",
      "text/plain": [
       "<Figure size 432x288 with 1 Axes>"
      ]
     },
     "metadata": {
      "needs_background": "light"
     },
     "output_type": "display_data"
    }
   ],
   "source": [
    "fig, ax  = plt.subplots()\n",
    "ax.plot( x1, y1 )\n",
    "ax.set_title( 'A cubic function!')\n",
    "ax.set_xlabel( 'My x axis') # Always, always, always label your axes!\n"
   ]
  },
  {
   "cell_type": "markdown",
   "metadata": {},
   "source": [
    "**Exercise 1:**\n",
    "\n",
    "Put a label in on the y-axis. Guess the command for this. If you can't guess, look in the internet."
   ]
  },
  {
   "cell_type": "markdown",
   "metadata": {},
   "source": [
    "### Styling your plot with a format string"
   ]
  },
  {
   "cell_type": "markdown",
   "metadata": {},
   "source": [
    "A quick way to specify styling information (such as color, line style and marker type) is to add a **format string** argument to the call to `plt.plot`, like so:  "
   ]
  },
  {
   "cell_type": "code",
   "execution_count": 11,
   "metadata": {},
   "outputs": [
    {
     "data": {
      "text/plain": [
       "[<matplotlib.lines.Line2D at 0x1ad6efdfeb8>]"
      ]
     },
     "execution_count": 11,
     "metadata": {},
     "output_type": "execute_result"
    },
    {
     "data": {
      "image/png": "[encoded data removed]",
      "text/plain": [
       "<Figure size 432x288 with 1 Axes>"
      ]
     },
     "metadata": {
      "needs_background": "light"
     },
     "output_type": "display_data"
    }
   ],
   "source": [
    "fig, ax  = plt.subplots()\n",
    "ax.plot( x1, y1, 'ro:' )\n"
   ]
  },
  {
   "cell_type": "markdown",
   "metadata": {},
   "source": [
    "Here is a summary of what you need to know about format strings: \n",
    "  - The first character in the format string, controls the **color** (of both the line and the markers). There are eight single letter colors that can be specified with a single character (see [here](https://matplotlib.org/examples/color/named_colors.html) or [here](https://matplotlib.org/2.0.2/api/colors_api.html) for details). To access the whole RGB color spectrum, you can us the separate argument `color` (see below) \n",
    "  - The second che second character is the shape of the **marker** (filled circles in this case, one for each original point). All possibilities for markers are documented [here](https://matplotlib.org/api/markers_api.html)\n",
    "  - The third controls the style of the line connecting markers: https://matplotlib.org/gallery/lines_bars_and_markers/linestyles.html"
   ]
  },
  {
   "cell_type": "code",
   "execution_count": 18,
   "metadata": {},
   "outputs": [
    {
     "data": {
      "text/plain": [
       "[<matplotlib.lines.Line2D at 0x1ad6f8239b0>]"
      ]
     },
     "execution_count": 18,
     "metadata": {},
     "output_type": "execute_result"
    },
    {
     "data": {
      "image/png": "[encoded data removed]",
      "text/plain": [
       "<Figure size 432x288 with 1 Axes>"
      ]
     },
     "metadata": {
      "needs_background": "light"
     },
     "output_type": "display_data"
    }
   ],
   "source": [
    "# Example: Using optional arguments color, linestyle, fillstyle, markersize, etc.\n",
    "# More control requires more typing ... There is no way around it!\n",
    "fig, ax = plt.subplots() \n",
    "ax.plot( x1, y1, \n",
    "         color='DarkGreen', # for a list of named colors go here: https://matplotlib.org/examples/color/named_colors.html\n",
    "         marker='$\\heartsuit$',  # This uses TeX control sequences to specify the marker...\n",
    "         markersize=20,\n",
    "         alpha=0.7, # a bit of transparency          \n",
    "         linestyle='none', # No line connecting the markers\n",
    "         )"
   ]
  },
  {
   "cell_type": "markdown",
   "metadata": {},
   "source": [
    "### Vertical Bars\n",
    "\n",
    "A simple bar plot can be produced like so."
   ]
  },
  {
   "cell_type": "code",
   "execution_count": null,
   "metadata": {},
   "outputs": [],
   "source": [
    "fig, ax = plt.subplots() \n",
    "\n",
    "x2 = np.arange(0, len(y1)) # just an array [0, 1, 2, ..., len(y) - 1]\n",
    "\n",
    "ax.set_xticks( x2[::2] ) # put ticks every other value of x...\n",
    "ax.set_yticks( np.linspace(-2, 2, num=5) )\n",
    "\n",
    "ax.bar( x2, y1, width=0.8, \n",
    "        color='SkyBlue', \n",
    "        edgecolor='DarkBlue',\n",
    "        linewidth=2 # width of the bar edges. Should be 'edgewidth' but such is life.... \n",
    "      )\n"
   ]
  },
  {
   "cell_type": "markdown",
   "metadata": {},
   "source": [
    "**Exercise:**\n",
    "\n",
    "In the code cell below complete the code to produce a chart like the following: \n",
    "\n",
    "<img src=\"avg_scores_women_men.png\" />"
   ]
  },
  {
   "cell_type": "code",
   "execution_count": null,
   "metadata": {},
   "outputs": [],
   "source": [
    "women_means = (20, 35, 30, 35, 27)\n",
    "men_means = (25, 32, 34, 20, 25)\n",
    "\n",
    "ind = np.arange(len(men_means))  # the x locations for the groups\n",
    "width = 0.35  # the width of the bars\n",
    "### Your code below this line\n",
    "# Hint you can call ax.bar( ... ) twice, once for women and once for men \n",
    "\n",
    "\n",
    "\n",
    "\n",
    "### Your code above this line. No need to touch the following\n",
    "ax.set_ylabel('Avg. Scores')\n",
    "ax.set_title('Avg. Scores by group and gender')\n",
    "ax.set_xticks(ind)\n",
    "ax.set_xticklabels(('G1', 'G2', 'G3', 'G4', 'G5'))\n",
    "ax.legend()"
   ]
  },
  {
   "cell_type": "markdown",
   "metadata": {},
   "source": [
    "### Horizontal Bars"
   ]
  },
  {
   "cell_type": "code",
   "execution_count": null,
   "metadata": {},
   "outputs": [],
   "source": [
    "fig, ax = plt.subplots( figsize=(6,10) ) # set figure size in inches :( \n",
    "\n",
    "xh = np.arange( 0, 17 ) \n",
    "yh = abs(y1)[:17] * 50 \n",
    "\n",
    "ax.set_yticks( xh )\n",
    "states = [ 'Antioquia', 'Bolivar', 'Caldas', 'Magdalena', 'Cundinamarca', \n",
    "           'Cesar', 'Córdoba', 'Arauca', 'Amazonas', 'Guanía', 'Putumayo', 'Santander', 'Tolima', 'Huila', \n",
    "           'Boyacá', 'Choco', 'Nariño']\n",
    "ax.set_yticklabels( states ) \n",
    "ax.barh( xh, yh, \n",
    "         color='mediumseagreen', \n",
    "         edgecolor='darkgreen', \n",
    "         linewidth=2 # width of the bar edges. Should be 'edgewidth' but such is life....\n",
    "       )\n",
    "\n",
    "ax.set_xlabel('Percentage of cool developers')\n"
   ]
  },
  {
   "cell_type": "markdown",
   "metadata": {},
   "source": [
    "## Pie plots\n",
    "\n",
    "Some of the simplest kinds of plots. For that reason they are pretty much on every dashboard...\n"
   ]
  },
  {
   "cell_type": "code",
   "execution_count": null,
   "metadata": {},
   "outputs": [],
   "source": [
    "fig, ax = plt.subplots( figsize=(10,8)) \n",
    "\n",
    "n_slices = 10 \n",
    "np.random.seed( 1337 )\n",
    "slice_sizes = np.random.uniform( 0, 10, n_slices ) \n",
    "print( \"slice_sizes = %s\" % slice_sizes )\n",
    "# assignment to token variable _ is a trick to avoid seen some trash output\n",
    "_ = ax.pie( slice_sizes, \n",
    "            labels=states[:n_slices], \n",
    "            autopct=\"%.1f%%\",\n",
    "            shadow=True # a touch of 'fine coquetteness'            \n",
    "          ) "
   ]
  },
  {
   "cell_type": "markdown",
   "metadata": {},
   "source": [
    "**Exercise:** \n",
    "The choice of colors of the line above leave much to be desired... \n",
    "The situation can be improved considerably by simply using one of the predesigned colormaps.\n",
    "As shown below. \n",
    "\n",
    "Experiment using other colormap names instead of `'tab20c'` used below. \n",
    "For available colormaps go here: \n",
    "\n",
    "https://matplotlib.org/examples/color/colormaps_reference.html\n"
   ]
  },
  {
   "cell_type": "code",
   "execution_count": null,
   "metadata": {},
   "outputs": [],
   "source": [
    "fig, ax = plt.subplots( figsize=(10,8)) \n",
    "\n",
    "n_slices = 10 \n",
    "np.random.seed( 1337 )\n",
    "slice_sizes = np.random.uniform( 0, 10, n_slices ) \n",
    "\n",
    "color_map = plt.get_cmap('tab20c')\n",
    "\n",
    "_ = ax.pie( slice_sizes, \n",
    "            labels=states[:n_slices], \n",
    "            autopct=\"%.1f%%\", #controls the formatting of the string that shows the percentage, e.g. '11.2%'\n",
    "            shadow=True,  # a touch of 'fine coquetteness',\n",
    "            colors = color_map.colors   \n",
    "          ) "
   ]
  },
  {
   "cell_type": "markdown",
   "metadata": {},
   "source": [
    "Let's take a brief look at what color_map.colors actually holds..."
   ]
  },
  {
   "cell_type": "code",
   "execution_count": null,
   "metadata": {},
   "outputs": [],
   "source": [
    "color_map.colors[ :5 ]"
   ]
  },
  {
   "cell_type": "markdown",
   "metadata": {},
   "source": [
    "**Conclusion:** You can define your own list of colors, as a list of `(r,g,b)`-tuples where each of `r`, `b` and `g` are in the interval `[0.0, 1.0]`, `1.0` translates to 255 in the regular RGB scale. However, bear in mind that defining a nice colormap is a tricky business, better left to professionals... Unless you are a graphic design Ninja, go with one of the predefined ones (just avoid the deafault which, as we have seen, is pretty jucky!) "
   ]
  },
  {
   "cell_type": "markdown",
   "metadata": {},
   "source": [
    "### A scatter plot\n",
    "\n",
    "Scatter plots are somewhat similar to regular 2D plots, except that they should be preferred when the relationshiop between the two main variables is not a simple function or there is significant randomness involved. \n"
   ]
  },
  {
   "cell_type": "code",
   "execution_count": null,
   "metadata": {},
   "outputs": [],
   "source": [
    "fig, ax = plt.subplots( figsize=(10,7) )\n",
    "\n",
    "num_points = 500 \n",
    "xs = np.linspace( 0, 1, num_points )\n",
    "# A trend plus some noise. Recall ** stands for exponentiation in python:\n",
    "ys = ( xs - 0.3 ) ** 2 + np.random.normal( 0, 0.1, num_points )  \n",
    "\n",
    "ax.scatter( xs, ys,\n",
    "            s = 4, # this controls the size (in 'points', by default graphs are produced at 72 dpi) \n",
    "            color='green' ) "
   ]
  },
  {
   "cell_type": "markdown",
   "metadata": {},
   "source": [
    "**Exercise: Adding a trend line**\n",
    "\n",
    "Copy the code from the previous code cell into the empty cell below and add\n",
    "the following two lines, just before the call to scatter.\n"
   ]
  },
  {
   "cell_type": "code",
   "execution_count": null,
   "metadata": {},
   "outputs": [],
   "source": [
    "ys_trend = (xs - 0.3) ** 2 \n",
    "ax.plot( xs, ys_trend, 'r-')"
   ]
  },
  {
   "cell_type": "code",
   "execution_count": null,
   "metadata": {},
   "outputs": [],
   "source": [
    "#Empty box....\n",
    "\n"
   ]
  },
  {
   "cell_type": "code",
   "execution_count": 19,
   "metadata": {},
   "outputs": [],
   "source": [
    "fig.savefig( \"scatter_and_trend.png\" )  # beware the this will save the figure last assigned to variable 'fig'"
   ]
  },
  {
   "cell_type": "markdown",
   "metadata": {},
   "source": [
    "**Exercise: Colorblind-awareness** \n",
    "\n",
    "The previous plot is not very nice to (some) color-blind people who confuse red and green. To see this, save the plot to a  \n",
    "file with the `savefig` command shown below, then go to  https://www.color-blindness.com/coblis-color-blindness-simulator/, upload the file, and pick either 'Protanopia', 'Deuteranopia'. What do you notice? \n",
    "\n",
    "Now redo the plot above with orange points (use color = 'orangered' for better contrast) and a blue line.  Save it to `'scatter_trend_v2.png'`\n",
    "\n",
    "<img src=\"scatter_colorblind.png\" width=\"480px\" height=\"240px\" />\n"
   ]
  },
  {
   "cell_type": "code",
   "execution_count": null,
   "metadata": {},
   "outputs": [],
   "source": [
    "#Your code:\n",
    "\n",
    "\n",
    "\n"
   ]
  },
  {
   "cell_type": "markdown",
   "metadata": {},
   "source": [
    "### Bubble plots\n",
    "\n",
    "Bubble plots are simple variation of scatter plots in which we represent another dimension (variable) through the size of each marker"
   ]
  },
  {
   "cell_type": "code",
   "execution_count": null,
   "metadata": {},
   "outputs": [],
   "source": [
    "# Import some data. \n",
    "# Data was taken from \n",
    "# https://raw.githubusercontent.com/armando-fandango/Python-Data-Analysis/master/Chapter03/WHO_first9cols.csv\n",
    "\n",
    "import pandas as pd\n",
    "df0 = pd.read_csv( 'WHO_first9cols.csv')\n",
    "# redefine column names for more pleasant coding\n",
    "df0  # a cursory look a the data "
   ]
  },
  {
   "cell_type": "code",
   "execution_count": null,
   "metadata": {},
   "outputs": [],
   "source": [
    "df0.columns = ['country',\n",
    " 'country_id',\n",
    " 'continent',\n",
    " 'adolescent_fertility',\n",
    " 'literacy_rate',\n",
    " 'gross_income_pc',\n",
    " 'prim_enrolment_fema',\n",
    " 'prim_enrolment_male',\n",
    " 'population']"
   ]
  },
  {
   "cell_type": "code",
   "execution_count": null,
   "metadata": {},
   "outputs": [],
   "source": [
    "num_countries = 20\n",
    "df = df0.sort_values( 'population', ascending=False )\n",
    "df = df[:num_countries] # Filter 30 biggest countries \n",
    "df = df[ ~df['population'].isna() & ~df['gross_income_pc'].isna() & ~df['literacy_rate'].isna() ]"
   ]
  },
  {
   "cell_type": "code",
   "execution_count": null,
   "metadata": {},
   "outputs": [],
   "source": [
    "df"
   ]
  },
  {
   "cell_type": "code",
   "execution_count": null,
   "metadata": {},
   "outputs": [],
   "source": [
    "fig, ax = plt.subplots( figsize=(10,7) )\n",
    "\n",
    "ax.scatter( df['literacy_rate'], \n",
    "            df['gross_income_pc'], \n",
    "            s = df['population'] / 100.0, # this controls the size (in pixels) -- could be an array, see below\n",
    "            alpha = 0.5, \n",
    "            color='darkorchid' )\n",
    "\n",
    "## This is how to add text labels at specific points in a plot!\n",
    "for i in range( len(df) ):\n",
    "    ax.text( x= df['literacy_rate'].iloc[i], y=df['gross_income_pc'].iloc[i], s=df['country'].iloc[i])\n",
    "\n",
    "ax.set_title( 'A bubble plot exploring the (somewhat weak)\\n relation between literacy and income',\n",
    "              fontsize=20)\n",
    "ax.set_xlabel( 'Adult Literacy rate [%]') \n",
    "ax.set_ylabel( 'Gross national income per capita (USD)')\n",
    "#ax.set_subtitle( 'Bubble size represents population' )"
   ]
  },
  {
   "cell_type": "markdown",
   "metadata": {},
   "source": [
    "**Reflection**\n",
    "\n",
    "In the graph above, does it look that the _radius_ of India's bubble is the 11 times that of Mexico's. Should be so? Look at the `help( ax.scatter )`  to see what the size parameter `s` actually controls. Why is it so? \n"
   ]
  },
  {
   "cell_type": "markdown",
   "metadata": {},
   "source": [
    "**Exercise:** Encoding 4 variables at once!\n",
    "    \n",
    "The previous plot show how it is easy possible to encode 3 variables at once\n",
    "(adult literacy rate, income, and population) through different attributes (x-pos, y-pos, and bubble size, respectively).  \n",
    "\n",
    "This exercise is visualizing one more variable, for a total of 4 at the same time.\n",
    "\n",
    "**Your mission** (to be accomplished in the next code cell) is to color each bubble according to the column `df['continent']`*\n",
    "\n",
    "Notice that, although represented by a number, `continent` is really a categorical or quantitative variable (continents have no intrinsic order). \n",
    "Thus you need to choose a color map accordingly. \n",
    "\n",
    "Here are the built-in colormaps: https://matplotlib.org/examples/color/colormaps_reference.html\n",
    "\n",
    "The final plot should look like the following:\n",
    "<img src=\"colored_bubbles1.png\" width=\"500px\" height=\"350px\" />\n",
    "\n",
    "Note: The particular choice of colors is not important. The important thing is that countries belonging to the same continent are represented by the same color and countries in different."
   ]
  },
  {
   "cell_type": "code",
   "execution_count": null,
   "metadata": {},
   "outputs": [],
   "source": [
    "color_map = None #YOUR CODE HERE: Change None to code that gets a color map here. Hint: Use plt.get_cmap as was done in an exercise above\n",
    "\n",
    "fig, ax = plt.subplots( figsize=(10,7) )\n",
    "\n",
    "ax.scatter( df['literacy_rate'], \n",
    "            df['gross_income_pc'], \n",
    "            s = df['population'] / 100.0, # this controls the size (in pixels) -- could be an array, see below\n",
    "            color = None, # YOUR CODE HERE: use your color map here to get colors. \n",
    "                          # HINT: a color map can be called, even on a whole vector/column of data, as it if were a function... \n",
    "                          # For more info see: https://matplotlib.org/tutorials/colors/colormap-manipulation.html#sphx-glr-tutorials-colors-colormap-manipulation-py\n",
    "           \n",
    "            alpha = None # YOUR CODE HERE: make sure to use a value of alpha that doesn't cause any funny blending of colors \n",
    "                        # that might confuse the chart's consumer...\n",
    "          )\n",
    "\n",
    "## This is how to add text labels at specific points in a plot!\n",
    "for i in range( len(df) ):\n",
    "    ax.text( x=df['literacy_rate'].iloc[i], \n",
    "             y=df['gross_income_pc'].iloc[i], s=df['country'].iloc[i])\n",
    "\n",
    "ax.set_title( 'A bubble plot exploring the (somewhat weak)\\n relation between literacy and income',\n",
    "              fontsize=20)\n",
    "ax.set_xlabel( 'Adult Literacy rate [%]') \n",
    "ax.set_ylabel( 'Gross national income per capita (USD)')\n"
   ]
  },
  {
   "cell_type": "markdown",
   "metadata": {},
   "source": [
    "[back to contents](#contents) \n",
    "\n",
    "<div id=\"bokeh\"></div>\n",
    "\n",
    "\n",
    "## Interactive and web-embedded plots with bokeh"
   ]
  },
  {
   "cell_type": "code",
   "execution_count": 23,
   "metadata": {},
   "outputs": [],
   "source": [
    "import bokeh\n",
    "from bokeh.plotting import figure, output_file, show, output_notebook, reset_output"
   ]
  },
  {
   "cell_type": "code",
   "execution_count": null,
   "metadata": {},
   "outputs": [],
   "source": [
    "# IMPORTANT: You might need to run this cell twice for the plot to show!\n",
    "\n",
    "output_notebook()\n",
    "p = figure(title='Simple Line Example', x_axis_label='x', y_axis_label='y')\n",
    "p.line( x1, y1, legend=\"Temp.\", line_width=2)\n",
    "show(p) "
   ]
  },
  {
   "cell_type": "code",
   "execution_count": null,
   "metadata": {},
   "outputs": [],
   "source": [
    "# Same example\n",
    "reset_output( )\n",
    "output_file( \"line.html\" )\n",
    "p = figure(title='Simple Line Example now in self-contained file!', x_axis_label='x', y_axis_label='y')\n",
    "p.line( x1, y1, legend=\"Temp.\", line_width=2)\n",
    "show(p)"
   ]
  },
  {
   "cell_type": "code",
   "execution_count": null,
   "metadata": {},
   "outputs": [],
   "source": [
    "reset_output()\n",
    "output_notebook() \n",
    "\n",
    "p = figure(plot_width=600, plot_height=400,\n",
    "           title=None, toolbar_location=\"below\")\n",
    "\n",
    "p.circle( xs, ys, size=2, color='orangered' )\n",
    "p.line( xs, ys_trend, color='blue' )\n",
    "show( p )"
   ]
  },
  {
   "cell_type": "markdown",
   "metadata": {},
   "source": [
    "## Bar plot"
   ]
  },
  {
   "cell_type": "code",
   "execution_count": null,
   "metadata": {},
   "outputs": [],
   "source": [
    "p = figure(plot_width=600, plot_height=400,\n",
    "           title=None, toolbar_location=\"right\")\n",
    "\n",
    "p.vbar( x=np.arange(0,len(y2)), top=y2, \n",
    "        width=1.0,  # bars' width\n",
    "        color='firebrick', \n",
    "        alpha=0.8, \n",
    "        line_width=2,\n",
    "        line_color='black')\n",
    "\n",
    "show(p)"
   ]
  },
  {
   "cell_type": "code",
   "execution_count": null,
   "metadata": {},
   "outputs": [],
   "source": [
    "from math import pi \n",
    "\n",
    "n_slices = 8\n",
    "np.random.seed( 1337 )\n",
    "slice_sizes = np.random.uniform( 0, 10, n_slices )  # Any set of random numbers\n",
    "slice_angles = slice_sizes / sum( slice_sizes ) * 2 * pi   # Now they add up to 2*pi\n"
   ]
  },
  {
   "cell_type": "code",
   "execution_count": null,
   "metadata": {},
   "outputs": [],
   "source": [
    "end_angles   = list( np.cumsum( slice_angles ) ) # take cummulative sums but drop the last one\n",
    "start_angles = [ 0.0 ] + list( np.cumsum( slice_angles )[:-1] )  \n",
    "# same as end-angles but drop the last one and push 0 at the beginning\n",
    "\n",
    "list( zip( start_angles, end_angles ) ) "
   ]
  },
  {
   "cell_type": "code",
   "execution_count": null,
   "metadata": {},
   "outputs": [],
   "source": [
    "p = figure(plot_width=500, plot_height=500,\n",
    "           title=None, toolbar_location=\"right\")\n",
    "\n",
    "p.xaxis.visible=False \n",
    "p.yaxis.visible=False\n",
    "p.xgrid.visible=False\n",
    "p.ygrid.visible=False\n",
    "\n",
    "p.annular_wedge(            \n",
    "    start_angle = start_angles,\n",
    "    end_angle = end_angles,         \n",
    "    inner_radius = 0.5, \n",
    "    outer_radius = 1.0,\n",
    "    x=0, y=0,\n",
    "    alpha=0.8, \n",
    "    line_width=0,\n",
    "    line_color='black') \n",
    "\n",
    "show(p)"
   ]
  },
  {
   "cell_type": "markdown",
   "metadata": {},
   "source": [
    "### Now  add labels to the slices"
   ]
  },
  {
   "cell_type": "code",
   "execution_count": null,
   "metadata": {},
   "outputs": [],
   "source": [
    "r * np.cos(middle_angles), "
   ]
  },
  {
   "cell_type": "code",
   "execution_count": null,
   "metadata": {},
   "outputs": [],
   "source": [
    "help( p.add_layout )"
   ]
  },
  {
   "cell_type": "markdown",
   "metadata": {},
   "source": [
    "<div id=\"annular-pie-plot\"></div>\n",
    "\n",
    "### Bokeh annular pie-plot v. 2.0 (adding colors and labels)"
   ]
  },
  {
   "cell_type": "markdown",
   "metadata": {},
   "source": [
    "To add colors we import a paltette (dictionary) "
   ]
  },
  {
   "cell_type": "code",
   "execution_count": null,
   "metadata": {},
   "outputs": [],
   "source": [
    "from bokeh.palettes import Category20c\n",
    "\n",
    "# Category20c  is dictionary (mapping) a number of elements n to a set of n colors \n",
    "# Example: \n",
    "Category20c[5]"
   ]
  },
  {
   "cell_type": "code",
   "execution_count": null,
   "metadata": {},
   "outputs": [],
   "source": [
    "from bokeh.models import LabelSet \n",
    "\n",
    "p = figure(plot_width=500, plot_height=500,\n",
    "           title=None, toolbar_location=\"right\")\n",
    "\n",
    "p.xaxis.visible=False \n",
    "p.yaxis.visible=False\n",
    "p.xgrid.visible=False\n",
    "p.ygrid.visible=False\n",
    "\n",
    "p.annular_wedge(            \n",
    "    start_angle = start_angles,\n",
    "    end_angle = end_angles,         \n",
    "    inner_radius = 0.5, \n",
    "    outer_radius = 1.0,\n",
    "    color=Category20c[ len(start_angles) ],\n",
    "    x=0, y=0,\n",
    "    alpha=0.8, \n",
    "    line_width=0,\n",
    "    line_color='black') \n",
    "\n",
    "\n",
    "r = 0.7 \n",
    "middle_angles = ( np.array( start_angles )  + np.array( end_angles ) ) / 2.0 \n",
    "\n",
    "# We create a 'DataSource' to get text strings and x,y coordinates to label the dataset.\n",
    "labels_source = ColumnDataSource( {'x' : r * np.cos(middle_angles),\n",
    "                                   'y' : r * np.sin(middle_angles),\n",
    "                                   'text' : states[:n_slices] })\n",
    "\n",
    "labels = LabelSet(x = 'x' , y =  'y', text = 'text', level='glyph',\n",
    "                  source = labels_source,\n",
    "                  x_offset=-3, y_offset=5) #, render_mode='canvas')\n",
    "\n",
    "p.add_layout( labels, place='center' )\n",
    "\n",
    "show(p)"
   ]
  },
  {
   "cell_type": "markdown",
   "metadata": {},
   "source": [
    "### Bubble plot"
   ]
  },
  {
   "cell_type": "code",
   "execution_count": null,
   "metadata": {},
   "outputs": [],
   "source": [
    "p = figure(plot_width=600, plot_height=400,\n",
    "           title=None, toolbar_location=\"below\")\n",
    "\n",
    "p.circle( x=df['literacy_rate'], \n",
    "          y=df['gross_income_pc'], \n",
    "          size=df['population'] / 10000.0 , \n",
    "          alpha=0.5, \n",
    "          color='darkorchid' ) \n",
    "\n",
    "\n",
    "show( p )"
   ]
  },
  {
   "cell_type": "markdown",
   "metadata": {},
   "source": [
    "**Exercise:**  set the axis labels in the previous plot.  Beware that this is not done in the same way as in matplolib. \n",
    "The API is a bit different! See how we did it in the previous bokeh example"
   ]
  },
  {
   "cell_type": "markdown",
   "metadata": {},
   "source": [
    "**Exercise** Notice how the relative sizes of the bubbles are not the same as before... This is because bokeh takes the size argument as an indication of the _radius_ of the circle, not the area, as matplotlib does.\n",
    "\n",
    "The solution is to apply the function `np.sqrt` to the argument passed to the parameter `size`. Do it!\n",
    "Also play a little with the factor  `10000.0` we are dividing by, to get the sizes of the bubbles to approximately match what we had before."
   ]
  },
  {
   "cell_type": "markdown",
   "metadata": {},
   "source": [
    "### Now with Tooltips!"
   ]
  },
  {
   "cell_type": "code",
   "execution_count": 25,
   "metadata": {},
   "outputs": [
    {
     "ename": "NameError",
     "evalue": "name 'df' is not defined",
     "output_type": "error",
     "traceback": [
      "\u001b[1;31m---------------------------------------------------------------------------\u001b[0m",
      "\u001b[1;31mNameError\u001b[0m                                 Traceback (most recent call last)",
      "\u001b[1;32m<ipython-input-25-7331e0ecf17b>\u001b[0m in \u001b[0;36m<module>\u001b[1;34m\u001b[0m\n\u001b[0;32m      3\u001b[0m \u001b[0moutput_file\u001b[0m\u001b[1;33m(\u001b[0m \u001b[1;34m'bubbles.html'\u001b[0m \u001b[1;33m)\u001b[0m\u001b[1;33m\u001b[0m\u001b[0m\n\u001b[0;32m      4\u001b[0m data_source = ColumnDataSource( {\n\u001b[1;32m----> 5\u001b[1;33m   \u001b[1;34m'literacy_rate'\u001b[0m \u001b[1;33m:\u001b[0m \u001b[0mdf\u001b[0m\u001b[1;33m[\u001b[0m\u001b[1;34m'literacy_rate'\u001b[0m\u001b[1;33m]\u001b[0m\u001b[1;33m,\u001b[0m\u001b[1;33m\u001b[0m\u001b[0m\n\u001b[0m\u001b[0;32m      6\u001b[0m   \u001b[1;34m'gross_income_pc'\u001b[0m \u001b[1;33m:\u001b[0m \u001b[0mdf\u001b[0m\u001b[1;33m[\u001b[0m\u001b[1;34m'gross_income_pc'\u001b[0m\u001b[1;33m]\u001b[0m\u001b[1;33m,\u001b[0m\u001b[1;33m\u001b[0m\u001b[0m\n\u001b[0;32m      7\u001b[0m   \u001b[1;34m'country'\u001b[0m \u001b[1;33m:\u001b[0m  \u001b[0mdf\u001b[0m\u001b[1;33m[\u001b[0m\u001b[1;34m'country'\u001b[0m\u001b[1;33m]\u001b[0m\u001b[1;33m,\u001b[0m\u001b[1;33m\u001b[0m\u001b[0m\n",
      "\u001b[1;31mNameError\u001b[0m: name 'df' is not defined"
     ]
    }
   ],
   "source": [
    "from bokeh.models import HoverTool, ColumnDataSource\n",
    "\n",
    "output_file( 'bubbles.html' )\n",
    "data_source = ColumnDataSource( {\n",
    "  'literacy_rate' : df['literacy_rate'],\n",
    "  'gross_income_pc' : df['gross_income_pc'],\n",
    "  'country' :  df['country'],\n",
    "  'population' : df['population'],\n",
    "  'sqrt_population' : np.sqrt( df['population'] / 100.0 ),\n",
    "  'adolescent_fertility' : df['adolescent_fertility'],\n",
    "  'prim_enrolment_fema' : df['prim_enrolment_fema'],\n",
    "  'prim_enrolment_male' : df['prim_enrolment_male'],    \n",
    "} )\n",
    "\n",
    "p = figure(plot_width=600, plot_height=400,\n",
    "           title=None, toolbar_location=\"below\",\n",
    "           tools= \"crosshair,pan,wheel_zoom,box_zoom,reset,box_select,lasso_select\"\n",
    "          )\n",
    "\n",
    "p.circle(x='literacy_rate', y='gross_income_pc', size='sqrt_population', \n",
    "         color='#ebbd5b', alpha=0.7,\n",
    "         source=data_source)\n",
    "\n",
    "p.add_tools(HoverTool(\n",
    "    tooltips=[\n",
    "        ( 'Country Name:',   '@country' ),\n",
    "        ( 'Literacy Rate',   '@literacy_rate{%s}%'  ),\n",
    "        ( 'Population',      '@{population}m'  ),\n",
    "        ( 'Gross Income Per Capita',  '$@{gross_income_pc}{%0.0f} USD' ), \n",
    "        ( 'Primary Edu. Enrollment',  'M: @{prim_enrolment_fema}{%s}%, F: @{prim_enrolment_male}{%s}%' ), \n",
    "       \n",
    "    ],\n",
    "\n",
    "    formatters={        \n",
    "        'literacy_rate'   : 'printf', \n",
    "        'gross_income_pc' : 'printf', \n",
    "            # use default 'numeral' formatter for other fields\n",
    "    },\n",
    "    # display a tooltip whenever the cursor is vertically in line with a glyph\n",
    "    # mode='vline'\n",
    "))\n",
    "\n",
    "show(p)\n"
   ]
  },
  {
   "cell_type": "markdown",
   "metadata": {},
   "source": [
    "Notice there are three new tools in the plot above. \n",
    "\n",
    "_Click on each to activate it and try it out!!_\n",
    "\n",
    "\n",
    " - **Lasso select**: (second position)  Let's you select a few of the bubbles.\n",
    " - **cross-hair**: shows vertical and horizontal lines to easily see what your $x$ and $y$ coordinates are.\n",
    " - **Hover**: displays tool tips / textual information about each bubble under your cursor.\n",
    " "
   ]
  },
  {
   "cell_type": "markdown",
   "metadata": {},
   "source": [
    "### Changing parameters interactively!"
   ]
  },
  {
   "cell_type": "code",
   "execution_count": 26,
   "metadata": {},
   "outputs": [
    {
     "data": {
      "text/html": [
       "\n",
       "    <div class=\"bk-root\">\n",
       "        <a href=\"https://bokeh.pydata.org\" target=\"_blank\" class=\"bk-logo bk-logo-small bk-logo-notebook\"></a>\n",
       "        <span id=\"1002\">Loading BokehJS ...</span>\n",
       "    </div>"
      ]
     },
     "metadata": {},
     "output_type": "display_data"
    },
    {
     "data": {
      "application/javascript": [
       "\n",
       "(function(root) {\n",
       "  function now() {\n",
       "    return new Date();\n",
       "  }\n",
       "\n",
       "  var force = true;\n",
       "\n",
       "  if (typeof (root._bokeh_onload_callbacks) === \"undefined\" || force === true) {\n",
       "    root._bokeh_onload_callbacks = [];\n",
       "    root._bokeh_is_loading = undefined;\n",
       "  }\n",
       "\n",
       "  var JS_MIME_TYPE = 'application/javascript';\n",
       "  var HTML_MIME_TYPE = 'text/html';\n",
       "  var EXEC_MIME_TYPE = 'application/vnd.bokehjs_exec.v0+json';\n",
       "  var CLASS_NAME = 'output_bokeh rendered_html';\n",
       "\n",
       "  /**\n",
       "   * Render data to the DOM node\n",
       "   */\n",
       "  function render(props, node) {\n",
       "    var script = document.createElement(\"script\");\n",
       "    node.appendChild(script);\n",
       "  }\n",
       "\n",
       "  /**\n",
       "   * Handle when an output is cleared or removed\n",
       "   */\n",
       "  function handleClearOutput(event, handle) {\n",
       "    var cell = handle.cell;\n",
       "\n",
       "    var id = cell.output_area._bokeh_element_id;\n",
       "    var server_id = cell.output_area._bokeh_server_id;\n",
       "    // Clean up Bokeh references\n",
       "    if (id != null && id in Bokeh.index) {\n",
       "      Bokeh.index[id].model.document.clear();\n",
       "      delete Bokeh.index[id];\n",
       "    }\n",
       "\n",
       "    if (server_id !== undefined) {\n",
       "      // Clean up Bokeh references\n",
       "      var cmd = \"from bokeh.io.state import curstate; print(curstate().uuid_to_server['\" + server_id + \"'].get_sessions()[0].document.roots[0]._id)\";\n",
       "      cell.notebook.kernel.execute(cmd, {\n",
       "        iopub: {\n",
       "          output: function(msg) {\n",
       "            var id = msg.content.text.trim();\n",
       "            if (id in Bokeh.index) {\n",
       "              Bokeh.index[id].model.document.clear();\n",
       "              delete Bokeh.index[id];\n",
       "            }\n",
       "          }\n",
       "        }\n",
       "      });\n",
       "      // Destroy server and session\n",
       "      var cmd = \"import bokeh.io.notebook as ion; ion.destroy_server('\" + server_id + \"')\";\n",
       "      cell.notebook.kernel.execute(cmd);\n",
       "    }\n",
       "  }\n",
       "\n",
       "  /**\n",
       "   * Handle when a new output is added\n",
       "   */\n",
       "  function handleAddOutput(event, handle) {\n",
       "    var output_area = handle.output_area;\n",
       "    var output = handle.output;\n",
       "\n",
       "    // limit handleAddOutput to display_data with EXEC_MIME_TYPE content only\n",
       "    if ((output.output_type != \"display_data\") || (!output.data.hasOwnProperty(EXEC_MIME_TYPE))) {\n",
       "      return\n",
       "    }\n",
       "\n",
       "    var toinsert = output_area.element.find(\".\" + CLASS_NAME.split(' ')[0]);\n",
       "\n",
       "    if (output.metadata[EXEC_MIME_TYPE][\"id\"] !== undefined) {\n",
       "      toinsert[toinsert.length - 1].firstChild.textContent = output.data[JS_MIME_TYPE];\n",
       "      // store reference to embed id on output_area\n",
       "      output_area._bokeh_element_id = output.metadata[EXEC_MIME_TYPE][\"id\"];\n",
       "    }\n",
       "    if (output.metadata[EXEC_MIME_TYPE][\"server_id\"] !== undefined) {\n",
       "      var bk_div = document.createElement(\"div\");\n",
       "      bk_div.innerHTML = output.data[HTML_MIME_TYPE];\n",
       "      var script_attrs = bk_div.children[0].attributes;\n",
       "      for (var i = 0; i < script_attrs.length; i++) {\n",
       "        toinsert[toinsert.length - 1].firstChild.setAttribute(script_attrs[i].name, script_attrs[i].value);\n",
       "      }\n",
       "      // store reference to server id on output_area\n",
       "      output_area._bokeh_server_id = output.metadata[EXEC_MIME_TYPE][\"server_id\"];\n",
       "    }\n",
       "  }\n",
       "\n",
       "  function register_renderer(events, OutputArea) {\n",
       "\n",
       "    function append_mime(data, metadata, element) {\n",
       "      // create a DOM node to render to\n",
       "      var toinsert = this.create_output_subarea(\n",
       "        metadata,\n",
       "        CLASS_NAME,\n",
       "        EXEC_MIME_TYPE\n",
       "      );\n",
       "      this.keyboard_manager.register_events(toinsert);\n",
       "      // Render to node\n",
       "      var props = {data: data, metadata: metadata[EXEC_MIME_TYPE]};\n",
       "      render(props, toinsert[toinsert.length - 1]);\n",
       "      element.append(toinsert);\n",
       "      return toinsert\n",
       "    }\n",
       "\n",
       "    /* Handle when an output is cleared or removed */\n",
       "    events.on('clear_output.CodeCell', handleClearOutput);\n",
       "    events.on('delete.Cell', handleClearOutput);\n",
       "\n",
       "    /* Handle when a new output is added */\n",
       "    events.on('output_added.OutputArea', handleAddOutput);\n",
       "\n",
       "    /**\n",
       "     * Register the mime type and append_mime function with output_area\n",
       "     */\n",
       "    OutputArea.prototype.register_mime_type(EXEC_MIME_TYPE, append_mime, {\n",
       "      /* Is output safe? */\n",
       "      safe: true,\n",
       "      /* Index of renderer in `output_area.display_order` */\n",
       "      index: 0\n",
       "    });\n",
       "  }\n",
       "\n",
       "  // register the mime type if in Jupyter Notebook environment and previously unregistered\n",
       "  if (root.Jupyter !== undefined) {\n",
       "    var events = require('base/js/events');\n",
       "    var OutputArea = require('notebook/js/outputarea').OutputArea;\n",
       "\n",
       "    if (OutputArea.prototype.mime_types().indexOf(EXEC_MIME_TYPE) == -1) {\n",
       "      register_renderer(events, OutputArea);\n",
       "    }\n",
       "  }\n",
       "\n",
       "  \n",
       "  if (typeof (root._bokeh_timeout) === \"undefined\" || force === true) {\n",
       "    root._bokeh_timeout = Date.now() + 5000;\n",
       "    root._bokeh_failed_load = false;\n",
       "  }\n",
       "\n",
       "  var NB_LOAD_WARNING = {'data': {'text/html':\n",
       "     \"<div style='background-color: #fdd'>\\n\"+\n",
       "     \"<p>\\n\"+\n",
       "     \"BokehJS does not appear to have successfully loaded. If loading BokehJS from CDN, this \\n\"+\n",
       "     \"may be due to a slow or bad network connection. Possible fixes:\\n\"+\n",
       "     \"</p>\\n\"+\n",
       "     \"<ul>\\n\"+\n",
       "     \"<li>re-rerun `output_notebook()` to attempt to load from CDN again, or</li>\\n\"+\n",
       "     \"<li>use INLINE resources instead, as so:</li>\\n\"+\n",
       "     \"</ul>\\n\"+\n",
       "     \"<code>\\n\"+\n",
       "     \"from bokeh.resources import INLINE\\n\"+\n",
       "     \"output_notebook(resources=INLINE)\\n\"+\n",
       "     \"</code>\\n\"+\n",
       "     \"</div>\"}};\n",
       "\n",
       "  function display_loaded() {\n",
       "    var el = document.getElementById(\"1002\");\n",
       "    if (el != null) {\n",
       "      el.textContent = \"BokehJS is loading...\";\n",
       "    }\n",
       "    if (root.Bokeh !== undefined) {\n",
       "      if (el != null) {\n",
       "        el.textContent = \"BokehJS \" + root.Bokeh.version + \" successfully loaded.\";\n",
       "      }\n",
       "    } else if (Date.now() < root._bokeh_timeout) {\n",
       "      setTimeout(display_loaded, 100)\n",
       "    }\n",
       "  }\n",
       "\n",
       "\n",
       "  function run_callbacks() {\n",
       "    try {\n",
       "      root._bokeh_onload_callbacks.forEach(function(callback) { callback() });\n",
       "    }\n",
       "    finally {\n",
       "      delete root._bokeh_onload_callbacks\n",
       "    }\n",
       "    console.info(\"Bokeh: all callbacks have finished\");\n",
       "  }\n",
       "\n",
       "  function load_libs(js_urls, callback) {\n",
       "    root._bokeh_onload_callbacks.push(callback);\n",
       "    if (root._bokeh_is_loading > 0) {\n",
       "      console.log(\"Bokeh: BokehJS is being loaded, scheduling callback at\", now());\n",
       "      return null;\n",
       "    }\n",
       "    if (js_urls == null || js_urls.length === 0) {\n",
       "      run_callbacks();\n",
       "      return null;\n",
       "    }\n",
       "    console.log(\"Bokeh: BokehJS not loaded, scheduling load and callback at\", now());\n",
       "    root._bokeh_is_loading = js_urls.length;\n",
       "    for (var i = 0; i < js_urls.length; i++) {\n",
       "      var url = js_urls[i];\n",
       "      var s = document.createElement('script');\n",
       "      s.src = url;\n",
       "      s.async = false;\n",
       "      s.onreadystatechange = s.onload = function() {\n",
       "        root._bokeh_is_loading--;\n",
       "        if (root._bokeh_is_loading === 0) {\n",
       "          console.log(\"Bokeh: all BokehJS libraries loaded\");\n",
       "          run_callbacks()\n",
       "        }\n",
       "      };\n",
       "      s.onerror = function() {\n",
       "        console.warn(\"failed to load library \" + url);\n",
       "      };\n",
       "      console.log(\"Bokeh: injecting script tag for BokehJS library: \", url);\n",
       "      document.getElementsByTagName(\"head\")[0].appendChild(s);\n",
       "    }\n",
       "  };var element = document.getElementById(\"1002\");\n",
       "  if (element == null) {\n",
       "    console.log(\"Bokeh: ERROR: autoload.js configured with elementid '1002' but no matching script tag was found. \")\n",
       "    return false;\n",
       "  }\n",
       "\n",
       "  var js_urls = [\"https://cdn.pydata.org/bokeh/release/bokeh-1.0.4.min.js\", \"https://cdn.pydata.org/bokeh/release/bokeh-widgets-1.0.4.min.js\", \"https://cdn.pydata.org/bokeh/release/bokeh-tables-1.0.4.min.js\", \"https://cdn.pydata.org/bokeh/release/bokeh-gl-1.0.4.min.js\"];\n",
       "\n",
       "  var inline_js = [\n",
       "    function(Bokeh) {\n",
       "      Bokeh.set_log_level(\"info\");\n",
       "    },\n",
       "    \n",
       "    function(Bokeh) {\n",
       "      \n",
       "    },\n",
       "    function(Bokeh) {\n",
       "      console.log(\"Bokeh: injecting CSS: https://cdn.pydata.org/bokeh/release/bokeh-1.0.4.min.css\");\n",
       "      Bokeh.embed.inject_css(\"https://cdn.pydata.org/bokeh/release/bokeh-1.0.4.min.css\");\n",
       "      console.log(\"Bokeh: injecting CSS: https://cdn.pydata.org/bokeh/release/bokeh-widgets-1.0.4.min.css\");\n",
       "      Bokeh.embed.inject_css(\"https://cdn.pydata.org/bokeh/release/bokeh-widgets-1.0.4.min.css\");\n",
       "      console.log(\"Bokeh: injecting CSS: https://cdn.pydata.org/bokeh/release/bokeh-tables-1.0.4.min.css\");\n",
       "      Bokeh.embed.inject_css(\"https://cdn.pydata.org/bokeh/release/bokeh-tables-1.0.4.min.css\");\n",
       "    }\n",
       "  ];\n",
       "\n",
       "  function run_inline_js() {\n",
       "    \n",
       "    if ((root.Bokeh !== undefined) || (force === true)) {\n",
       "      for (var i = 0; i < inline_js.length; i++) {\n",
       "        inline_js[i].call(root, root.Bokeh);\n",
       "      }if (force === true) {\n",
       "        display_loaded();\n",
       "      }} else if (Date.now() < root._bokeh_timeout) {\n",
       "      setTimeout(run_inline_js, 100);\n",
       "    } else if (!root._bokeh_failed_load) {\n",
       "      console.log(\"Bokeh: BokehJS failed to load within specified timeout.\");\n",
       "      root._bokeh_failed_load = true;\n",
       "    } else if (force !== true) {\n",
       "      var cell = $(document.getElementById(\"1002\")).parents('.cell').data().cell;\n",
       "      cell.output_area.append_execute_result(NB_LOAD_WARNING)\n",
       "    }\n",
       "\n",
       "  }\n",
       "\n",
       "  if (root._bokeh_is_loading === 0) {\n",
       "    console.log(\"Bokeh: BokehJS loaded, going straight to plotting\");\n",
       "    run_inline_js();\n",
       "  } else {\n",
       "    load_libs(js_urls, function() {\n",
       "      console.log(\"Bokeh: BokehJS plotting callback run at\", now());\n",
       "      run_inline_js();\n",
       "    });\n",
       "  }\n",
       "}(window));"
      ],
      "application/vnd.bokehjs_load.v0+json": "\n(function(root) {\n  function now() {\n    return new Date();\n  }\n\n  var force = true;\n\n  if (typeof (root._bokeh_onload_callbacks) === \"undefined\" || force === true) {\n    root._bokeh_onload_callbacks = [];\n    root._bokeh_is_loading = undefined;\n  }\n\n  \n\n  \n  if (typeof (root._bokeh_timeout) === \"undefined\" || force === true) {\n    root._bokeh_timeout = Date.now() + 5000;\n    root._bokeh_failed_load = false;\n  }\n\n  var NB_LOAD_WARNING = {'data': {'text/html':\n     \"<div style='background-color: #fdd'>\\n\"+\n     \"<p>\\n\"+\n     \"BokehJS does not appear to have successfully loaded. If loading BokehJS from CDN, this \\n\"+\n     \"may be due to a slow or bad network connection. Possible fixes:\\n\"+\n     \"</p>\\n\"+\n     \"<ul>\\n\"+\n     \"<li>re-rerun `output_notebook()` to attempt to load from CDN again, or</li>\\n\"+\n     \"<li>use INLINE resources instead, as so:</li>\\n\"+\n     \"</ul>\\n\"+\n     \"<code>\\n\"+\n     \"from bokeh.resources import INLINE\\n\"+\n     \"output_notebook(resources=INLINE)\\n\"+\n     \"</code>\\n\"+\n     \"</div>\"}};\n\n  function display_loaded() {\n    var el = document.getElementById(\"1002\");\n    if (el != null) {\n      el.textContent = \"BokehJS is loading...\";\n    }\n    if (root.Bokeh !== undefined) {\n      if (el != null) {\n        el.textContent = \"BokehJS \" + root.Bokeh.version + \" successfully loaded.\";\n      }\n    } else if (Date.now() < root._bokeh_timeout) {\n      setTimeout(display_loaded, 100)\n    }\n  }\n\n\n  function run_callbacks() {\n    try {\n      root._bokeh_onload_callbacks.forEach(function(callback) { callback() });\n    }\n    finally {\n      delete root._bokeh_onload_callbacks\n    }\n    console.info(\"Bokeh: all callbacks have finished\");\n  }\n\n  function load_libs(js_urls, callback) {\n    root._bokeh_onload_callbacks.push(callback);\n    if (root._bokeh_is_loading > 0) {\n      console.log(\"Bokeh: BokehJS is being loaded, scheduling callback at\", now());\n      return null;\n    }\n    if (js_urls == null || js_urls.length === 0) {\n      run_callbacks();\n      return null;\n    }\n    console.log(\"Bokeh: BokehJS not loaded, scheduling load and callback at\", now());\n    root._bokeh_is_loading = js_urls.length;\n    for (var i = 0; i < js_urls.length; i++) {\n      var url = js_urls[i];\n      var s = document.createElement('script');\n      s.src = url;\n      s.async = false;\n      s.onreadystatechange = s.onload = function() {\n        root._bokeh_is_loading--;\n        if (root._bokeh_is_loading === 0) {\n          console.log(\"Bokeh: all BokehJS libraries loaded\");\n          run_callbacks()\n        }\n      };\n      s.onerror = function() {\n        console.warn(\"failed to load library \" + url);\n      };\n      console.log(\"Bokeh: injecting script tag for BokehJS library: \", url);\n      document.getElementsByTagName(\"head\")[0].appendChild(s);\n    }\n  };var element = document.getElementById(\"1002\");\n  if (element == null) {\n    console.log(\"Bokeh: ERROR: autoload.js configured with elementid '1002' but no matching script tag was found. \")\n    return false;\n  }\n\n  var js_urls = [\"https://cdn.pydata.org/bokeh/release/bokeh-1.0.4.min.js\", \"https://cdn.pydata.org/bokeh/release/bokeh-widgets-1.0.4.min.js\", \"https://cdn.pydata.org/bokeh/release/bokeh-tables-1.0.4.min.js\", \"https://cdn.pydata.org/bokeh/release/bokeh-gl-1.0.4.min.js\"];\n\n  var inline_js = [\n    function(Bokeh) {\n      Bokeh.set_log_level(\"info\");\n    },\n    \n    function(Bokeh) {\n      \n    },\n    function(Bokeh) {\n      console.log(\"Bokeh: injecting CSS: https://cdn.pydata.org/bokeh/release/bokeh-1.0.4.min.css\");\n      Bokeh.embed.inject_css(\"https://cdn.pydata.org/bokeh/release/bokeh-1.0.4.min.css\");\n      console.log(\"Bokeh: injecting CSS: https://cdn.pydata.org/bokeh/release/bokeh-widgets-1.0.4.min.css\");\n      Bokeh.embed.inject_css(\"https://cdn.pydata.org/bokeh/release/bokeh-widgets-1.0.4.min.css\");\n      console.log(\"Bokeh: injecting CSS: https://cdn.pydata.org/bokeh/release/bokeh-tables-1.0.4.min.css\");\n      Bokeh.embed.inject_css(\"https://cdn.pydata.org/bokeh/release/bokeh-tables-1.0.4.min.css\");\n    }\n  ];\n\n  function run_inline_js() {\n    \n    if ((root.Bokeh !== undefined) || (force === true)) {\n      for (var i = 0; i < inline_js.length; i++) {\n        inline_js[i].call(root, root.Bokeh);\n      }if (force === true) {\n        display_loaded();\n      }} else if (Date.now() < root._bokeh_timeout) {\n      setTimeout(run_inline_js, 100);\n    } else if (!root._bokeh_failed_load) {\n      console.log(\"Bokeh: BokehJS failed to load within specified timeout.\");\n      root._bokeh_failed_load = true;\n    } else if (force !== true) {\n      var cell = $(document.getElementById(\"1002\")).parents('.cell').data().cell;\n      cell.output_area.append_execute_result(NB_LOAD_WARNING)\n    }\n\n  }\n\n  if (root._bokeh_is_loading === 0) {\n    console.log(\"Bokeh: BokehJS loaded, going straight to plotting\");\n    run_inline_js();\n  } else {\n    load_libs(js_urls, function() {\n      console.log(\"Bokeh: BokehJS plotting callback run at\", now());\n      run_inline_js();\n    });\n  }\n}(window));"
     },
     "metadata": {},
     "output_type": "display_data"
    },
    {
     "data": {
      "text/html": [
       "\n",
       "\n",
       "\n",
       "\n",
       "\n",
       "\n",
       "  <div class=\"bk-root\" id=\"11b897f8-a810-4eb2-a5b9-906478a7ce96\" data-root-id=\"1049\"></div>\n"
      ]
     },
     "metadata": {},
     "output_type": "display_data"
    },
    {
     "data": {
      "application/javascript": [
       "(function(root) {\n",
       "  function embed_document(root) {\n",
       "    \n",
       "  var docs_json = {\"63d24fba-08ca-43cf-8c48-6476ad088276\":{\"roots\":{\"references\":[{\"attributes\":{\"children\":[{\"id\":\"1048\",\"type\":\"WidgetBox\"},{\"id\":\"1009\",\"subtype\":\"Figure\",\"type\":\"Plot\"}]},\"id\":\"1049\",\"type\":\"Row\"},{\"attributes\":{\"overlay\":{\"id\":\"1036\",\"type\":\"BoxAnnotation\"}},\"id\":\"1030\",\"type\":\"BoxZoomTool\"},{\"attributes\":{},\"id\":\"1059\",\"type\":\"UnionRenderers\"},{\"attributes\":{},\"id\":\"1031\",\"type\":\"SaveTool\"},{\"attributes\":{\"callback\":null,\"end\":2.0,\"js_property_callbacks\":{\"change:value\":[{\"id\":\"1006\",\"type\":\"CustomJS\"}]},\"start\":0,\"step\":0.01,\"title\":\"l\",\"value\":0.05},\"id\":\"1008\",\"type\":\"Slider\"},{\"attributes\":{},\"id\":\"1032\",\"type\":\"ResetTool\"},{\"attributes\":{\"formatter\":{\"id\":\"1054\",\"type\":\"BasicTickFormatter\"},\"plot\":{\"id\":\"1009\",\"subtype\":\"Figure\",\"type\":\"Plot\"},\"ticker\":{\"id\":\"1024\",\"type\":\"BasicTicker\"}},\"id\":\"1023\",\"type\":\"LinearAxis\"},{\"attributes\":{\"below\":[{\"id\":\"1018\",\"type\":\"LinearAxis\"}],\"left\":[{\"id\":\"1023\",\"type\":\"LinearAxis\"}],\"plot_height\":700,\"plot_width\":700,\"renderers\":[{\"id\":\"1018\",\"type\":\"LinearAxis\"},{\"id\":\"1022\",\"type\":\"Grid\"},{\"id\":\"1023\",\"type\":\"LinearAxis\"},{\"id\":\"1027\",\"type\":\"Grid\"},{\"id\":\"1036\",\"type\":\"BoxAnnotation\"},{\"id\":\"1046\",\"type\":\"GlyphRenderer\"}],\"title\":{\"id\":\"1051\",\"type\":\"Title\"},\"toolbar\":{\"id\":\"1034\",\"type\":\"Toolbar\"},\"x_range\":{\"id\":\"1010\",\"type\":\"DataRange1d\"},\"x_scale\":{\"id\":\"1014\",\"type\":\"LinearScale\"},\"y_range\":{\"id\":\"1012\",\"type\":\"DataRange1d\"},\"y_scale\":{\"id\":\"1016\",\"type\":\"LinearScale\"}},\"id\":\"1009\",\"subtype\":\"Figure\",\"type\":\"Plot\"},{\"attributes\":{},\"id\":\"1033\",\"type\":\"HelpTool\"},{\"attributes\":{\"callback\":null},\"id\":\"1010\",\"type\":\"DataRange1d\"},{\"attributes\":{\"active_drag\":\"auto\",\"active_inspect\":\"auto\",\"active_multi\":null,\"active_scroll\":\"auto\",\"active_tap\":\"auto\",\"tools\":[{\"id\":\"1028\",\"type\":\"PanTool\"},{\"id\":\"1029\",\"type\":\"WheelZoomTool\"},{\"id\":\"1030\",\"type\":\"BoxZoomTool\"},{\"id\":\"1031\",\"type\":\"SaveTool\"},{\"id\":\"1032\",\"type\":\"ResetTool\"},{\"id\":\"1033\",\"type\":\"HelpTool\"}]},\"id\":\"1034\",\"type\":\"Toolbar\"},{\"attributes\":{\"callback\":null,\"data\":{\"l\":[0.05],\"r\":[0.1]},\"selected\":{\"id\":\"1060\",\"type\":\"Selection\"},\"selection_policy\":{\"id\":\"1059\",\"type\":\"UnionRenderers\"}},\"id\":\"1003\",\"type\":\"ColumnDataSource\"},{\"attributes\":{\"data_source\":{\"id\":\"1004\",\"type\":\"ColumnDataSource\"},\"glyph\":{\"id\":\"1044\",\"type\":\"Line\"},\"hover_glyph\":null,\"muted_glyph\":null,\"nonselection_glyph\":{\"id\":\"1045\",\"type\":\"Line\"},\"selection_glyph\":null,\"view\":{\"id\":\"1047\",\"type\":\"CDSView\"}},\"id\":\"1046\",\"type\":\"GlyphRenderer\"},{\"attributes\":{},\"id\":\"1057\",\"type\":\"UnionRenderers\"},{\"attributes\":{\"callback\":null},\"id\":\"1012\",\"type\":\"DataRange1d\"},{\"attributes\":{\"bottom_units\":\"screen\",\"fill_alpha\":{\"value\":0.5},\"fill_color\":{\"value\":\"lightgrey\"},\"left_units\":\"screen\",\"level\":\"overlay\",\"line_alpha\":{\"value\":1.0},\"line_color\":{\"value\":\"black\"},\"line_dash\":[4,4],\"line_width\":{\"value\":2},\"plot\":null,\"render_mode\":\"css\",\"right_units\":\"screen\",\"top_units\":\"screen\"},\"id\":\"1036\",\"type\":\"BoxAnnotation\"},{\"attributes\":{},\"id\":\"1014\",\"type\":\"LinearScale\"},{\"attributes\":{\"source\":{\"id\":\"1004\",\"type\":\"ColumnDataSource\"}},\"id\":\"1047\",\"type\":\"CDSView\"},{\"attributes\":{},\"id\":\"1016\",\"type\":\"LinearScale\"},{\"attributes\":{\"callback\":null,\"data\":{\"x\":{\"__ndarray__\":\"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\",\"dtype\":\"float64\",\"shape\":[10000]},\"y\":{\"__ndarray__\":\"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\",\"dtype\":\"float64\",\"shape\":[10000]}},\"selected\":{\"id\":\"1058\",\"type\":\"Selection\"},\"selection_policy\":{\"id\":\"1057\",\"type\":\"UnionRenderers\"}},\"id\":\"1004\",\"type\":\"ColumnDataSource\"},{\"attributes\":{\"args\":{\"params\":{\"id\":\"1003\",\"type\":\"ColumnDataSource\"},\"source\":{\"id\":\"1004\",\"type\":\"ColumnDataSource\"}},\"code\":\"\\n    var r = cb_obj.value;\\n    var l = params.data['l'][0];\\n    params.data['r'][0]=r;\\n        \\n    \\n    var data = source.data;\\n        \\n    var s = 0.0;\\n    var alpha = 0.0;\\n    var beta = 0.0;\\n    var gamma = 0.0;\\n    var x = data['x']\\n    var y = data['y']\\n    \\n    for (var i = 0; i < x.length; i++) {\\n        s = 0.01 * i; \\n        alpha = s / ( 2 * Math.PI );\\n        beta  = s / ( 2 * Math.PI * r );\\n        gamma = alpha - beta;        \\n        \\n        x[i] = Math.cos(alpha) + l * Math.cos(gamma);\\n        y[i] = Math.sin(alpha) + l * Math.sin(gamma);\\n    }\\n    source.change.emit();\\n\\n\"},\"id\":\"1005\",\"type\":\"CustomJS\"},{\"attributes\":{\"plot\":null,\"text\":\"\"},\"id\":\"1051\",\"type\":\"Title\"},{\"attributes\":{\"formatter\":{\"id\":\"1052\",\"type\":\"BasicTickFormatter\"},\"plot\":{\"id\":\"1009\",\"subtype\":\"Figure\",\"type\":\"Plot\"},\"ticker\":{\"id\":\"1019\",\"type\":\"BasicTicker\"}},\"id\":\"1018\",\"type\":\"LinearAxis\"},{\"attributes\":{},\"id\":\"1019\",\"type\":\"BasicTicker\"},{\"attributes\":{},\"id\":\"1058\",\"type\":\"Selection\"},{\"attributes\":{\"line_color\":\"#1f77b4\",\"x\":{\"field\":\"x\"},\"y\":{\"field\":\"y\"}},\"id\":\"1044\",\"type\":\"Line\"},{\"attributes\":{},\"id\":\"1052\",\"type\":\"BasicTickFormatter\"},{\"attributes\":{\"plot\":{\"id\":\"1009\",\"subtype\":\"Figure\",\"type\":\"Plot\"},\"ticker\":{\"id\":\"1019\",\"type\":\"BasicTicker\"}},\"id\":\"1022\",\"type\":\"Grid\"},{\"attributes\":{},\"id\":\"1054\",\"type\":\"BasicTickFormatter\"},{\"attributes\":{},\"id\":\"1024\",\"type\":\"BasicTicker\"},{\"attributes\":{},\"id\":\"1060\",\"type\":\"Selection\"},{\"attributes\":{\"dimension\":1,\"plot\":{\"id\":\"1009\",\"subtype\":\"Figure\",\"type\":\"Plot\"},\"ticker\":{\"id\":\"1024\",\"type\":\"BasicTicker\"}},\"id\":\"1027\",\"type\":\"Grid\"},{\"attributes\":{\"children\":[{\"id\":\"1007\",\"type\":\"Slider\"},{\"id\":\"1008\",\"type\":\"Slider\"}]},\"id\":\"1048\",\"type\":\"WidgetBox\"},{\"attributes\":{\"line_alpha\":0.1,\"line_color\":\"#1f77b4\",\"x\":{\"field\":\"x\"},\"y\":{\"field\":\"y\"}},\"id\":\"1045\",\"type\":\"Line\"},{\"attributes\":{\"args\":{\"params\":{\"id\":\"1003\",\"type\":\"ColumnDataSource\"},\"source\":{\"id\":\"1004\",\"type\":\"ColumnDataSource\"}},\"code\":\"\\n\\n    var r = params.data['r'][0];        \\n    var l = cb_obj.value;\\n    params.data['l'][0]=l;\\n    \\n    \\n    var data = source.data;\\n        \\n    var s = 0.0;\\n    var alpha = 0.0;\\n    var beta = 0.0;\\n    var gamma = 0.0;\\n    var x = data['x']\\n    var y = data['y']\\n    \\n    for (var i = 0; i < x.length; i++) {\\n        s = 0.01 * i; \\n        alpha = s / ( 2 * Math.PI );\\n        beta  = s / ( 2 * Math.PI * r );\\n        gamma = alpha - beta;        \\n        \\n        x[i] = Math.cos(alpha) + l * Math.cos(gamma);\\n        y[i] = Math.sin(alpha) + l * Math.sin(gamma);\\n    }\\n    source.change.emit();\\n\\n\"},\"id\":\"1006\",\"type\":\"CustomJS\"},{\"attributes\":{},\"id\":\"1028\",\"type\":\"PanTool\"},{\"attributes\":{\"callback\":null,\"end\":0.5,\"js_property_callbacks\":{\"change:value\":[{\"id\":\"1005\",\"type\":\"CustomJS\"}]},\"start\":0,\"step\":0.001,\"title\":\"r\",\"value\":0.1},\"id\":\"1007\",\"type\":\"Slider\"},{\"attributes\":{},\"id\":\"1029\",\"type\":\"WheelZoomTool\"}],\"root_ids\":[\"1049\"]},\"title\":\"Bokeh Application\",\"version\":\"1.0.4\"}};\n",
       "  var render_items = [{\"docid\":\"63d24fba-08ca-43cf-8c48-6476ad088276\",\"roots\":{\"1049\":\"11b897f8-a810-4eb2-a5b9-906478a7ce96\"}}];\n",
       "  root.Bokeh.embed.embed_items_notebook(docs_json, render_items);\n",
       "\n",
       "  }\n",
       "  if (root.Bokeh !== undefined) {\n",
       "    embed_document(root);\n",
       "  } else {\n",
       "    var attempts = 0;\n",
       "    var timer = setInterval(function(root) {\n",
       "      if (root.Bokeh !== undefined) {\n",
       "        embed_document(root);\n",
       "        clearInterval(timer);\n",
       "      }\n",
       "      attempts++;\n",
       "      if (attempts > 100) {\n",
       "        console.log(\"Bokeh: ERROR: Unable to run BokehJS code because BokehJS library is missing\");\n",
       "        clearInterval(timer);\n",
       "      }\n",
       "    }, 10, root)\n",
       "  }\n",
       "})(window);"
      ],
      "application/vnd.bokehjs_exec.v0+json": ""
     },
     "metadata": {
      "application/vnd.bokehjs_exec.v0+json": {
       "id": "1049"
      }
     },
     "output_type": "display_data"
    }
   ],
   "source": [
    "from bokeh.layouts import widgetbox, Row\n",
    "from bokeh.models.callbacks import CustomJS\n",
    "from bokeh.models.widgets import Slider \n",
    "\n",
    "reset_output()\n",
    "output_notebook()\n",
    "#output_file(\"resizable_circle.html\")\n",
    "\n",
    "\n",
    "r0 = 0.1\n",
    "l0 = 0.05\n",
    "params = ColumnDataSource(data={'r' : [r0],\n",
    "                                'l' : [l0],\n",
    "                                 })\n",
    "s = 0.01 * np.arange( 10000 );\n",
    "source = ColumnDataSource(data={ 'x' : np.cos(s),\n",
    "                                 'y' : np.sin(s) } )\n",
    "\n",
    "common_code = \"\"\"\n",
    "    var data = source.data;\n",
    "        \n",
    "    var s = 0.0;\n",
    "    var alpha = 0.0;\n",
    "    var beta = 0.0;\n",
    "    var gamma = 0.0;\n",
    "    var x = data['x']\n",
    "    var y = data['y']\n",
    "    \n",
    "    for (var i = 0; i < x.length; i++) {\n",
    "        s = 0.01 * i; \n",
    "        alpha = s / ( 2 * Math.PI );\n",
    "        beta  = s / ( 2 * Math.PI * r );\n",
    "        gamma = alpha - beta;        \n",
    "        \n",
    "        x[i] = Math.cos(alpha) + l * Math.cos(gamma);\n",
    "        y[i] = Math.sin(alpha) + l * Math.sin(gamma);\n",
    "    }\n",
    "    source.change.emit();\n",
    "\"\"\"\n",
    "\n",
    "callback_r = CustomJS(args=dict(source=source, params=params), code=f\"\"\"\n",
    "    var r = cb_obj.value;\n",
    "    var l = params.data['l'][0];\n",
    "    params.data['r'][0]=r;\n",
    "        \n",
    "    {common_code}\n",
    "\"\"\")\n",
    "\n",
    "callback_l = CustomJS(args=dict(source=source, params=params), code=f\"\"\"\n",
    "\n",
    "    var r = params.data['r'][0];        \n",
    "    var l = cb_obj.value;\n",
    "    params.data['l'][0]=l;\n",
    "    \n",
    "    {common_code}\n",
    "\"\"\")\n",
    "\n",
    "slider1 = Slider(start=0, end=0.5, value=r0, step=.001, title='r' )\n",
    "slider1.js_on_change( \"value\", callback_r )\n",
    "\n",
    "slider2 = Slider(start=0, end=2.0, value=l0, step=.01, title='l' )\n",
    "slider2.js_on_change( \"value\", callback_l )\n",
    "\n",
    "\n",
    "p = figure( width=700, height=700 ) \n",
    "p.line( x='x', y='y', source=source )\n",
    "show( Row( widgetbox(slider1, slider2), \n",
    "           p ) ) \n",
    "\n"
   ]
  },
  {
   "cell_type": "markdown",
   "metadata": {},
   "source": [
    "**Exercise** \n",
    "\n",
    "Go here: https://demo.bokehplots.com/apps/crossfilter  and play with it!"
   ]
  },
  {
   "cell_type": "markdown",
   "metadata": {},
   "source": [
    "[back to contents](#contents) \n",
    "\n",
    "<div id=\"dos-donts\"> </div>\n",
    "\n",
    "## Summary - Data Visualization DOs and DON'Ts\n",
    "\n",
    "\n",
    "In general DO:\n",
    "\n",
    "  - **Keep things simple**: Employ simple plots, such as lines, bars, scatter plots and pie (or rings). These are best understood by people. Remember that the purpose of a data visualization is (in most cases) to tramnsmit information _not to woo people_!!! \n",
    "  - **Learn from the experts**: https://www.amazon.com/Street-Journal-Guide-Information-Graphics/dp/0393347281\n",
    "  \n",
    "  - Keep in mind the **accessibility considerations** (e.g. colorblind people). Prefer orange-blue contrasts or simple monochrome color themes. \n",
    "     \n",
    "  \n",
    "DON'Ts: \n",
    "\n",
    "  - As cool as they may seem 3D plots are best avoided... Effects like perspective tend to confuse the values of variables such as height and depth.  See below for some examples. \n",
    "  - Use 'exploded pies with perspective'...\n",
    "\n",
    "PENDING: Insert graph here...\n",
    "  - Plot two many points in a scatter plot, use some sort of heat map\n",
    "      - https://bokeh.pydata.org/en/latest/docs/gallery/hexbin.html"
   ]
  },
  {
   "cell_type": "markdown",
   "metadata": {},
   "source": [
    "**Exercise: ** PENDING"
   ]
  },
  {
   "cell_type": "code",
   "execution_count": null,
   "metadata": {},
   "outputs": [],
   "source": [
    "diseases_df = pd.DataFrame( [\n",
    " ['Heart', 596000,54.4],\n",
    " [ 'COPD', 143000, 7 ],\n",
    " [ 'Diabetes', 73800, 7.0],\n",
    " ['Breast Cancer', 41400, 267.85],\n",
    " ['Suicide', 39500,3.2],\n",
    " ['Prostate C', 21200, 147.0 ],\n",
    " ['HIV', 7600, 14.0 ],\n",
    " ['MND', 6849, 22.9 ],\n",
    "], columns = [\"disease\", \"deaths\", \"money_mm\"] ) "
   ]
  },
  {
   "cell_type": "markdown",
   "metadata": {},
   "source": [
    "<div id=\"final-challenge\"></div>\n",
    "\n",
    "## Final challenge\n",
    "\n",
    "Help Mateo better understand his disk space usage and take decisions about what directories to purge. \n",
    "\n",
    "Here is some data on Mateo's disk usage: (see below for instructions on how to understand this table)  "
   ]
  },
  {
   "cell_type": "code",
   "execution_count": null,
   "metadata": {},
   "outputs": [],
   "source": [
    "import pandas as pd \n",
    "\n",
    "du_df = pd.read_pickle( 'disk_usage.pkl' ) \n",
    "\n",
    "du_df['cum_size_kb'] = du_df['size_kb'].cumsum()\n",
    "\n",
    "pd.options.display.max_rows = 30 \n",
    "du_df  # first 30 rows, "
   ]
  },
  {
   "cell_type": "markdown",
   "metadata": {},
   "source": [
    "The data is organized hierarchically in 3 depth levels"
   ]
  },
  {
   "cell_type": "markdown",
   "metadata": {},
   "source": [
    "### Understanding the raw data table \n",
    "\n",
    "In the table above, the column `size_kb` is has the size of the files under a directory. \n",
    "For paths ending in '.' (depth = 1 or 2) this corresponds to the total size of files directly under the directory, i.e. not inside subdirectories. \n",
    "For paths that end in an actual directory name (depth = 3) it corresponds to all files under the directory, either directly under \n",
    "or inside further sub-directories. "
   ]
  },
  {
   "cell_type": "markdown",
   "metadata": {},
   "source": [
    "### Your mission \n",
    "\n",
    "Your mission is to create a **hierarchical annular wedge plot** (also known as a sunburst plot) to visualize the space taken by each path. \n",
    "An **annular wedge** is a segment of an annulus, such as this thing: \n",
    "\n",
    "<img src=\"annular_wedge.png\"/> \n",
    "\n",
    "It is determined by four parameters, an inner radius, and outer radius, a starting angle ( measured from the $x$-axis and finishing angle. \n",
    "\n",
    "An hierarchical annular wedge plot is something like this: \n",
    "\n",
    "<img src=\"sunburst.png\" />\n",
    "\n",
    "The basic idea is that the inner-most ring is the coarsest level of granularity. I.e. it corresponds to the first level of\n",
    "directories, columns `l1`.  The second ring corresponds to the second level, i.e. subdirectories of the first, `l2` and so on... \n",
    "\n",
    "The angle covered by each wedge (end_angle  - start_angle) should be proportional to the quantity we are trying to visualize, in this case the size in kb of the corresponding path..."
   ]
  },
  {
   "cell_type": "markdown",
   "metadata": {},
   "source": [
    "To get you started here is how the starting and ending angles for the first level would be computed. "
   ]
  },
  {
   "cell_type": "code",
   "execution_count": null,
   "metadata": {},
   "outputs": [],
   "source": [
    "level1 = du_df.groupby( ['l1'] ).agg( {'cum_size_kb' : 'max'} ).reset_index() \n",
    "level1['end_angle'] =  ( level1['cum_size_kb'] / level1['cum_size_kb'].max() ) * ( 2 * np.pi )  #ending angle (in radians)\n",
    "level1['start_angle'] = level1['end_angle'].shift(1).fillna(0)\n"
   ]
  },
  {
   "cell_type": "code",
   "execution_count": null,
   "metadata": {},
   "outputs": [],
   "source": [
    "# Now do a similar calculation for level2 and level3 defined as follows\n",
    "level2 = du_df[ du_df.depth > 1].groupby( ['l1', 'l2'] ).agg( {'cum_size_kb' : 'max'} ).reset_index() \n"
   ]
  },
  {
   "cell_type": "code",
   "execution_count": null,
   "metadata": {},
   "outputs": [],
   "source": [
    "level3 = None # define it in an analogous way as level2 "
   ]
  },
  {
   "cell_type": "markdown",
   "metadata": {},
   "source": [
    "Now you can use either `matplotlib` or `bokeh` to create the plot. \n",
    "The closest we did to this in this workshop was the [annular pie plot](#annular-pie-plot) "
   ]
  },
  {
   "cell_type": "code",
   "execution_count": null,
   "metadata": {},
   "outputs": [],
   "source": [
    "### Your solution to the challenge here: \n",
    "\n",
    "\n",
    "\n",
    "\n",
    "\n",
    "\n",
    "\n",
    "\n",
    "\n",
    "\n",
    "\n",
    "\n",
    "\n",
    "\n",
    "\n",
    "\n"
   ]
  },
  {
   "cell_type": "code",
   "execution_count": 29,
   "metadata": {},
   "outputs": [
    {
     "data": {
      "text/html": [
       "<div>\n",
       "<style scoped>\n",
       "    .dataframe tbody tr th:only-of-type {\n",
       "        vertical-align: middle;\n",
       "    }\n",
       "\n",
       "    .dataframe tbody tr th {\n",
       "        vertical-align: top;\n",
       "    }\n",
       "\n",
       "    .dataframe thead th {\n",
       "        text-align: right;\n",
       "    }\n",
       "</style>\n",
       "<table border=\"1\" class=\"dataframe\">\n",
       "  <thead>\n",
       "    <tr style=\"text-align: right;\">\n",
       "      <th></th>\n",
       "      <th>disease</th>\n",
       "      <th>deaths</th>\n",
       "      <th>money_mm</th>\n",
       "    </tr>\n",
       "  </thead>\n",
       "  <tbody>\n",
       "    <tr>\n",
       "      <th>0</th>\n",
       "      <td>Heart</td>\n",
       "      <td>596000</td>\n",
       "      <td>54.40</td>\n",
       "    </tr>\n",
       "    <tr>\n",
       "      <th>1</th>\n",
       "      <td>COPD</td>\n",
       "      <td>143000</td>\n",
       "      <td>7.00</td>\n",
       "    </tr>\n",
       "    <tr>\n",
       "      <th>2</th>\n",
       "      <td>Diabetes</td>\n",
       "      <td>73800</td>\n",
       "      <td>7.00</td>\n",
       "    </tr>\n",
       "    <tr>\n",
       "      <th>3</th>\n",
       "      <td>Breast Cancer</td>\n",
       "      <td>41400</td>\n",
       "      <td>267.85</td>\n",
       "    </tr>\n",
       "    <tr>\n",
       "      <th>4</th>\n",
       "      <td>Suicide</td>\n",
       "      <td>39500</td>\n",
       "      <td>3.20</td>\n",
       "    </tr>\n",
       "    <tr>\n",
       "      <th>5</th>\n",
       "      <td>Prostate C</td>\n",
       "      <td>21200</td>\n",
       "      <td>147.00</td>\n",
       "    </tr>\n",
       "    <tr>\n",
       "      <th>6</th>\n",
       "      <td>HIV</td>\n",
       "      <td>7600</td>\n",
       "      <td>14.00</td>\n",
       "    </tr>\n",
       "    <tr>\n",
       "      <th>7</th>\n",
       "      <td>MND</td>\n",
       "      <td>6849</td>\n",
       "      <td>22.90</td>\n",
       "    </tr>\n",
       "  </tbody>\n",
       "</table>\n",
       "</div>"
      ],
      "text/plain": [
       "         disease  deaths  money_mm\n",
       "0          Heart  596000     54.40\n",
       "1           COPD  143000      7.00\n",
       "2       Diabetes   73800      7.00\n",
       "3  Breast Cancer   41400    267.85\n",
       "4        Suicide   39500      3.20\n",
       "5     Prostate C   21200    147.00\n",
       "6            HIV    7600     14.00\n",
       "7            MND    6849     22.90"
      ]
     },
     "execution_count": 29,
     "metadata": {},
     "output_type": "execute_result"
    }
   ],
   "source": [
    "import pandas as pd\n",
    "diseases_df = pd.DataFrame( [\n",
    " ['Heart', 596000,54.4],\n",
    " [ 'COPD', 143000, 7 ],\n",
    " [ 'Diabetes', 73800, 7.0],\n",
    " ['Breast Cancer', 41400, 267.85],\n",
    " ['Suicide', 39500,3.2],\n",
    " ['Prostate C', 21200, 147.0 ],\n",
    " ['HIV', 7600, 14.0 ],\n",
    " ['MND', 6849, 22.9 ],\n",
    "], columns = [\"disease\", \"deaths\", \"money_mm\"] ) \n",
    "\n",
    "diseases_df"
   ]
  },
  {
   "cell_type": "markdown",
   "metadata": {},
   "source": [
    "<div id=\"references\"></div>\n",
    "\n",
    "## References\n",
    "\n",
    "\n",
    "### Theory\n",
    "\n",
    " - Tufte, Edward R (1983), The Visual Display of Quantitative Information, Graphics Press.\n",
    "   https://www.amazon.com/Visual-Display-Quantitative-Information/dp/1930824130 (also here: http://booksdescr.org/ads.php?md5=4A0AB3FF78069FB71D1270F5399B1955) \n",
    "   \n",
    " - The grammar of graphics...\n",
    " \n",
    " - https://www.amazon.com/Street-Journal-Guide-Information-Graphics/dp/0393347281 (also here: http://booksdescr.org/ads.php?md5=81ece02c47b88896198c6935587fa126)  \n",
    " \n",
    " - https://moz.com/blog/data-visualization-principles-lessons-from-tufte\n",
    " \n",
    " - https://nei.nih.gov/health/color_blindness/facts_about\n",
    " \n",
    " - Healey, Christopher. Perception in Visualization. https://www.csc2.ncsu.edu/faculty/healey/PP/index.html\n",
    " \n",
    " - https://io9.gizmodo.com/11-most-useless-and-misleading-infographics-on-the-inte-1688239674\n",
    " \n",
    " - https://junkcharts.typepad.com/junk_charts/wsj/\n",
    "\n",
    "\n",
    "### Matplotlib \n",
    "\n",
    " - Documentation: https://matplotlib.org/contents.html\n",
    " - Basic gallery: https://matplotlib.org/gallery/index.html\n",
    " - Detailed gallery: https://matplotlib.org/gallery.html\n",
    " \n",
    "### Bokeh \n",
    "\n",
    " - Gallery:  https://bokeh.pydata.org/en/latest/docs/gallery.html\n",
    " - User Guide: https://bokeh.pydata.org/en/latest/docs/user_guide/plotting.html\n",
    " \n",
    " \n",
    "[back to contents](#contents) \n"
   ]
  }
 ],
 "metadata": {
  "kernelspec": {
   "display_name": "Python 3",
   "language": "python",
   "name": "python3"
  },
  "language_info": {
   "codemirror_mode": {
    "name": "ipython",
    "version": 3
   },
   "file_extension": ".py",
   "mimetype": "text/x-python",
   "name": "python",
   "nbconvert_exporter": "python",
   "pygments_lexer": "ipython3",
   "version": "3.7.0"
  }
 },
 "nbformat": 4,
 "nbformat_minor": 2
}
