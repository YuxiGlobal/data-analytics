{
 "cells": [
  {
   "cell_type": "markdown",
   "metadata": {},
   "source": [
    "### Table of Contents \n",
    "\n",
    "1. [Python Notebooks essential survival-guide](#survival)\n",
    "2. [Key Facts about Python](#Key-facts-about-Python)\n",
    "3. [Basic instructions for the workshop](#Basic-Instructions-for-the-workshop)\n",
    "4. [Variables](#Variables) \n",
    "5. [Operators](#Operators) \n",
    "6. [The special value None](#The-special-value-None)\n",
    "7. [Multiple assignment](#Multiple-assignment)\n",
    "6. [Setting up your answer submitter](#Setting-up-your-answer-submitter)\n",
    "7. [Built-in Functions](#Built-in-Functions)\n",
    "8. [Getting help](#Getting-help) \n",
    "9. [More on strings](#More-on-strings) \n",
    "10. [String interpolation](#String-interpolation)\n",
    "11. [Accepting User Input](#Accepting-User-Inputs)\n",
    "12. [Lists](#lists)\n",
    "13. [For loops](#For-loops)\n",
    "14. [Important advise on idented blocks](#Important-advise-on-indented-blocks) \n",
    "15. [Other control flow structures](#Other-control-flow-structures)\n",
    "16. [Dictionaries](#Dictionaries) \n",
    "17. [Defining functions](#Defining-functions) \n",
    "19. [Lambdas!](#Lambdas!) \n",
    "20. [For comprehensions](#For-comprehensions) \n",
    "22. [Using modules](#Using modules)\n",
    "21. [Reading and writing to and from files](#Reading-from-and-writing-to-files) \n",
    "22. [References](#References)\n"
   ]
  },
  {
   "cell_type": "markdown",
   "metadata": {},
   "source": [
    "<div id=\"#survival\"> </div>\n",
    "## Python Notebooks essential survival guide (**PLEASE READ**)"
   ]
  },
  {
   "cell_type": "markdown",
   "metadata": {},
   "source": [
    "Python Notebooks provide an interactive environment for code experimentation, visualization and publication of results.\n",
    "\n",
    "The light-gray boxes containing code below are called _code cells_  ('celdas', en español).   \n",
    "Formatted text on white background is contained in _markdown cells_\n",
    "Basic operations on code cells \n",
    "\n",
    "*  **Up/Down arrows** Move up and down from cell to cell\n",
    "*  **[Enter]** Enter a cell to edit it \n",
    "*  **[Shift + Enter]** Evaluate a cell and display the result and go to the next\n",
    "*  **[Ctrl  + Enter]** Evaluate a cell and display the result and stay on it\n",
    "*  **[Esc] - [D] - [D]** Delete a cell\n",
    "*  **[Esc] - [B]** Insert a cell below current cell\n",
    "*  **[Esc] - [A]** Insert a cell above current cell \n",
    "*  **[Esc] - [M]** Turn code cell into markdown\n",
    "\n",
    "\n",
    "For more keyboard shortcuts go to Help menu -> Keyboard shortcuts"
   ]
  },
  {
   "cell_type": "code",
   "execution_count": null,
   "metadata": {},
   "outputs": [],
   "source": [
    "|d"
   ]
  },
  {
   "cell_type": "code",
   "execution_count": 4,
   "metadata": {},
   "outputs": [
    {
     "name": "stdout",
     "output_type": "stream",
     "text": [
      "Hello World\n"
     ]
    }
   ],
   "source": [
    "print( \"Hello World\")"
   ]
  },
  {
   "cell_type": "markdown",
   "metadata": {},
   "source": [
    "### Acknowledgment \n",
    "\n",
    "This notebook is partly based on the notebooks found here: https://github.com/rajathkumarmp/Python-Lectures"
   ]
  },
  {
   "cell_type": "markdown",
   "metadata": {},
   "source": [
    "# Key facts about Python"
   ]
  },
  {
   "cell_type": "markdown",
   "metadata": {},
   "source": [
    "  * Python is an interpreted, dynamically typed, advanced and expressive scripting language\n",
    "  * Syntactically, it belongs to the  in the Algol/Pascal/C family of languages.\n",
    "  * Semantically, it is perhaps closest to Lisp.\n",
    "  * The Python philosofy emphasizes **readability of code as well as elegance and simplicity of syntax**, \n",
    "     * e.g. words preferred to symbolic operators, no curly braces, no semicolons and most notably, **blocks delimited by identation!**\n",
    "  * Prototyping a solution can be done 5 - 10 faster in Python than in C/C++ and 3-5 faster than in Java\n",
    "  * Some describe Python as **executable pseudocode**, meaning it's almost as simple to write a Python program as it is to sketch it in plain english  \n",
    "  * Python is advertised as **batteries included**. Its very extensive [standard library](https://docs.python.org/3/library/) makes it easy to perform common tasks such as: reading and modifying text files (an other types), using regular expressions, doing http requests, setting up a simple http server, implementing desktop GUIs, **interfacing with databases**, **doing data mangling**, **machine learning**, **deep learning**, etc... \n",
    "  * Python and its standard library are [wonderfully documented](https://docs.python.org/3/)\n",
    "  * Python can be used as a [**glue language**](https://www.python.org/doc/essays/omg-darpa-mcc-position/).\n",
    "  * Python **supports object orientation**, and most libraries use it, but it is not a core feature of the language. It's quite posible to write all python code in a *purely procedural or functional style*, and sometimes it is even preferable to do so!\n",
    "  \n",
    "### Nobody is perfect...\n",
    "  \n",
    "  * Python, in it's default interpreted implementation, is rather **slow** (about 20 times as slow as a pure C implementation) However... \n",
    "      * It can be easily extended with C/C++ written modules that implement the performance critical parts of the application. For example, for numerical work / matrix computations there is the 'numpy' library. \n",
    "      *  There is an superset language called Cython which is syntactically very similar to Python but with some of C's features, such as static variable type declarations. By using Python it is easy to write C-speed extension modules that can easily be imported from Python.\n",
    "      *  There are also some compilable implementations of Python, such as [PyPy](https://pypy.org/). \n"
   ]
  },
  {
   "cell_type": "markdown",
   "metadata": {},
   "source": [
    "## Basic Instructions for the workshop\n",
    "\n",
    "You are expected to evaluate all of each one of the code-cells below _in order_. \n",
    "\n",
    "Do this by pressing **Shift-Enter** on each, in turn. The order is important as sometimes results of previous cells are reused in later cells. \n",
    "\n",
    "Some cells are left empty or incomplete. Those are meant for you to fix something or write the code for a coding exercise."
   ]
  },
  {
   "cell_type": "markdown",
   "metadata": {},
   "source": [
    "# The Zen Of Python"
   ]
  },
  {
   "cell_type": "code",
   "execution_count": 1,
   "metadata": {},
   "outputs": [
    {
     "name": "stdout",
     "output_type": "stream",
     "text": [
      "The Zen of Python, by Tim Peters\n",
      "\n",
      "Beautiful is better than ugly.\n",
      "Explicit is better than implicit.\n",
      "Simple is better than complex.\n",
      "Complex is better than complicated.\n",
      "Flat is better than nested.\n",
      "Sparse is better than dense.\n",
      "Readability counts.\n",
      "Special cases aren't special enough to break the rules.\n",
      "Although practicality beats purity.\n",
      "Errors should never pass silently.\n",
      "Unless explicitly silenced.\n",
      "In the face of ambiguity, refuse the temptation to guess.\n",
      "There should be one-- and preferably only one --obvious way to do it.\n",
      "Although that way may not be obvious at first unless you're Dutch.\n",
      "Now is better than never.\n",
      "Although never is often better than *right* now.\n",
      "If the implementation is hard to explain, it's a bad idea.\n",
      "If the implementation is easy to explain, it may be a good idea.\n",
      "Namespaces are one honking great idea -- let's do more of those!\n"
     ]
    }
   ],
   "source": [
    "import this"
   ]
  },
  {
   "cell_type": "markdown",
   "metadata": {},
   "source": [
    "# Variables"
   ]
  },
  {
   "cell_type": "markdown",
   "metadata": {},
   "source": [
    "A **name** that is used to refer to a value is called a variable. In Python, variables can be declared and values can be assigned to it as follows. "
   ]
  },
  {
   "cell_type": "code",
   "execution_count": 2,
   "metadata": {},
   "outputs": [
    {
     "name": "stdout",
     "output_type": "stream",
     "text": [
      "2 5 Hey 4.8\n",
      "[42, 17, 68]\n",
      "(48, 'ads', 8.0)\n",
      "{'k1': 3, 'k2': 'z', 'k3': 8.0}\n"
     ]
    }
   ],
   "source": [
    "x = 2\n",
    "y = 5\n",
    "xy = 'Hey'\n",
    "w  = 4.8 \n",
    "arr = [42, 17, 68]       # A 'list', internally an array \n",
    "tup = (48, 'ads', 8.0)   # A 'tuple', similar to a list, we will get into the difference later \n",
    "dic = { \"k1\" : 3,  \"k2\" : \"z\", \"k3\" : 8.0 } # A 'dictionary' \n",
    "\n",
    "## We call the built-in print() function on ech of the values defined above\n",
    "print( x , y, xy, w  )\n",
    "print( arr )\n",
    "print( tup )\n",
    "print( dic )\n",
    "# this is a comment "
   ]
  },
  {
   "cell_type": "markdown",
   "metadata": {},
   "source": [
    "A cell containing only a variable name evaluates to the value pointed to by that variable. For example:"
   ]
  },
  {
   "cell_type": "code",
   "execution_count": 8,
   "metadata": {},
   "outputs": [
    {
     "data": {
      "text/plain": [
       "[42, 17, 68]"
      ]
     },
     "execution_count": 8,
     "metadata": {},
     "output_type": "execute_result"
    }
   ],
   "source": [
    "arr"
   ]
  },
  {
   "cell_type": "markdown",
   "metadata": {},
   "source": [
    "One can also show the value of more than one variable, separating them by commas:"
   ]
  },
  {
   "cell_type": "code",
   "execution_count": 7,
   "metadata": {},
   "outputs": [
    {
     "data": {
      "text/plain": [
       "([42, 17, 68], 'Hey')"
      ]
     },
     "execution_count": 7,
     "metadata": {},
     "output_type": "execute_result"
    }
   ],
   "source": [
    "arr, xy"
   ]
  },
  {
   "cell_type": "markdown",
   "metadata": {},
   "source": [
    "Our first error"
   ]
  },
  {
   "cell_type": "code",
   "execution_count": 9,
   "metadata": {},
   "outputs": [
    {
     "ename": "NameError",
     "evalue": "name 'ar' is not defined",
     "output_type": "error",
     "traceback": [
      "\u001b[1;31m---------------------------------------------------------------------------\u001b[0m",
      "\u001b[1;31mNameError\u001b[0m                                 Traceback (most recent call last)",
      "\u001b[1;32m<ipython-input-9-d910bf1833de>\u001b[0m in \u001b[0;36m<module>\u001b[1;34m()\u001b[0m\n\u001b[1;32m----> 1\u001b[1;33m \u001b[0mar\u001b[0m\u001b[1;33m\u001b[0m\u001b[0m\n\u001b[0m",
      "\u001b[1;31mNameError\u001b[0m: name 'ar' is not defined"
     ]
    }
   ],
   "source": [
    "ar"
   ]
  },
  {
   "cell_type": "markdown",
   "metadata": {},
   "source": [
    "Our first function"
   ]
  },
  {
   "cell_type": "markdown",
   "metadata": {},
   "source": [
    "**IMPORTANT NOTE:** A variable is **_NOT_** a box holding a value, like in other languages. \n",
    "It is just a name that holds a *reference* to a value. When we talk about the *value of a variable*, what we really mean is the value pointed at by that reference."
   ]
  },
  {
   "cell_type": "markdown",
   "metadata": {},
   "source": [
    "# Operators"
   ]
  },
  {
   "cell_type": "markdown",
   "metadata": {},
   "source": [
    "## Arithmetic Operators"
   ]
  },
  {
   "cell_type": "markdown",
   "metadata": {},
   "source": [
    "| Symbol | Task Performed |\n",
    "|----|---|\n",
    "| +  | Addition |\n",
    "| -  | Subtraction |\n",
    "| /  | division |\n",
    "| %  | mod |\n",
    "| *  | multiplication |\n",
    "| //  | floor division |\n",
    "| **  | exponentiation |\n",
    "| ~   | negation |"
   ]
  },
  {
   "cell_type": "code",
   "execution_count": null,
   "metadata": {},
   "outputs": [],
   "source": [
    "1 + 2"
   ]
  },
  {
   "cell_type": "code",
   "execution_count": null,
   "metadata": {},
   "outputs": [],
   "source": [
    "\"this is how\" + \"to\" + \"concatenate strings\""
   ]
  },
  {
   "cell_type": "code",
   "execution_count": null,
   "metadata": {},
   "outputs": [],
   "source": [
    "[ \"this is how\", \"to\"] + [\"concatenate\", \"lists\"]"
   ]
  },
  {
   "cell_type": "code",
   "execution_count": null,
   "metadata": {},
   "outputs": [],
   "source": [
    "2-1"
   ]
  },
  {
   "cell_type": "code",
   "execution_count": null,
   "metadata": {},
   "outputs": [],
   "source": [
    "1*2"
   ]
  },
  {
   "cell_type": "code",
   "execution_count": null,
   "metadata": {},
   "outputs": [],
   "source": [
    "1/2"
   ]
  },
  {
   "cell_type": "code",
   "execution_count": null,
   "metadata": {},
   "outputs": [],
   "source": [
    "15 % 10   # Mod division "
   ]
  },
  {
   "cell_type": "markdown",
   "metadata": {},
   "source": [
    "**Floor division** is not exactly _integer division_: "
   ]
  },
  {
   "cell_type": "code",
   "execution_count": null,
   "metadata": {},
   "outputs": [],
   "source": [
    "5 // 2"
   ]
  },
  {
   "cell_type": "code",
   "execution_count": null,
   "metadata": {},
   "outputs": [],
   "source": [
    "-5 // 2"
   ]
  },
  {
   "cell_type": "code",
   "execution_count": null,
   "metadata": {},
   "outputs": [],
   "source": [
    "-2.8 // 2.0 "
   ]
  },
  {
   "cell_type": "markdown",
   "metadata": {},
   "source": [
    "## Relational Operators"
   ]
  },
  {
   "cell_type": "markdown",
   "metadata": {},
   "source": [
    "| Symbol | Task Performed |\n",
    "|----|---|\n",
    "| == | True, if values are equal |\n",
    "| is | True, if identical, i.e. the **same** object  |\n",
    "| !=  | True, if not equal to |\n",
    "| < | less than |\n",
    "| > | greater than |\n",
    "| <=  | less than or equal to |\n",
    "| >=  | greater than or equal to |\n",
    "| in  | test pertenence to a collection (list, set, dictionary) |"
   ]
  },
  {
   "cell_type": "code",
   "execution_count": null,
   "metadata": {},
   "outputs": [],
   "source": [
    "z = 1  "
   ]
  },
  {
   "cell_type": "markdown",
   "metadata": {},
   "source": [
    "As in C/Java/Javascript but unlike in SQL, the last statement is an assignment, not a comparison! \n",
    "Unlike in C/Jave, it doesn't constitute an _expression_; it doesn't return a value!\n",
    "\n",
    "All the following ones are expressions, that return values of type boolean"
   ]
  },
  {
   "cell_type": "code",
   "execution_count": null,
   "metadata": {},
   "outputs": [],
   "source": [
    "z == 1 # This is a comparison, and exp"
   ]
  },
  {
   "cell_type": "code",
   "execution_count": null,
   "metadata": {},
   "outputs": [],
   "source": [
    "z != 1  # test for inequality, people coming from a different family of languages \n",
    "        # would write this  z <> 1 "
   ]
  },
  {
   "cell_type": "code",
   "execution_count": null,
   "metadata": {},
   "outputs": [],
   "source": [
    "z > 1"
   ]
  },
  {
   "cell_type": "code",
   "execution_count": null,
   "metadata": {},
   "outputs": [],
   "source": [
    "z >= 1  # Nothing crazy here!"
   ]
  },
  {
   "cell_type": "code",
   "execution_count": null,
   "metadata": {},
   "outputs": [],
   "source": [
    "arr == [42, 17, 68]"
   ]
  },
  {
   "cell_type": "code",
   "execution_count": null,
   "metadata": {},
   "outputs": [],
   "source": [
    "arr is [42, 17, 68]"
   ]
  },
  {
   "cell_type": "code",
   "execution_count": null,
   "metadata": {},
   "outputs": [],
   "source": [
    "s1 = \"a string\""
   ]
  },
  {
   "cell_type": "code",
   "execution_count": null,
   "metadata": {},
   "outputs": [],
   "source": [
    "s1 == \"a string\""
   ]
  },
  {
   "cell_type": "code",
   "execution_count": null,
   "metadata": {},
   "outputs": [],
   "source": [
    "s1 is \"a string\""
   ]
  },
  {
   "cell_type": "markdown",
   "metadata": {},
   "source": [
    "### The special value `None`"
   ]
  },
  {
   "cell_type": "markdown",
   "metadata": {},
   "source": [
    "In Python, there is special value denoted by `None`. It is _roughly_ analous to C/Java's `NULL`. \n",
    "\n",
    "Although not quite. None is an actual object, an instance of the type called `NoneType`. \n",
    "\n",
    "That means that `None` it is not just an empty reference!\n",
    "\n",
    "In Python, all names (variables) refer to something even if that something is the None object!\n"
   ]
  },
  {
   "cell_type": "code",
   "execution_count": null,
   "metadata": {},
   "outputs": [],
   "source": [
    "None  # This cell shows nothing when evaluated "
   ]
  },
  {
   "cell_type": "code",
   "execution_count": null,
   "metadata": {},
   "outputs": [],
   "source": [
    "str(None) # but None can be converted to string "
   ]
  },
  {
   "cell_type": "code",
   "execution_count": null,
   "metadata": {},
   "outputs": [],
   "source": [
    "type( None )"
   ]
  },
  {
   "cell_type": "markdown",
   "metadata": {},
   "source": [
    "99.9% of the time the `is` comparison operator is only used to compare to the special value `None`"
   ]
  },
  {
   "cell_type": "code",
   "execution_count": null,
   "metadata": {},
   "outputs": [],
   "source": [
    "# z was defined to have a integer value above \n",
    "z is None  "
   ]
  },
  {
   "cell_type": "code",
   "execution_count": null,
   "metadata": {},
   "outputs": [],
   "source": [
    "a = None \n",
    "a is None "
   ]
  },
  {
   "cell_type": "markdown",
   "metadata": {},
   "source": [
    "### Multiple assignment"
   ]
  },
  {
   "cell_type": "markdown",
   "metadata": {},
   "source": [
    "Python has a very nice feature called multiple assignment: \n",
    "\n",
    "you **can assign a number of values to the same number of variables simultaniously: **"
   ]
  },
  {
   "cell_type": "code",
   "execution_count": null,
   "metadata": {},
   "outputs": [],
   "source": [
    "var1, var2, var3 =  ( 5 + 4),  \"Sara\", [13, 17, 23]\n",
    "print( \"var1 =\", var1 )\n",
    "print( \"var2 =\", var2 )\n",
    "print( \"var3 =\", var3 )"
   ]
  },
  {
   "cell_type": "markdown",
   "metadata": {},
   "source": [
    "You can even interchange the values of two varibles easily "
   ]
  },
  {
   "cell_type": "code",
   "execution_count": null,
   "metadata": {},
   "outputs": [],
   "source": [
    "var1, var2 = var2, var1 \n",
    "\n",
    "print( \"var1 =\", var1 )\n",
    "print( \"var2 =\", var2 )"
   ]
  },
  {
   "cell_type": "markdown",
   "metadata": {},
   "source": [
    "If you assing several expressions separated by commans to a single name, you are creating a value of type tuple:"
   ]
  },
  {
   "cell_type": "code",
   "execution_count": null,
   "metadata": {},
   "outputs": [],
   "source": [
    "tup = var1, var2, var3\n",
    "tup"
   ]
  },
  {
   "cell_type": "code",
   "execution_count": null,
   "metadata": {},
   "outputs": [],
   "source": [
    "type( tup ) "
   ]
  },
  {
   "cell_type": "code",
   "execution_count": 17,
   "metadata": {},
   "outputs": [
    {
     "data": {
      "text/plain": [
       "['ArithmeticError',\n",
       " 'AssertionError',\n",
       " 'AttributeError',\n",
       " 'BaseException',\n",
       " 'BlockingIOError',\n",
       " 'BrokenPipeError',\n",
       " 'BufferError',\n",
       " 'BytesWarning',\n",
       " 'ChildProcessError',\n",
       " 'ConnectionAbortedError',\n",
       " 'ConnectionError',\n",
       " 'ConnectionRefusedError',\n",
       " 'ConnectionResetError',\n",
       " 'DeprecationWarning',\n",
       " 'EOFError',\n",
       " 'Ellipsis',\n",
       " 'EnvironmentError',\n",
       " 'Exception',\n",
       " 'False',\n",
       " 'FileExistsError',\n",
       " 'FileNotFoundError',\n",
       " 'FloatingPointError',\n",
       " 'FutureWarning',\n",
       " 'GeneratorExit',\n",
       " 'IOError',\n",
       " 'ImportError',\n",
       " 'ImportWarning',\n",
       " 'IndentationError',\n",
       " 'IndexError',\n",
       " 'InterruptedError',\n",
       " 'IsADirectoryError',\n",
       " 'KeyError',\n",
       " 'KeyboardInterrupt',\n",
       " 'LookupError',\n",
       " 'MemoryError',\n",
       " 'ModuleNotFoundError',\n",
       " 'NameError',\n",
       " 'None',\n",
       " 'NotADirectoryError',\n",
       " 'NotImplemented',\n",
       " 'NotImplementedError',\n",
       " 'OSError',\n",
       " 'OverflowError',\n",
       " 'PendingDeprecationWarning',\n",
       " 'PermissionError',\n",
       " 'ProcessLookupError',\n",
       " 'RecursionError',\n",
       " 'ReferenceError',\n",
       " 'ResourceWarning',\n",
       " 'RuntimeError',\n",
       " 'RuntimeWarning',\n",
       " 'StopAsyncIteration',\n",
       " 'StopIteration',\n",
       " 'SyntaxError',\n",
       " 'SyntaxWarning',\n",
       " 'SystemError',\n",
       " 'SystemExit',\n",
       " 'TabError',\n",
       " 'TimeoutError',\n",
       " 'True',\n",
       " 'TypeError',\n",
       " 'UnboundLocalError',\n",
       " 'UnicodeDecodeError',\n",
       " 'UnicodeEncodeError',\n",
       " 'UnicodeError',\n",
       " 'UnicodeTranslateError',\n",
       " 'UnicodeWarning',\n",
       " 'UserWarning',\n",
       " 'ValueError',\n",
       " 'Warning',\n",
       " 'WindowsError',\n",
       " 'ZeroDivisionError',\n",
       " '__IPYTHON__',\n",
       " '__build_class__',\n",
       " '__debug__',\n",
       " '__doc__',\n",
       " '__import__',\n",
       " '__loader__',\n",
       " '__name__',\n",
       " '__package__',\n",
       " '__spec__',\n",
       " 'abs',\n",
       " 'all',\n",
       " 'any',\n",
       " 'ascii',\n",
       " 'bin',\n",
       " 'bool',\n",
       " 'bytearray',\n",
       " 'bytes',\n",
       " 'callable',\n",
       " 'chr',\n",
       " 'classmethod',\n",
       " 'compile',\n",
       " 'complex',\n",
       " 'copyright',\n",
       " 'credits',\n",
       " 'delattr',\n",
       " 'dict',\n",
       " 'dir',\n",
       " 'display',\n",
       " 'divmod',\n",
       " 'enumerate',\n",
       " 'eval',\n",
       " 'exec',\n",
       " 'filter',\n",
       " 'float',\n",
       " 'format',\n",
       " 'frozenset',\n",
       " 'get_ipython',\n",
       " 'getattr',\n",
       " 'globals',\n",
       " 'hasattr',\n",
       " 'hash',\n",
       " 'help',\n",
       " 'hex',\n",
       " 'id',\n",
       " 'input',\n",
       " 'int',\n",
       " 'isinstance',\n",
       " 'issubclass',\n",
       " 'iter',\n",
       " 'len',\n",
       " 'license',\n",
       " 'list',\n",
       " 'locals',\n",
       " 'map',\n",
       " 'max',\n",
       " 'memoryview',\n",
       " 'min',\n",
       " 'next',\n",
       " 'object',\n",
       " 'oct',\n",
       " 'open',\n",
       " 'ord',\n",
       " 'pow',\n",
       " 'print',\n",
       " 'property',\n",
       " 'range',\n",
       " 'repr',\n",
       " 'reversed',\n",
       " 'round',\n",
       " 'set',\n",
       " 'setattr',\n",
       " 'slice',\n",
       " 'sorted',\n",
       " 'staticmethod',\n",
       " 'str',\n",
       " 'sum',\n",
       " 'super',\n",
       " 'tuple',\n",
       " 'type',\n",
       " 'vars',\n",
       " 'zip']"
      ]
     },
     "execution_count": 17,
     "metadata": {},
     "output_type": "execute_result"
    }
   ],
   "source": [
    "dir( __builtins__ )"
   ]
  },
  {
   "cell_type": "markdown",
   "metadata": {},
   "source": [
    "Given a tuple you can _deconstruct_ it very easily! "
   ]
  },
  {
   "cell_type": "code",
   "execution_count": 13,
   "metadata": {},
   "outputs": [
    {
     "name": "stdout",
     "output_type": "stream",
     "text": [
      "  x1 = 48    x2 = ads    x3 = 8.0\n"
     ]
    }
   ],
   "source": [
    "x1, x2, x3 = tup \n",
    "\n",
    "print( \"  x1 =\", x1, \"   x2 =\", x2, \"   x3 =\", x3 )"
   ]
  },
  {
   "cell_type": "markdown",
   "metadata": {},
   "source": [
    "### Setting up your answer-submitter"
   ]
  },
  {
   "cell_type": "code",
   "execution_count": 9,
   "metadata": {},
   "outputs": [],
   "source": [
    "from dw_utils import AnswerSubmitter \n",
    "\n",
    "anss = AnswerSubmitter(host='52.91.20.10', port=80, \n",
    "                       user=\"Mateo Restrepo\") #poner aquí su nombre completo en comillas ) "
   ]
  },
  {
   "cell_type": "code",
   "execution_count": 15,
   "metadata": {},
   "outputs": [
    {
     "name": "stdout",
     "output_type": "stream",
     "text": [
      "Q00 =\n",
      "'test answer'\n",
      "Answer for question Q00 submitted successfully!\n"
     ]
    }
   ],
   "source": [
    "anss.submit( 'Q00', 'test answer' )"
   ]
  },
  {
   "cell_type": "markdown",
   "metadata": {},
   "source": [
    "# Built-in Functions"
   ]
  },
  {
   "cell_type": "markdown",
   "metadata": {},
   "source": [
    "Python is _batteries included_.\n",
    "That means that it comes **loaded** with built-in functions\n",
    "\n",
    "The basic syntax for evaluating a function is the usual one:  `fun( x, y, z )`, where `x, y, z` are arguments passed to the function (by reference!) \n",
    "It is important to know that arguments are fully evaluated _before_ calling the function. \n",
    "\n",
    "This is what's called the eager-evaluation model. This is the same behaviour that you might be used to if you come from C/Java/Javascript/C# but not what happens in R and that is one of the reasons why R can easily get more confusing than Python..."
   ]
  },
  {
   "cell_type": "markdown",
   "metadata": {},
   "source": [
    "## Types and conversion between types"
   ]
  },
  {
   "cell_type": "markdown",
   "metadata": {},
   "source": [
    "**type( v )** Yields the type of `v` (or the value pointed to by `v`)"
   ]
  },
  {
   "cell_type": "code",
   "execution_count": null,
   "metadata": {},
   "outputs": [],
   "source": [
    "z = [13, 17, 23]\n",
    "z, type( z )"
   ]
  },
  {
   "cell_type": "code",
   "execution_count": null,
   "metadata": {},
   "outputs": [],
   "source": [
    "arr = [42, 17, 68]\n",
    "arr, type( arr ),"
   ]
  },
  {
   "cell_type": "code",
   "execution_count": null,
   "metadata": {},
   "outputs": [],
   "source": [
    "type( type(arr) ), type( type( type(arr) ))"
   ]
  },
  {
   "cell_type": "code",
   "execution_count": null,
   "metadata": {},
   "outputs": [],
   "source": [
    "a, type( a ), type( type(a) )"
   ]
  },
  {
   "cell_type": "code",
   "execution_count": null,
   "metadata": {},
   "outputs": [],
   "source": [
    "w, type( w )"
   ]
  },
  {
   "cell_type": "markdown",
   "metadata": {},
   "source": [
    "**Note**:  `float` actually means double! i.e. 64-bit / double precision floating point number. This is the type usually employed in Machine Learning (ML) calculations."
   ]
  },
  {
   "cell_type": "markdown",
   "metadata": {},
   "source": [
    "**`str(x)`** is analogous to Java's `x.toString()`, it turns anything into a string, often times in a useful way. It's exact behaviour can be defined for user defined classes, but that's a topic for another time..."
   ]
  },
  {
   "cell_type": "code",
   "execution_count": null,
   "metadata": {},
   "outputs": [],
   "source": [
    "str(4.8), type( str(4.8) )"
   ]
  },
  {
   "cell_type": "markdown",
   "metadata": {},
   "source": [
    "**int(x)** is the basic way of trying to convert `x` into an integer; `x` is usually a string or a number in that case"
   ]
  },
  {
   "cell_type": "code",
   "execution_count": null,
   "metadata": {},
   "outputs": [],
   "source": [
    "int( \"1323\"), type( \"1323\"), type( int( \"1323\") )"
   ]
  },
  {
   "cell_type": "code",
   "execution_count": null,
   "metadata": {},
   "outputs": [],
   "source": [
    "type( 4.8 ), int( 4.8 ), type( int(4.8) )"
   ]
  },
  {
   "cell_type": "markdown",
   "metadata": {},
   "source": [
    "Similarly there is float(x): "
   ]
  },
  {
   "cell_type": "markdown",
   "metadata": {},
   "source": [
    "`float(x)` converts a string or another kind of  number to  float"
   ]
  },
  {
   "cell_type": "code",
   "execution_count": null,
   "metadata": {},
   "outputs": [],
   "source": [
    "\"4.8\", type( \"4.8\"),  float(\"4.8\"), type( float(\"4.8\"))"
   ]
  },
  {
   "cell_type": "code",
   "execution_count": null,
   "metadata": {},
   "outputs": [],
   "source": [
    "float( \"juan\" )"
   ]
  },
  {
   "cell_type": "code",
   "execution_count": null,
   "metadata": {},
   "outputs": [],
   "source": [
    "float( \"nan\" ), float( \"inf\"), float( \"-inf\")  # special values of type float!:  https://en.wikipedia.org/wiki/IEEE_754"
   ]
  },
  {
   "cell_type": "markdown",
   "metadata": {},
   "source": [
    "**Exercise B1:** Run the following 3 cells and infer what the built-in function `round` with one or two arguments does"
   ]
  },
  {
   "cell_type": "code",
   "execution_count": null,
   "metadata": {},
   "outputs": [],
   "source": [
    "round( -4.78 )"
   ]
  },
  {
   "cell_type": "code",
   "execution_count": null,
   "metadata": {},
   "outputs": [],
   "source": [
    "round( -3.141516297, 4 )"
   ]
  },
  {
   "cell_type": "code",
   "execution_count": null,
   "metadata": {},
   "outputs": [],
   "source": [
    "B1 = round( -3.141516297, 5 )\n",
    "B1"
   ]
  },
  {
   "cell_type": "code",
   "execution_count": null,
   "metadata": {},
   "outputs": [],
   "source": [
    "anss.submit( \"B1\", B1 )"
   ]
  },
  {
   "cell_type": "markdown",
   "metadata": {},
   "source": [
    "Write your answer here (step on this cell and hit Enter to edit). When you are done ctrl-Enter to : \n",
    "\n",
    "** round( x, d): ** .....\n",
    "\n",
    "Now find the documentation for `round()` here: https://docs.python.org/3/library/functions.html and compare notes"
   ]
  },
  {
   "cell_type": "markdown",
   "metadata": {},
   "source": [
    "**Excercise B2:**\n",
    "Pick any function you like in https://docs.python.org/3/library/functions.html  and try it out on a few inputs"
   ]
  },
  {
   "cell_type": "code",
   "execution_count": null,
   "metadata": {},
   "outputs": [],
   "source": [
    "# replace fun by your function and fill in the arguments\n",
    "B2 = fun(  , ,  )\n",
    "B2"
   ]
  },
  {
   "cell_type": "code",
   "execution_count": null,
   "metadata": {},
   "outputs": [],
   "source": [
    "anss.submit( 'B2', B2 )"
   ]
  },
  {
   "cell_type": "markdown",
   "metadata": {},
   "source": [
    "**chr(x)** is used for converting ASCII to its alphabet equivalent, **ord(x)** is used for the other way round."
   ]
  },
  {
   "cell_type": "code",
   "execution_count": null,
   "metadata": {},
   "outputs": [],
   "source": [
    "chr(98)"
   ]
  },
  {
   "cell_type": "code",
   "execution_count": null,
   "metadata": {},
   "outputs": [],
   "source": [
    "ord('b')"
   ]
  },
  {
   "cell_type": "markdown",
   "metadata": {},
   "source": [
    "* `range( a )` returns a generator (like an iterator) over the sequence of numbers `[0, 1, 2, ..., a-1]`\n",
    "* `range( a, b )` returns a generator over the sequence of numbers `[a, a+1, a+2, ..., b-1]`\n"
   ]
  },
  {
   "cell_type": "code",
   "execution_count": null,
   "metadata": {},
   "outputs": [],
   "source": [
    "range( 10 ), type( range(10))"
   ]
  },
  {
   "cell_type": "code",
   "execution_count": null,
   "metadata": {},
   "outputs": [],
   "source": [
    "range( 50, 100), type( range(10) )"
   ]
  },
  {
   "cell_type": "markdown",
   "metadata": {},
   "source": [
    "To 'materialize' the generator, i.e. actually produce the sequence of numbers as a list, you can wrap-it in a call to list, like so: "
   ]
  },
  {
   "cell_type": "code",
   "execution_count": null,
   "metadata": {},
   "outputs": [],
   "source": [
    "print( list( range(50, 100) ) )"
   ]
  },
  {
   "cell_type": "markdown",
   "metadata": {},
   "source": [
    "**Exercise B3**: What does range(1, 100, 5) produce? Wrap it in a call to list( ), like in the previous example..."
   ]
  },
  {
   "cell_type": "code",
   "execution_count": null,
   "metadata": {},
   "outputs": [],
   "source": [
    "B3 = # your code here "
   ]
  },
  {
   "cell_type": "code",
   "execution_count": null,
   "metadata": {},
   "outputs": [],
   "source": [
    "anss.submit( 'B3', B3 )"
   ]
  },
  {
   "cell_type": "markdown",
   "metadata": {},
   "source": [
    "### Getting help"
   ]
  },
  {
   "cell_type": "markdown",
   "metadata": {},
   "source": [
    "You can call the built-in function **`help()`** on almost everything. \n",
    "For example"
   ]
  },
  {
   "cell_type": "code",
   "execution_count": null,
   "metadata": {},
   "outputs": [],
   "source": [
    "help( list )"
   ]
  },
  {
   "cell_type": "code",
   "execution_count": null,
   "metadata": {},
   "outputs": [],
   "source": [
    "help( range )"
   ]
  },
  {
   "cell_type": "markdown",
   "metadata": {},
   "source": [
    "# More on strings"
   ]
  },
  {
   "cell_type": "markdown",
   "metadata": {},
   "source": [
    "**IMPORTANT:** Strings can que quoted with double quotes (\"...\") or single quotes ('...'), the two syntaxes are essentially equivalent!"
   ]
  },
  {
   "cell_type": "code",
   "execution_count": null,
   "metadata": {},
   "outputs": [],
   "source": [
    "'Juan' == \"Juan\""
   ]
  },
  {
   "cell_type": "markdown",
   "metadata": {},
   "source": [
    "The only difference is that in double-quoted strings the ' character does not need scaping and in single quoted strings the \" character does not have to be scaped"
   ]
  },
  {
   "cell_type": "code",
   "execution_count": null,
   "metadata": {},
   "outputs": [],
   "source": [
    "'Juan said: \"Yeah\"' == \"Juan said: \\\"Yeah\\\"\""
   ]
  },
  {
   "cell_type": "code",
   "execution_count": null,
   "metadata": {},
   "outputs": [],
   "source": [
    "MS1 = \"Juan's sisters\" == 'Juan\\'s sisters' \n",
    "anss.submit( 'MS1', MS1 )"
   ]
  },
  {
   "cell_type": "markdown",
   "metadata": {},
   "source": [
    "Strings may contain any Unicode characters, including emojis!"
   ]
  },
  {
   "cell_type": "code",
   "execution_count": null,
   "metadata": {},
   "outputs": [],
   "source": [
    "'I feel \\U0001F604'"
   ]
  },
  {
   "cell_type": "markdown",
   "metadata": {},
   "source": [
    "It is possible to have multiline strings containing quotes, as follows:"
   ]
  },
  {
   "cell_type": "code",
   "execution_count": null,
   "metadata": {},
   "outputs": [],
   "source": [
    "multi_line = \"\"\"A Haiku:\n",
    "\n",
    "One day I was born\n",
    "When I was eight, navel found\n",
    "The smell set me free.\n",
    "\n",
    "\"\"\""
   ]
  },
  {
   "cell_type": "code",
   "execution_count": null,
   "metadata": {},
   "outputs": [],
   "source": [
    "print( multi_line )"
   ]
  },
  {
   "cell_type": "markdown",
   "metadata": {},
   "source": [
    "## String interpolation"
   ]
  },
  {
   "cell_type": "markdown",
   "metadata": {},
   "source": [
    "The easiest way to insert dynamically evaluated values in strings is by means of string interpolation. \n",
    "\n",
    "This is done using `f\"....{var1}... {var2}\"` syntax.\n",
    "\n",
    "Example:"
   ]
  },
  {
   "cell_type": "code",
   "execution_count": null,
   "metadata": {},
   "outputs": [],
   "source": [
    "juans_height = 1.70\n",
    "num_siblings  = 2 \n",
    "\n",
    "f\"Juan is {juans_height} meters tall and has {num_siblings} brothers and sisters\""
   ]
  },
  {
   "cell_type": "markdown",
   "metadata": {},
   "source": [
    "One can also specify precision, with the `\"...{var:.#f}...\"` syntax, where # is the number of decimal digits"
   ]
  },
  {
   "cell_type": "code",
   "execution_count": null,
   "metadata": {},
   "outputs": [],
   "source": [
    "f\"Juan is {juans_height:.2f} meters tall\""
   ]
  },
  {
   "cell_type": "markdown",
   "metadata": {},
   "source": [
    "One can even use **full expressions** (including function calls!) within the braces: "
   ]
  },
  {
   "cell_type": "code",
   "execution_count": null,
   "metadata": {},
   "outputs": [],
   "source": [
    "luisas_height = 1.60\n",
    "f\"Juan is { round( (juans_height - luisas_height)* 100 )  }cm taller than Luisa\""
   ]
  },
  {
   "cell_type": "markdown",
   "metadata": {},
   "source": [
    "In most Python code written before version 3.6 you will find old-style c-format strings with so-called substitution sequenceses  (from the 1970's 😫)"
   ]
  },
  {
   "cell_type": "code",
   "execution_count": null,
   "metadata": {},
   "outputs": [],
   "source": [
    "\"Juan is %f meters high and has %d brothers and sisters\" % (juans_height, num_siblings) "
   ]
  },
  {
   "cell_type": "markdown",
   "metadata": {},
   "source": [
    "A slightly newer and better syntax uses the format method on strings "
   ]
  },
  {
   "cell_type": "code",
   "execution_count": null,
   "metadata": {},
   "outputs": [],
   "source": [
    "\"Juan is {jh} meters tall and has {ns} brothers and sisters\".format( jh= juans_height, ns=num_siblings  )"
   ]
  },
  {
   "cell_type": "markdown",
   "metadata": {},
   "source": [
    "The following is also a simple common solution, although not the most efficient"
   ]
  },
  {
   "cell_type": "code",
   "execution_count": null,
   "metadata": {},
   "outputs": [],
   "source": [
    "\"Juan is \" + str(juans_height) + \" meters tall and has \" + str(num_siblings) + \" brothers and sisters\" "
   ]
  },
  {
   "cell_type": "markdown",
   "metadata": {},
   "source": [
    "I hope you will agree with me that the newer syntax we first saw is vastly superior: \n"
   ]
  },
  {
   "cell_type": "code",
   "execution_count": null,
   "metadata": {},
   "outputs": [],
   "source": [
    "F1 = f\"Juan is {juans_height} meters tall and has {num_siblings} brothers and sisters\""
   ]
  },
  {
   "cell_type": "code",
   "execution_count": null,
   "metadata": {},
   "outputs": [],
   "source": [
    "anss.submit( 'F1', F1 )"
   ]
  },
  {
   "cell_type": "markdown",
   "metadata": {},
   "source": [
    "As in C/Java, etc., A string can also contain special escape codes for caracters such as line feed (`'\\n'`) and tab (`'\\t'`) "
   ]
  },
  {
   "cell_type": "code",
   "execution_count": null,
   "metadata": {},
   "outputs": [],
   "source": [
    "a_str = f\"Juan is {juans_height} meters tall\\n\\tand has {num_siblings} brothers\\nand sisters\"\n",
    "print( a_str )"
   ]
  },
  {
   "cell_type": "markdown",
   "metadata": {},
   "source": [
    "### String indexing"
   ]
  },
  {
   "cell_type": "markdown",
   "metadata": {},
   "source": [
    "The following shouldn't be very surprising"
   ]
  },
  {
   "cell_type": "code",
   "execution_count": null,
   "metadata": {},
   "outputs": [],
   "source": [
    "b_str = \"Juan's height\""
   ]
  },
  {
   "cell_type": "code",
   "execution_count": null,
   "metadata": {},
   "outputs": [],
   "source": [
    "b_str[0]"
   ]
  },
  {
   "cell_type": "code",
   "execution_count": null,
   "metadata": {},
   "outputs": [],
   "source": [
    "S2 = b_str[1]"
   ]
  },
  {
   "cell_type": "code",
   "execution_count": null,
   "metadata": {},
   "outputs": [],
   "source": [
    "anss.submit( 'S2', S2 ) "
   ]
  },
  {
   "cell_type": "markdown",
   "metadata": {},
   "source": [
    "**Exercise S3:** What is the result of evaluating `type( b_str[0] )`?"
   ]
  },
  {
   "cell_type": "code",
   "execution_count": null,
   "metadata": {},
   "outputs": [],
   "source": [
    "S3 = # your code here"
   ]
  },
  {
   "cell_type": "code",
   "execution_count": null,
   "metadata": {},
   "outputs": [],
   "source": [
    "anss.submit( 'S3', S3 )"
   ]
  },
  {
   "cell_type": "code",
   "execution_count": null,
   "metadata": {},
   "outputs": [],
   "source": [
    "\"J\" == 'J'"
   ]
  },
  {
   "cell_type": "code",
   "execution_count": null,
   "metadata": {},
   "outputs": [],
   "source": [
    "type( 'J')"
   ]
  },
  {
   "cell_type": "markdown",
   "metadata": {},
   "source": [
    "### Strings are immutable!"
   ]
  },
  {
   "cell_type": "markdown",
   "metadata": {},
   "source": [
    "Let's attempt to change the 'u' at position 1 by an 'o'"
   ]
  },
  {
   "cell_type": "code",
   "execution_count": null,
   "metadata": {},
   "outputs": [],
   "source": [
    "b_str[1] = 'o'"
   ]
  },
  {
   "cell_type": "markdown",
   "metadata": {},
   "source": [
    "**Exercise:  SI1** What happens?  If you get an error. Copy an paste the last line of the error essage and submit it "
   ]
  },
  {
   "cell_type": "code",
   "execution_count": null,
   "metadata": {},
   "outputs": [],
   "source": [
    "anss.submit( \"SI1\", \"Replace this string by the last line of the error message here. Keep the quotes!\" )"
   ]
  },
  {
   "cell_type": "markdown",
   "metadata": {},
   "source": [
    "### String slices"
   ]
  },
  {
   "cell_type": "markdown",
   "metadata": {},
   "source": [
    "String slicing is the way to take substrings out of longer strings:"
   ]
  },
  {
   "cell_type": "code",
   "execution_count": null,
   "metadata": {},
   "outputs": [],
   "source": [
    "b_str[0:4]"
   ]
  },
  {
   "cell_type": "code",
   "execution_count": null,
   "metadata": {},
   "outputs": [],
   "source": [
    "b_str[:4]  # Exactly Equivalent to the previous one (0 is the implicit starting index)"
   ]
  },
  {
   "cell_type": "code",
   "execution_count": null,
   "metadata": {},
   "outputs": [],
   "source": [
    "b_str[4:]  # from the fourth character till the end"
   ]
  },
  {
   "cell_type": "code",
   "execution_count": null,
   "metadata": {},
   "outputs": [],
   "source": [
    "b_str[7:13] # specify start and end indices"
   ]
  },
  {
   "cell_type": "code",
   "execution_count": null,
   "metadata": {},
   "outputs": [],
   "source": [
    "anss.submit( \"SS1\", b_str[7:13])"
   ]
  },
  {
   "cell_type": "code",
   "execution_count": null,
   "metadata": {},
   "outputs": [],
   "source": [
    "b_str[-6:] # Negative indices count from the end!"
   ]
  },
  {
   "cell_type": "code",
   "execution_count": null,
   "metadata": {},
   "outputs": [],
   "source": [
    "b_str[-6:-2] # This leaves out the last two characters"
   ]
  },
  {
   "cell_type": "markdown",
   "metadata": {},
   "source": [
    "### A few more cool operations on strings \n"
   ]
  },
  {
   "cell_type": "code",
   "execution_count": null,
   "metadata": {},
   "outputs": [],
   "source": [
    "\"Remember\" + \"string concatenation!\""
   ]
  },
  {
   "cell_type": "markdown",
   "metadata": {},
   "source": [
    "**Exercise S4:** Fix the example above to include a space between the words \"Remember\" and \"string\""
   ]
  },
  {
   "cell_type": "code",
   "execution_count": null,
   "metadata": {},
   "outputs": [],
   "source": [
    "S4 = # Your fixed code here \n",
    "anss.submit( 'S4', S3 )"
   ]
  },
  {
   "cell_type": "markdown",
   "metadata": {},
   "source": [
    "The built-in function len returns the length of a string:"
   ]
  },
  {
   "cell_type": "markdown",
   "metadata": {},
   "source": [
    "**Exercise S5**: what is `len( \"Juan Andrés\" )`?"
   ]
  },
  {
   "cell_type": "code",
   "execution_count": 10,
   "metadata": {},
   "outputs": [
    {
     "name": "stdout",
     "output_type": "stream",
     "text": [
      "S5 =\n",
      "11\n",
      "Answer for question S5 submitted successfully!\n"
     ]
    }
   ],
   "source": [
    "S5 = len( \"Juan Andrés\" )\n",
    "anss.submit( \"S5\", S5 )"
   ]
  },
  {
   "cell_type": "markdown",
   "metadata": {},
   "source": [
    "Strings can be multiplied by a positive integer"
   ]
  },
  {
   "cell_type": "code",
   "execution_count": null,
   "metadata": {},
   "outputs": [],
   "source": [
    "\"Juan\" * 5"
   ]
  },
  {
   "cell_type": "markdown",
   "metadata": {},
   "source": [
    "**Exercise S5:**  What is len( \"Juan\" * 5 ) ?"
   ]
  },
  {
   "cell_type": "code",
   "execution_count": 13,
   "metadata": {},
   "outputs": [
    {
     "name": "stdout",
     "output_type": "stream",
     "text": [
      "S5b =\n",
      "20\n",
      "Answer for question S5b submitted successfully!\n"
     ]
    }
   ],
   "source": [
    "S5b = len( \"Juan\" * 5 )\n",
    "anss.submit( \"S5b\", S5b )"
   ]
  },
  {
   "cell_type": "code",
   "execution_count": null,
   "metadata": {},
   "outputs": [],
   "source": [
    "\"Juan\" * 4.8"
   ]
  },
  {
   "cell_type": "markdown",
   "metadata": {},
   "source": [
    "There is a built-in function (actually a method of the class string) to split a string by a character. Very common when reading (simple) CSV files, for example"
   ]
  },
  {
   "cell_type": "code",
   "execution_count": null,
   "metadata": {},
   "outputs": [],
   "source": [
    "data = \"Juan,1.70,2\".split( \",\" )"
   ]
  },
  {
   "cell_type": "code",
   "execution_count": null,
   "metadata": {},
   "outputs": [],
   "source": [
    "type( data )"
   ]
  },
  {
   "cell_type": "markdown",
   "metadata": {},
   "source": [
    "**Exercise S6:** Change the separator in the example above from ',' to '|' and the argument to split accordingly, submit the resulting list string as answer *S5*"
   ]
  },
  {
   "cell_type": "code",
   "execution_count": null,
   "metadata": {},
   "outputs": [],
   "source": [
    "anss.submit( 'S6', S6 )"
   ]
  },
  {
   "cell_type": "markdown",
   "metadata": {},
   "source": [
    "The inverse to operation is `join` (also a method on str, not on list!): "
   ]
  },
  {
   "cell_type": "code",
   "execution_count": null,
   "metadata": {},
   "outputs": [],
   "source": [
    "\"    \".join(  data )"
   ]
  },
  {
   "cell_type": "markdown",
   "metadata": {},
   "source": [
    "Another useful method on strings is `str.find( x )` which returns the index of the first occurrence a substring `x` withing a longer string"
   ]
  },
  {
   "cell_type": "code",
   "execution_count": null,
   "metadata": {},
   "outputs": [],
   "source": [
    "b_str = \"Juan's height is\"\n",
    "b_str.find( \"height\" )"
   ]
  },
  {
   "cell_type": "markdown",
   "metadata": {},
   "source": [
    "**Exercise S7:** What is `b_str.find('Mateo')`? "
   ]
  },
  {
   "cell_type": "code",
   "execution_count": null,
   "metadata": {},
   "outputs": [],
   "source": [
    "anss.submit( \"S5\", S5 )"
   ]
  },
  {
   "cell_type": "markdown",
   "metadata": {},
   "source": [
    "## Accepting User Inputs"
   ]
  },
  {
   "cell_type": "markdown",
   "metadata": {},
   "source": [
    "**input( )** accepts input and stores it _as a string_. Hence, if the user inputs a integer, your code should convert the string to an integer and then proceed."
   ]
  },
  {
   "cell_type": "code",
   "execution_count": null,
   "metadata": {},
   "outputs": [],
   "source": [
    "abc = input(\"Type something here and it will be stored in variable abc \\t\")"
   ]
  },
  {
   "cell_type": "code",
   "execution_count": null,
   "metadata": {},
   "outputs": [],
   "source": [
    "B4 = type(abc)\n",
    "anss.submit( 'B4', B4 )"
   ]
  },
  {
   "cell_type": "markdown",
   "metadata": {},
   "source": [
    "<div id=\"lists\"></div>\n",
    "### Lists (L)\n",
    "\n",
    "Very analogous to strings with a few extra methods:   \n"
   ]
  },
  {
   "cell_type": "code",
   "execution_count": 2,
   "metadata": {},
   "outputs": [],
   "source": [
    "string_list = [ \"Juan\", \"is\", \"1.70\", \"metres\", \"high\"]"
   ]
  },
  {
   "cell_type": "markdown",
   "metadata": {},
   "source": [
    "**Exercise L1:** What is `len( string_list )`?"
   ]
  },
  {
   "cell_type": "code",
   "execution_count": null,
   "metadata": {},
   "outputs": [],
   "source": [
    "\n",
    "anss.submit( 'L1', L1 )"
   ]
  },
  {
   "cell_type": "markdown",
   "metadata": {},
   "source": [
    "**Exercise L2:** what is `string_list[0]` ?"
   ]
  },
  {
   "cell_type": "code",
   "execution_count": null,
   "metadata": {},
   "outputs": [],
   "source": [
    "\n",
    "anss.submit( 'L1',  )"
   ]
  },
  {
   "cell_type": "markdown",
   "metadata": {},
   "source": [
    "**Exercise L3:** What is `string_list[-1]`? "
   ]
  },
  {
   "cell_type": "code",
   "execution_count": null,
   "metadata": {},
   "outputs": [],
   "source": [
    "\n",
    "anss.submit( 'L3', L3  )"
   ]
  },
  {
   "cell_type": "markdown",
   "metadata": {},
   "source": [
    "**Exercise L4:** What is `string_list[2]`? "
   ]
  },
  {
   "cell_type": "code",
   "execution_count": null,
   "metadata": {},
   "outputs": [],
   "source": [
    "\n",
    "anss.submit( 'L4', L4 )"
   ]
  },
  {
   "cell_type": "code",
   "execution_count": null,
   "metadata": {},
   "outputs": [],
   "source": [
    "### List slicing"
   ]
  },
  {
   "cell_type": "markdown",
   "metadata": {},
   "source": [
    "**Exercise L5:** What is `string_list[:3]`? "
   ]
  },
  {
   "cell_type": "code",
   "execution_count": null,
   "metadata": {},
   "outputs": [],
   "source": [
    "L5 =  \n",
    "\n",
    "anss.submit( 'L5',  L5)"
   ]
  },
  {
   "cell_type": "markdown",
   "metadata": {},
   "source": [
    "**Exercise L6:** What is `string_list[3:10]`? "
   ]
  },
  {
   "cell_type": "code",
   "execution_count": null,
   "metadata": {
    "scrolled": true
   },
   "outputs": [],
   "source": [
    "\n",
    "anss.submit( 'L6',  L6)"
   ]
  },
  {
   "cell_type": "markdown",
   "metadata": {},
   "source": [
    "**Exercise L7:** What is `string_list[2:]`? "
   ]
  },
  {
   "cell_type": "code",
   "execution_count": null,
   "metadata": {},
   "outputs": [],
   "source": [
    "\n",
    "anss.submit( 'L7',  L7)"
   ]
  },
  {
   "cell_type": "markdown",
   "metadata": {},
   "source": [
    "### Lists ARE mutable, however!"
   ]
  },
  {
   "cell_type": "code",
   "execution_count": 3,
   "metadata": {},
   "outputs": [
    {
     "data": {
      "text/plain": [
       "['Juan', 'is', '1.70', 'metres', 'tall']"
      ]
     },
     "execution_count": 3,
     "metadata": {},
     "output_type": "execute_result"
    }
   ],
   "source": [
    "string_list[4] = 'tall'\n",
    "string_list"
   ]
  },
  {
   "cell_type": "markdown",
   "metadata": {},
   "source": [
    "We try to copy the list..."
   ]
  },
  {
   "cell_type": "code",
   "execution_count": 4,
   "metadata": {},
   "outputs": [],
   "source": [
    "s_list2 = string_list"
   ]
  },
  {
   "cell_type": "code",
   "execution_count": 6,
   "metadata": {},
   "outputs": [
    {
     "data": {
      "text/plain": [
       "['Juan', 'is', '1.74', 'metres', 'tall']"
      ]
     },
     "execution_count": 6,
     "metadata": {},
     "output_type": "execute_result"
    }
   ],
   "source": [
    "s_list2[2] = '1.74' \n",
    "s_list2"
   ]
  },
  {
   "cell_type": "code",
   "execution_count": 7,
   "metadata": {},
   "outputs": [
    {
     "data": {
      "text/plain": [
       "'1.74'"
      ]
     },
     "execution_count": 7,
     "metadata": {},
     "output_type": "execute_result"
    }
   ],
   "source": [
    "string_list[2]"
   ]
  },
  {
   "cell_type": "markdown",
   "metadata": {},
   "source": [
    "**Exercise LM7:** What do you think is `string_list[2]` at this point? What is it actually?"
   ]
  },
  {
   "cell_type": "code",
   "execution_count": null,
   "metadata": {},
   "outputs": [],
   "source": [
    "\n",
    "anss.submit( 'LM7',  LM7)"
   ]
  },
  {
   "cell_type": "markdown",
   "metadata": {},
   "source": [
    "**Exercise LM8:** What is the result of evaluating `s_list2 == string_list` ? "
   ]
  },
  {
   "cell_type": "code",
   "execution_count": null,
   "metadata": {},
   "outputs": [],
   "source": [
    "\n",
    "anss.submit( 'LM8',  LM8)"
   ]
  },
  {
   "cell_type": "markdown",
   "metadata": {},
   "source": [
    "**Exercise L9:** What is the result of evaluating `s_list2 is string_list` ? "
   ]
  },
  {
   "cell_type": "code",
   "execution_count": null,
   "metadata": {},
   "outputs": [],
   "source": [
    "\n",
    "\n",
    "anss.submit( 'LM9',  LM9)"
   ]
  },
  {
   "cell_type": "markdown",
   "metadata": {},
   "source": [
    "**Exercise L10:** What happens if you try to access `string_list[10]`? \n",
    "  1. I get `None`\n",
    "  2. An exception occurrs \n",
    "  3. Something else "
   ]
  },
  {
   "cell_type": "code",
   "execution_count": null,
   "metadata": {},
   "outputs": [],
   "source": [
    "\n",
    "anss.submit( 'L10',  # 1 , 2  or 3 )"
   ]
  },
  {
   "cell_type": "markdown",
   "metadata": {},
   "source": [
    "**Exercise L11:** What happens if you try to set `string_list[10]` to a value? \n",
    "  1. It works fine\n",
    "  2. An exception occurrs \n",
    "  3. Something else "
   ]
  },
  {
   "cell_type": "code",
   "execution_count": null,
   "metadata": {},
   "outputs": [],
   "source": [
    "\n",
    "anss.submit( 'L11',  # 1 , 2  or 3 )"
   ]
  },
  {
   "cell_type": "markdown",
   "metadata": {},
   "source": [
    "**Exercise L12:** Looking at the documentation shown by the previous command, what is the name of the list method that can be used to add an element at the end of the list? \n",
    "( *Hint*: If you prefer a nicer formatted document [go here](https://docs.python.org/3/library/stdtypes.html#sequence-types-list-tuple-range))"
   ]
  },
  {
   "cell_type": "code",
   "execution_count": null,
   "metadata": {},
   "outputs": [],
   "source": [
    "anss.submit( 'L12',  # name of method as a quoted string  )"
   ]
  },
  {
   "cell_type": "markdown",
   "metadata": {},
   "source": [
    "As with strings, it is posible to 'multiply' a list by an integer. This is very useful sometimes when working with data"
   ]
  },
  {
   "cell_type": "code",
   "execution_count": null,
   "metadata": {},
   "outputs": [],
   "source": [
    "zeros =  [ 0 ] * 17 "
   ]
  },
  {
   "cell_type": "code",
   "execution_count": null,
   "metadata": {},
   "outputs": [],
   "source": [
    "anss.submit( 'L13', zeros )"
   ]
  },
  {
   "cell_type": "markdown",
   "metadata": {},
   "source": [
    "**Exercise L14: ** Write an expression that generates a list with 15 elements following this pattern: \"a\", \"b\", \"c\", \"a\", \"b\", \"c\", ...."
   ]
  },
  {
   "cell_type": "code",
   "execution_count": null,
   "metadata": {},
   "outputs": [],
   "source": [
    "L14 = \n",
    "\n",
    "anss.submit( 'L14', L14 )"
   ]
  },
  {
   "cell_type": "markdown",
   "metadata": {},
   "source": [
    "## Sorting lists"
   ]
  },
  {
   "cell_type": "markdown",
   "metadata": {},
   "source": [
    "Sorting lists or arrays is an extremely common operation. In Python, this is a one-liner thangs to the built-in function sorted`"
   ]
  },
  {
   "cell_type": "code",
   "execution_count": null,
   "metadata": {},
   "outputs": [],
   "source": [
    "sorted_list = sorted( [ 42, 17, 8, 23] )"
   ]
  },
  {
   "cell_type": "code",
   "execution_count": null,
   "metadata": {},
   "outputs": [],
   "source": [
    "anss.submit( 'L23', sorted_list )"
   ]
  },
  {
   "cell_type": "markdown",
   "metadata": {},
   "source": [
    "Later we will see how to specify a different sorted order and how to sort lists consisting of arbitrary objects by some criterion"
   ]
  },
  {
   "cell_type": "markdown",
   "metadata": {},
   "source": [
    "### For loops\n",
    "\n",
    "For loops are specially simple in Python. The basic syntax is as follows"
   ]
  },
  {
   "cell_type": "code",
   "execution_count": null,
   "metadata": {},
   "outputs": [],
   "source": [
    "for elem in string_list : \n",
    "    print( elem )\n",
    "    print( len(elem), 'character\\n' )\n",
    "    \n",
    "print( \"The loop is done\")"
   ]
  },
  {
   "cell_type": "markdown",
   "metadata": {},
   "source": [
    "Three crucial things to note aboute the syntax: \n",
    "  * The basic template for starting a loop is `for <var-name>  in  <iterable> :`\n",
    "    * We will talk more about what _iterables_ are in what follows. Naturally, a list is iterable. \n",
    "  * **Very important** note the ':' at the end. It is mandatory, without it you will get a not very helpul error! In fact this ':' at the end is common to almost all Python control of flow constructs, as we will see later.\n",
    "  \n",
    "  * The block of two statements under the for to be iterated is **determined by indentation**. I.e they should be all indented \n",
    "  by the same amount (usually Python editors are set up to replace <TAB> by 4 spaces)\n",
    "\n",
    "Not so crucially: the **empty line after the two statements** is not mandatory, but is considered good practice. The important thing is that the line after that is no longer indented with respect to the `for` and, hence, it is already out of the loop. \n",
    "  "
   ]
  },
  {
   "cell_type": "markdown",
   "metadata": {},
   "source": [
    "### Important advise on indented blocks \n",
    "\n",
    "Blocks delimited by indentation are probably the hardests things to get used to when you are new to Python, but they don't need to be painful! In fact, you will soon realize that this is one of the greatest features of Python and it leads to nicer looking code with fewer alien symbols!  \n",
    "\n",
    "A common pitfall for beginners is using a code editor that doesn't have a special Python mode or that let's you mix tabs with space for indentation. when working on a Python project you should always avoid that kind of editors, as they can be an endless source of frustration for you. Always use Python-aware editors, such as the Spyder IDE that is included with Anaconda or Visual Studio Code with the Python plugin installed. When using those make sure to *always* name your Python source code files with '.py' extension, so that the editor knows that you are writing a Python script or module.  "
   ]
  },
  {
   "cell_type": "markdown",
   "metadata": {},
   "source": [
    "** Exercise F1 **: Repeat the for loop code above but delete the ':' at the end of the first line. Run it. What error do you get?        "
   ]
  },
  {
   "cell_type": "code",
   "execution_count": null,
   "metadata": {},
   "outputs": [],
   "source": []
  },
  {
   "cell_type": "markdown",
   "metadata": {},
   "source": [
    "### Another important example of an iterable : range( a, b, s ) "
   ]
  },
  {
   "cell_type": "markdown",
   "metadata": {},
   "source": [
    "A very common form of for loop is one that iterates from `0` to `n-1`. \n",
    "This is easily achieved with the help of built-in function `range()`, as follows."
   ]
  },
  {
   "cell_type": "code",
   "execution_count": null,
   "metadata": {},
   "outputs": [],
   "source": [
    "n = 10 # desired number of iterations\n",
    "\n",
    "for  i in range(20,3,-5) : \n",
    "    print( f\"i = {i}\")"
   ]
  },
  {
   "cell_type": "markdown",
   "metadata": {},
   "source": [
    "**Exercise F2:** In the previous code snippet, change `range(n)` by `range(3,10)` and rerun:\n",
    "\n",
    "  1. What is the first value of `i`? \n",
    "  2. What is the second value of `i`? \n",
    "  3. What is the last value of `i`? "
   ]
  },
  {
   "cell_type": "code",
   "execution_count": null,
   "metadata": {},
   "outputs": [],
   "source": [
    "anss.submit( \"F2.1\",  ); anss.submit( \"F2.2\",  ); anss.submit( \"F2.3\",   )"
   ]
  },
  {
   "cell_type": "markdown",
   "metadata": {},
   "source": [
    "**Exercise F3:**  In the previous code snippet, change `range(n)` by `range(3, 20, 5)` and rerun:\n",
    "        \n",
    "  1. What is the first value of `i`? \n",
    "  2. What is the second value of `i`? \n",
    "  3. What is the last value of `i`? \n",
    "  "
   ]
  },
  {
   "cell_type": "code",
   "execution_count": null,
   "metadata": {},
   "outputs": [],
   "source": [
    "anss.submit( \"F3.1\",  ); anss.submit( \"F3.2\",  ); anss.submit( \"F3.3\",   )"
   ]
  },
  {
   "cell_type": "markdown",
   "metadata": {},
   "source": [
    "**Exercise F4:**  In the previous code snippet, change `range(n)` by `range(20, 3, -5)` and rerun:\n",
    "        \n",
    "  1. What is the first value of `i`? \n",
    "  2. What is the second value of `i`? \n",
    "  3. What is the last value of `i`?   "
   ]
  },
  {
   "cell_type": "code",
   "execution_count": null,
   "metadata": {},
   "outputs": [],
   "source": [
    "anss.submit( \"F4.1\",  ); anss.submit( \"F4.2\",  ); anss.submit( \"F4.3\",   )"
   ]
  },
  {
   "cell_type": "markdown",
   "metadata": {},
   "source": [
    "## Other control flow structures"
   ]
  },
  {
   "cell_type": "markdown",
   "metadata": {},
   "source": [
    "If you come from a C-language family background, the following control flow structures should be natural two you"
   ]
  },
  {
   "cell_type": "markdown",
   "metadata": {},
   "source": [
    "### if - elif - else "
   ]
  },
  {
   "cell_type": "markdown",
   "metadata": {},
   "source": [
    "Basic example:"
   ]
  },
  {
   "cell_type": "code",
   "execution_count": null,
   "metadata": {},
   "outputs": [],
   "source": [
    "z = 16"
   ]
  },
  {
   "cell_type": "code",
   "execution_count": null,
   "metadata": {},
   "outputs": [],
   "source": [
    "if  z > 10 :   \n",
    "    print( \"A: This is big!!!\")\n",
    "    print( \"B: That's what she said!\")\n",
    "else if z == 0 : \n",
    "    print( \"z is zilch!!!\")\n",
    "elif z > -10 : \n",
    "    print( \"z is between -10 and 10 but not zero\")\n",
    "else : \n",
    "    print( \"z is probably negative. Who knows... computers are weird...\")\n",
    "    "
   ]
  },
  {
   "cell_type": "markdown",
   "metadata": {},
   "source": [
    "Things to notice: \n",
    "    \n",
    "  1. There are no parentheses around the boolean conditions! Python's minimality of syntax strikes again!\n",
    "  2. You can put parentheses around the boolean conditions if you really, truly, deeply want to, but my advise is:   \n",
    "    **Don't bother, save on keystrokes and screen ink! Think of the code you will leave for future generations to read and marvel at your elegant Zen style.**  Besides, if you do, people are going to make fun at you for not having abandoned your outdated C/Java ways.\n",
    "\n",
    "  3. there can be as many `elif` branches as you want each with an explicit condition\n",
    "  4.  there can be only one `else` at the end, with no condition, of course!\n",
    "  "
   ]
  },
  {
   "cell_type": "markdown",
   "metadata": {},
   "source": [
    "**Exercise I1:** What happens if you change elif in the fourth line of the previous code snippet by 'else if' ?\n",
    "\n",
    "1. Everything works just fine \n",
    "2. A 'NameError' is produced because z is not defined\n",
    "3. A 'Syntax Error' is produced because 'else' has to be *ALWAYS* followed by the token ':' and cannot be directly followed by 'if'.\n",
    "4. Something else "
   ]
  },
  {
   "cell_type": "code",
   "execution_count": null,
   "metadata": {},
   "outputs": [],
   "source": [
    "anss.submit( 'I1',  )"
   ]
  },
  {
   "cell_type": "code",
   "execution_count": null,
   "metadata": {},
   "outputs": [],
   "source": []
  },
  {
   "cell_type": "markdown",
   "metadata": {},
   "source": [
    "**Exercise I2:** What happens if you change the definition of the name (variable) `z` by `z = \"juan\"` and rerun the 'if-elif-else' statement?\n",
    "\n",
    "1. I get a 'SyntaxError' because it is not possible to assign a value of type string to a variable that previously contained an integer\n",
    "2. I get a 'ValueError' because the comparison of string to int is not defined\n",
    "3. I get a 'TypeError' because it is impossible to compare string to int\n",
    "4. Everything works just fine"
   ]
  },
  {
   "cell_type": "code",
   "execution_count": null,
   "metadata": {},
   "outputs": [],
   "source": []
  },
  {
   "cell_type": "code",
   "execution_count": null,
   "metadata": {},
   "outputs": [],
   "source": [
    "anss.submit( 'I2',  )"
   ]
  },
  {
   "cell_type": "markdown",
   "metadata": {},
   "source": [
    "**Exercise I3:** What happens if you change the definition of the name 'z' to `z = float(\"nan\")` and rerun the 'if-elif-else' statement again? \n",
    "1. I get a 'SyntaxError' because it is not possible to assign a nan-value string to a variable that previously contained an integer\n",
    "2. I get a 'ValueError' because the comparison of float  to int is not defined\n",
    "3. I get a 'TypeError' because it is impossible to compare string to int\n",
    "4. Everything works just fine"
   ]
  },
  {
   "cell_type": "code",
   "execution_count": null,
   "metadata": {},
   "outputs": [],
   "source": [
    "anss.submit( 'I3',  )"
   ]
  },
  {
   "cell_type": "markdown",
   "metadata": {},
   "source": [
    "### while loops \n",
    "\n",
    "These are almost boring...\n",
    "The basic syntax is as follows: "
   ]
  },
  {
   "cell_type": "code",
   "execution_count": null,
   "metadata": {},
   "outputs": [],
   "source": [
    "z = 15\n",
    "\n",
    "while z !=  1  :  # any boolean condition could be placed here. Also, notice the : at the end!\n",
    "    print( f\"z's value is {z}\" )\n",
    "    if z % 2 == 0 : # z is even \n",
    "        z = z // 2 \n",
    "    else : \n",
    "        z = 3 * z + 1 "
   ]
  },
  {
   "cell_type": "markdown",
   "metadata": {},
   "source": [
    "An infinite loop. Use the STOP button (black square) in the toolbar to stop it. There is no other way"
   ]
  },
  {
   "cell_type": "code",
   "execution_count": null,
   "metadata": {},
   "outputs": [],
   "source": [
    "cnt = 0 \n",
    "while True : \n",
    "    print( f\"Too infinity and beyond : {cnt}\\r\", end=\"\")\n",
    "    cnt += 1 "
   ]
  },
  {
   "cell_type": "markdown",
   "metadata": {},
   "source": [
    "### continue and break\n",
    "\n",
    "Sometimes one wants to interrupt the current iteration and go directly to the next one without finishing it.\n",
    "This is done with the `continue` keyword, as in the following example:"
   ]
  },
  {
   "cell_type": "code",
   "execution_count": null,
   "metadata": {},
   "outputs": [],
   "source": [
    "for i in range(1, 12):      \n",
    "    if i % 5 == 0 : # if i is a multiple of 5 \n",
    "        print( \"I don't like multiples of 5, skipping this one\")\n",
    "        continue  # this jumps directly to the beginning of the loop, skipping the rest of _this_ iteration!  \n",
    "        \n",
    "    print( f\"i = {i}\")"
   ]
  },
  {
   "cell_type": "markdown",
   "metadata": {},
   "source": [
    "**Exercise I4:** What is the last line printed by the loop above? Submit it as a quoted string. "
   ]
  },
  {
   "cell_type": "code",
   "execution_count": null,
   "metadata": {},
   "outputs": [],
   "source": [
    "anss.submit( 'I4', )"
   ]
  },
  {
   "cell_type": "markdown",
   "metadata": {},
   "source": [
    "Sometimes one wants to completely stop a loop completely if some special condition holds, this is done by using the `break` keyword"
   ]
  },
  {
   "cell_type": "code",
   "execution_count": null,
   "metadata": {},
   "outputs": [],
   "source": [
    "for i in range(1, 12) : \n",
    "    print( f\"i = {i}\" )\n",
    "    if i == 7 :  \n",
    "        print( \"Found 7, everybody's favorite number! No need to keep working!\")\n",
    "        break\n",
    "        "
   ]
  },
  {
   "cell_type": "markdown",
   "metadata": {},
   "source": [
    "**Exercise I5:** What is the last line printed by the loop above? Submit it as a quoted string. "
   ]
  },
  {
   "cell_type": "code",
   "execution_count": null,
   "metadata": {},
   "outputs": [],
   "source": [
    "anss.submit( 'I5',  )"
   ]
  },
  {
   "cell_type": "markdown",
   "metadata": {},
   "source": [
    "### try - except "
   ]
  },
  {
   "cell_type": "markdown",
   "metadata": {},
   "source": [
    "Recall that some operations might throw errors or exceptions. For instance:"
   ]
  },
  {
   "cell_type": "code",
   "execution_count": null,
   "metadata": {},
   "outputs": [],
   "source": [
    "a = \"juan\"\n",
    "a_as_float = float( a )"
   ]
  },
  {
   "cell_type": "markdown",
   "metadata": {},
   "source": [
    "Sometimes we want to handle these in a robust manner. This is done via, try - except construction : "
   ]
  },
  {
   "cell_type": "code",
   "execution_count": null,
   "metadata": {},
   "outputs": [],
   "source": [
    "a = \"asdad\"\n",
    "try : \n",
    "    a_as_float = float( a ) \n",
    "    print( \"the entered value could be converted directly to a number\")\n",
    "except ValueError as err :  \n",
    "    # capture this particular type of exception and bind it to the name 'err'\n",
    "    print( \"an exception was thrown: defaulting to special float value = nan\")\n",
    "    a_as_float = float( \"nan\")\n",
    "    \n",
    "print( f\"a_as_float = {a_as_float}\")"
   ]
  },
  {
   "cell_type": "markdown",
   "metadata": {},
   "source": [
    "# Dictionaries "
   ]
  },
  {
   "cell_type": "markdown",
   "metadata": {},
   "source": [
    "Dictionaries are mappings from keys to values, as follows: "
   ]
  },
  {
   "cell_type": "code",
   "execution_count": null,
   "metadata": {},
   "outputs": [],
   "source": [
    "juan = {\n",
    "    \"full_name\" :  \"Juan Esteban\",\n",
    "    \"height\" : 1.73,\n",
    "    # The following ar Juan's grades for 5 exams\n",
    "     1  :  4.8,\n",
    "     2  :  4.5, \n",
    "     3  :  5.0,\n",
    "     4  :  3.0,\n",
    "     5  :  3.5\n",
    "}"
   ]
  },
  {
   "cell_type": "code",
   "execution_count": null,
   "metadata": {},
   "outputs": [],
   "source": [
    "juan"
   ]
  },
  {
   "cell_type": "markdown",
   "metadata": {},
   "source": [
    "Dictionaries are sometimes called associative-arrays or even hash-tables ( althought the latter term refers to a particular implementation of the abstract context) "
   ]
  },
  {
   "cell_type": "markdown",
   "metadata": {},
   "source": [
    "Notice the keys and values can have mixed types (any type that is 'hashable' can be used). \n",
    "\n",
    "However, In **99.9% of applications the keys are of type string**. \n",
    "\n",
    "The values can be _anything_! Even lists or other dictionaries or dictionaries containing dictionaries as values and so forth... "
   ]
  },
  {
   "cell_type": "markdown",
   "metadata": {},
   "source": [
    "To retrieve that value of a key simply use 'array-indexing' syntax:"
   ]
  },
  {
   "cell_type": "code",
   "execution_count": null,
   "metadata": {},
   "outputs": [],
   "source": [
    "juan[\"full_name\"]"
   ]
  },
  {
   "cell_type": "markdown",
   "metadata": {},
   "source": [
    "## Dictionaries are mutable"
   ]
  },
  {
   "cell_type": "markdown",
   "metadata": {},
   "source": [
    "It is always possible to change the value associated with a key: "
   ]
  },
  {
   "cell_type": "code",
   "execution_count": null,
   "metadata": {},
   "outputs": [],
   "source": [
    "juan[\"full_name\"] = 'Juan David'"
   ]
  },
  {
   "cell_type": "code",
   "execution_count": null,
   "metadata": {},
   "outputs": [],
   "source": [
    "juan"
   ]
  },
  {
   "cell_type": "markdown",
   "metadata": {},
   "source": [
    "An also **to delete a key-value pair** "
   ]
  },
  {
   "cell_type": "code",
   "execution_count": null,
   "metadata": {},
   "outputs": [],
   "source": [
    "del juan[4]\n",
    "del juan['height']"
   ]
  },
  {
   "cell_type": "code",
   "execution_count": null,
   "metadata": {},
   "outputs": [],
   "source": [
    "juan"
   ]
  },
  {
   "cell_type": "markdown",
   "metadata": {},
   "source": [
    "**Exercise D1**:  Try to access a key that is not present in the `juan` dictionary.\n",
    "What happens?\n",
    "   1. The operation returns the special value `None`. \n",
    "   2. The operation raises an error/exception \n",
    "   3. Something else"
   ]
  },
  {
   "cell_type": "code",
   "execution_count": null,
   "metadata": {},
   "outputs": [],
   "source": []
  },
  {
   "cell_type": "code",
   "execution_count": null,
   "metadata": {},
   "outputs": [],
   "source": [
    "anss.submit( 'D1', # 1 2 )"
   ]
  },
  {
   "cell_type": "markdown",
   "metadata": {},
   "source": [
    "To test whether a key is present in the dictionary one can use the in operator: "
   ]
  },
  {
   "cell_type": "code",
   "execution_count": null,
   "metadata": {},
   "outputs": [],
   "source": [
    "if \"height\" in juan :\n",
    "    print( f\"Juan's height is: {juan['height']}\")    \n",
    "else : \n",
    "    print( \"Juan has no 'height' defined\")\n",
    "    "
   ]
  },
  {
   "cell_type": "code",
   "execution_count": null,
   "metadata": {},
   "outputs": [],
   "source": [
    "juan[4] = None "
   ]
  },
  {
   "cell_type": "markdown",
   "metadata": {},
   "source": [
    "** Exercise D2: ** After setting the 4th grade to the special value `None`, what does the expression `4 in juan` return'? "
   ]
  },
  {
   "cell_type": "code",
   "execution_count": null,
   "metadata": {},
   "outputs": [],
   "source": [
    "anss.submit( 'D2', ) "
   ]
  },
  {
   "cell_type": "markdown",
   "metadata": {},
   "source": [
    "** Exercise D3: **  Set the grade for exam number 4 to 3.5 in `juan` dictionary, then use a for loop \n",
    "to collect all 5 exam grades (in the order of their keys from 1 to 5) from the dict into an array called `grades` with 5 elements. (**Hint:** start with an empty array `grades = []` and inside the for loop use the `append` method on the array to add grades one by one) \n"
   ]
  },
  {
   "cell_type": "code",
   "execution_count": null,
   "metadata": {},
   "outputs": [],
   "source": [
    "juan[4] = 3.5"
   ]
  },
  {
   "cell_type": "code",
   "execution_count": null,
   "metadata": {},
   "outputs": [],
   "source": [
    "\n",
    "\n",
    "\n",
    "\n",
    "anss.submit( 'D3', grades )"
   ]
  },
  {
   "cell_type": "markdown",
   "metadata": {},
   "source": [
    "### Iterating over a dictionary\n",
    "\n",
    "Iterating over dictionaries very similar to iterating over lists.\n",
    "  \n",
    "We just have to use the method `.items()` to iterate over the key-value pairs, as follows:"
   ]
  },
  {
   "cell_type": "code",
   "execution_count": null,
   "metadata": {},
   "outputs": [],
   "source": [
    "for key, val in juan.items() :\n",
    "    \n",
    "    print( f\"The value for {key} is {val}\")"
   ]
  },
  {
   "cell_type": "code",
   "execution_count": null,
   "metadata": {},
   "outputs": [],
   "source": [
    "anss.submit( 'D4', len(juan.items())   )  # don't worry about his for now "
   ]
  },
  {
   "cell_type": "markdown",
   "metadata": {},
   "source": [
    "Other methods that are useful for dictionaries are `.keys()` and `.values()`\n",
    "which return iterators over the sets of values and values of the dictionary: "
   ]
  },
  {
   "cell_type": "code",
   "execution_count": null,
   "metadata": {},
   "outputs": [],
   "source": [
    "list( juan.keys() )"
   ]
  },
  {
   "cell_type": "code",
   "execution_count": null,
   "metadata": {},
   "outputs": [],
   "source": [
    "list( juan.items() )"
   ]
  },
  {
   "cell_type": "markdown",
   "metadata": {},
   "source": [
    "<div id=\"defining_functions\"></div>\n",
    "# Defining functions"
   ]
  },
  {
   "cell_type": "markdown",
   "metadata": {},
   "source": [
    "The basic syntax for defining functions is:"
   ]
  },
  {
   "cell_type": "code",
   "execution_count": null,
   "metadata": {},
   "outputs": [],
   "source": [
    "def function_name( arg1, arg2, arg3 ) : \n",
    "    \"\"\"Always, always, always! put a string as the first line of the function as documentation\n",
    "    \n",
    "    This function sums the first two arguments (which should be numbers)  converts their sum to a string \n",
    "    and concatenates the result with f'|{arg3}'\n",
    "    \"\"\"\n",
    "    var1 = arg1 + arg2   #this defines a  local variable (not visible to the outside world)\n",
    "    var2 = str( var1 ) + f'|{arg3}'  # this defines another local variable \n",
    "    \n",
    "    return var2 "
   ]
  },
  {
   "cell_type": "markdown",
   "metadata": {},
   "source": [
    "Now the function can be called (in the same source file)"
   ]
  },
  {
   "cell_type": "code",
   "execution_count": null,
   "metadata": {},
   "outputs": [],
   "source": [
    "function_name( 30, 20, 'Mateo' )"
   ]
  },
  {
   "cell_type": "code",
   "execution_count": null,
   "metadata": {},
   "outputs": [],
   "source": [
    "help( function_name )"
   ]
  },
  {
   "cell_type": "markdown",
   "metadata": {},
   "source": [
    "A very convenient feature is that functions can also have default values for some of their arguments:"
   ]
  },
  {
   "cell_type": "code",
   "execution_count": null,
   "metadata": {},
   "outputs": [],
   "source": [
    "def greet( name, greeting = \"Hello\", punctuation = \"!\" ) :  \n",
    "    \"\"\"This function produces a string with a greeting for a person named {name}\"\"\"\n",
    "    \n",
    "    full_greeting = f\"{greeting}, {name}{punctuation}\"\n",
    "    \n",
    "    return full_greeting"
   ]
  },
  {
   "cell_type": "markdown",
   "metadata": {},
   "source": [
    "The arguments that have default values assigned to them are called **keyword arguments**!"
   ]
  },
  {
   "cell_type": "code",
   "execution_count": null,
   "metadata": {},
   "outputs": [],
   "source": [
    "greet( \"Mateo\" )  # uses default values for greeting and punctuation"
   ]
  },
  {
   "cell_type": "code",
   "execution_count": null,
   "metadata": {},
   "outputs": [],
   "source": [
    "greet( \"Juan\", greeting=\"Hola\")  #uses default value for punctuation onluy"
   ]
  },
  {
   "cell_type": "code",
   "execution_count": null,
   "metadata": {},
   "outputs": [],
   "source": [
    "greet( \"Juan\", punctuation=\" ...\") #uses default value for gretting only"
   ]
  },
  {
   "cell_type": "markdown",
   "metadata": {},
   "source": [
    "**Exercise FU1:** What happens if you try calling `greet(name='Ana', greeting='Hola', punctuation='!')`\n",
    "1. The string 'Hola, Ana!' is returned\n",
    "2. A SyntaxError is raised because `name` is not a named argument.\n",
    "3. A TypeError   is raised because there is no value for the first positional argument 'name'\n",
    "4. Some other error is raised"
   ]
  },
  {
   "cell_type": "code",
   "execution_count": null,
   "metadata": {},
   "outputs": [],
   "source": [
    "anss.submit( 'FU1', )"
   ]
  },
  {
   "cell_type": "markdown",
   "metadata": {},
   "source": [
    "**Exercise FU2:** What happens if you try calling `greet(greeting='Hola', punctuation='!')`\n",
    "1. The string 'Hola, !' is returned\n",
    "2. A ValueError is raised because there is no value for the first positional argument 'name'\n",
    "3. A TypeError  is raised because there is no value for the first positional argument 'name'\n",
    "4. Some other error is raised\n"
   ]
  },
  {
   "cell_type": "code",
   "execution_count": null,
   "metadata": {},
   "outputs": [],
   "source": [
    "anss.submit( 'FU2', )"
   ]
  },
  {
   "cell_type": "markdown",
   "metadata": {},
   "source": [
    "**Exercise FU3:** What happens if you try calling `greet(greeting='Hola', 'Ana', punctuation='!')`\n",
    "1. The string 'Hola, Ana!' is returned\n",
    "2. A SyntaxError is raised because positional arguments cannot come after keyword arguments\n",
    "3. A TypeError   is raised because there is no value for the first positional argument 'name'\n",
    "4. Some other error is raised"
   ]
  },
  {
   "cell_type": "code",
   "execution_count": null,
   "metadata": {},
   "outputs": [],
   "source": [
    "anss.submit( 'FU3', )"
   ]
  },
  {
   "cell_type": "markdown",
   "metadata": {},
   "source": [
    "**Exercise FU4:** What happens if you try calling `greet(greeting='Hola', name='Ana', punctuation='!')`\n",
    "1. The string 'Hola, Ana!' is returned\n",
    "2. A SyntaxError is raised because positional argument `name` cannot come after keyword arguments\n",
    "3. A TypeError   is raised because there is no value for the first positional argument 'name'\n",
    "4. Some other error is raised"
   ]
  },
  {
   "cell_type": "code",
   "execution_count": null,
   "metadata": {},
   "outputs": [],
   "source": [
    "anss.submit( 'FU4', )"
   ]
  },
  {
   "cell_type": "code",
   "execution_count": null,
   "metadata": {},
   "outputs": [],
   "source": [
    "greet( punctuation=\"!\", \"Ana\", greeting = \"Hola\")"
   ]
  },
  {
   "cell_type": "markdown",
   "metadata": {},
   "source": [
    "** Exercise FU5: **  Write a function `capitalize_words` that takes a string and capitalizes the first letter of every word?\n",
    "\n",
    "Example if: a_str = \"function that takes a string and capitalizes the first letter\"\n",
    "Then \n",
    "\n",
    "( Hint:  you might want to use the methods .split(), .upper(), .join()  provided by the class spring )"
   ]
  },
  {
   "cell_type": "code",
   "execution_count": null,
   "metadata": {},
   "outputs": [],
   "source": [
    "# define function capitalize_words here:\n",
    "\n",
    "\n"
   ]
  },
  {
   "cell_type": "code",
   "execution_count": null,
   "metadata": {},
   "outputs": [],
   "source": [
    "anss.submit( 'FU5',  capitalize_words( \"positional argument follows keyword argument\" )  )"
   ]
  },
  {
   "cell_type": "markdown",
   "metadata": {},
   "source": [
    "**Exercise FU6**: Define a function `avg1` that takes a list consisting of a person's name (str) and then just numbers and computes and returns the average of those numbers.\n",
    "\n",
    "For example: `avg1( ['Mateo', 5.0, 2.0, 2.0 ] )` should return 3 ( = (5 + 2 + 2) / 3 )  \n",
    "\n",
    "(*Hint*:  for the most Pythonic solution use list slicing to extract all elements but the first one, then use the built-in function `sum` and finally `len`  to get the length of the list."
   ]
  },
  {
   "cell_type": "code",
   "execution_count": null,
   "metadata": {},
   "outputs": [],
   "source": [
    "### Your definition fo avg1 goes here \n",
    "\n",
    "\n"
   ]
  },
  {
   "cell_type": "code",
   "execution_count": null,
   "metadata": {},
   "outputs": [],
   "source": []
  },
  {
   "cell_type": "code",
   "execution_count": null,
   "metadata": {},
   "outputs": [],
   "source": [
    "anss.submit( 'FU6',  avg1( ['Ana', 5.0, 4.0, 3.0 ] ) )"
   ]
  },
  {
   "cell_type": "markdown",
   "metadata": {},
   "source": [
    "**Exercise FU7:**  Define a function `remove_dups_keep_order` that: \n",
    " 1. Takes as input a list of strings  `input_list`\n",
    " 2. Returns the a list containing the unique elements of `input_list` (i.e. duplicates removed) but _keeps the order_ in which does unique elements appeared in the `input_list`\n",
    " \n",
    " Example: `remove_dups_keep_order( ['b', 'c', 'c', 'a', 'b', 'd', 'd'] )`   should return `['b', 'c', 'a', 'd']`\n",
    " \n",
    " \n",
    "**Hint 1:** You could achieve this by holding an auxiliary dictionary to keep track of the elements you have seen and using the `in` operator to test membership in that dictionary.\n",
    "\n",
    "**Hint 2:** If you want a more elegant solution you could use the built-in data structure 'set'"
   ]
  },
  {
   "cell_type": "code",
   "execution_count": null,
   "metadata": {},
   "outputs": [],
   "source": [
    "## define  remove_dups_keep_order  here\n",
    "\n",
    "\n",
    "\n",
    "\n",
    "\n",
    "\n",
    "\n",
    "\n"
   ]
  },
  {
   "cell_type": "code",
   "execution_count": null,
   "metadata": {},
   "outputs": [],
   "source": [
    "# test \n",
    "import random \n",
    "\n",
    "random.seed( 1337 )\n",
    "list_with_duplicates = [ random.randint(0,100) for i in range(100) ] # this syntax will be explained later\n",
    "\n",
    "anss.submit( 'FU7', remove_dups_keep_order( list_with_duplicates ) )"
   ]
  },
  {
   "cell_type": "markdown",
   "metadata": {},
   "source": [
    "### Functions that return several values: "
   ]
  },
  {
   "cell_type": "markdown",
   "metadata": {},
   "source": [
    "You can return more than value from a function, just put the values separated by commas after the return"
   ]
  },
  {
   "cell_type": "code",
   "execution_count": null,
   "metadata": {},
   "outputs": [],
   "source": [
    "import math\n",
    "\n",
    "def quadratic_solutions( a, b, c ) : \n",
    "    \"\"\"This function returns both solutions to the quadratic equation ax^2 + bx  + c\"\"\"\n",
    "    disc = math.sqrt( b ** 2 - 4 * a * c)\n",
    "    sol1  = (-b + disc) / ( 2 * a )\n",
    "    sol2  = (-b - disc) / ( 2 * a )\n",
    "    \n",
    "    return sol1, sol2"
   ]
  },
  {
   "cell_type": "markdown",
   "metadata": {},
   "source": [
    "To call such a function use the following syntax: "
   ]
  },
  {
   "cell_type": "code",
   "execution_count": null,
   "metadata": {},
   "outputs": [],
   "source": [
    "s1 , s2 = quadratic_solutions( 1, -1, -1 )\n",
    "print( s1, s2 )"
   ]
  },
  {
   "cell_type": "code",
   "execution_count": null,
   "metadata": {},
   "outputs": [],
   "source": [
    "anss.submit( 'FU7', (s1, s2) )"
   ]
  },
  {
   "cell_type": "markdown",
   "metadata": {},
   "source": [
    "In fact, I am lying to you. The function returns just one value, that is a tuple"
   ]
  },
  {
   "cell_type": "code",
   "execution_count": null,
   "metadata": {},
   "outputs": [],
   "source": [
    "s = quadratic_solutions( 1, -1 , -1 )\n",
    "\n",
    "print( s )"
   ]
  },
  {
   "cell_type": "code",
   "execution_count": null,
   "metadata": {},
   "outputs": [],
   "source": [
    "anss.submit( 'FU8',s )"
   ]
  },
  {
   "cell_type": "code",
   "execution_count": null,
   "metadata": {},
   "outputs": [],
   "source": [
    "type( s )"
   ]
  },
  {
   "cell_type": "markdown",
   "metadata": {},
   "source": [
    "In fact the syntax `s1, s2 = quadratic_solutions( 1, -1 , -1 )` is equivalent to:"
   ]
  },
  {
   "cell_type": "code",
   "execution_count": null,
   "metadata": {},
   "outputs": [],
   "source": [
    "tmp_tuple_value = quadratic_solutions( 1, -1, -1 )\n",
    "s1, s2 = tmp_tuple_value\n",
    "print( s1, s2 )"
   ]
  },
  {
   "cell_type": "markdown",
   "metadata": {},
   "source": [
    "### Functions that 'don't return' a value "
   ]
  },
  {
   "cell_type": "markdown",
   "metadata": {},
   "source": [
    "When you write a function and don't include a `return` statement in its code, the function actually returns the special value `None`"
   ]
  },
  {
   "cell_type": "code",
   "execution_count": null,
   "metadata": {},
   "outputs": [],
   "source": [
    "def my_procedure( a, b, c ) : \n",
    "    \"\"\"This function ignores it's arguments and does nothing except for printing a message\"\"\"\n",
    "    print( \"Yeah... whatever you say!\")    "
   ]
  },
  {
   "cell_type": "code",
   "execution_count": null,
   "metadata": {},
   "outputs": [],
   "source": [
    "result = my_procedure( 1232, \"asdads\",  None ) "
   ]
  },
  {
   "cell_type": "code",
   "execution_count": null,
   "metadata": {},
   "outputs": [],
   "source": [
    "result is None"
   ]
  },
  {
   "cell_type": "code",
   "execution_count": null,
   "metadata": {},
   "outputs": [],
   "source": [
    "anss.submit( 'FU9', result )"
   ]
  },
  {
   "cell_type": "markdown",
   "metadata": {},
   "source": [
    "## Lambdas!"
   ]
  },
  {
   "cell_type": "markdown",
   "metadata": {},
   "source": [
    "Lambdas are Python's way of defining very simple anonymous functions whose return value is the result of evaluating a single expression.\n",
    "For example: "
   ]
  },
  {
   "cell_type": "code",
   "execution_count": null,
   "metadata": {},
   "outputs": [],
   "source": [
    "capitalize = lambda a_str :  a_str[0].upper() + a_str[1:]"
   ]
  },
  {
   "cell_type": "code",
   "execution_count": null,
   "metadata": {},
   "outputs": [],
   "source": [
    "capitalize( \"Maria\" )"
   ]
  },
  {
   "cell_type": "code",
   "execution_count": null,
   "metadata": {},
   "outputs": [],
   "source": [
    "import math\n",
    "quadratic_sol = lambda a, b, c :  ( -b + math.sqrt( b**2 - 4*a*c )) / (2*a)"
   ]
  },
  {
   "cell_type": "code",
   "execution_count": null,
   "metadata": {},
   "outputs": [],
   "source": [
    "#Solving the equation  x^2 - x - 1 \n",
    "quadratic_sol( 1, -1, -1 )"
   ]
  },
  {
   "cell_type": "markdown",
   "metadata": {},
   "source": [
    "### Using lambdas for sorting"
   ]
  },
  {
   "cell_type": "code",
   "execution_count": null,
   "metadata": {},
   "outputs": [],
   "source": [
    "data_recs = [\n",
    "  [ \"Juan\" ,  5.0, 2.0, 2.0 ],\n",
    "  [ \"Maria\",  7.0, 8.0, 3.0 ], \n",
    "  [ \"Mateo\",  1.0, 4.0, 4.0 ],     \n",
    "] "
   ]
  },
  {
   "cell_type": "markdown",
   "metadata": {},
   "source": [
    "Say we want to sort these records by the value of the first numeric component (index 1 in the list)\n",
    "\n",
    "Then we can pass a lambda that extracts this value from each record."
   ]
  },
  {
   "cell_type": "code",
   "execution_count": null,
   "metadata": {},
   "outputs": [],
   "source": [
    "records_sorted = sorted( data_recs, key = lambda rec : rec[1] )\n",
    "records_sorted"
   ]
  },
  {
   "cell_type": "markdown",
   "metadata": {},
   "source": [
    "**Exercise LS1:**  Modify the example above so that the records are sorted in *descending order* by the last number in each record\n",
    "(Hint:  a very similar lambda will do the trick) "
   ]
  },
  {
   "cell_type": "code",
   "execution_count": null,
   "metadata": {},
   "outputs": [],
   "source": [
    "records_sorted_desc = # Your code here\n",
    "\n",
    "anss.submit( 'LS1', records_sorted_desc )"
   ]
  },
  {
   "cell_type": "markdown",
   "metadata": {},
   "source": [
    "## For comprehensions"
   ]
  },
  {
   "cell_type": "markdown",
   "metadata": {},
   "source": [
    "**Problem:** Suppose we have are given: \n",
    "1. an input list `input_arr = [elem1, elem2, elem3, ...]` \n",
    "2. function `fun` \n",
    "\n",
    "We want to produce the array `output_arr = [ fun( elem1 ), fun( elem2 ), fun( elem3 )`,\n",
    "\n",
    "i.e. with apply `fun` to every elem of the array and return the results. \n",
    "\n",
    "Here is how most C/Java programmers would approach this problem: "
   ]
  },
  {
   "cell_type": "code",
   "execution_count": null,
   "metadata": {},
   "outputs": [],
   "source": [
    "input_arr = [\"maria\", \"ana\", \"sara\"]\n",
    "f = capitalize\n",
    "\n",
    "# NON-Idiomatic Python code follows: \n",
    "output_arr = []\n",
    "for elem in input_arr : \n",
    "    output_arr.append( capitalize( elem ) )\n",
    "    \n",
    "output_arr"
   ]
  },
  {
   "cell_type": "markdown",
   "metadata": {},
   "source": [
    "That is roughly 3 lines. Not bad, but could much better. \n",
    "\n",
    "The idiomatic Python solution is called a **for (or list) comprehension**"
   ]
  },
  {
   "cell_type": "code",
   "execution_count": null,
   "metadata": {},
   "outputs": [],
   "source": [
    "output_arr2 = [ capitalize(elem)  for elem in input_arr ]\n",
    "output_arr2"
   ]
  },
  {
   "cell_type": "markdown",
   "metadata": {},
   "source": [
    "**Exercise FC1: **  Use a for-comprehension to appluy the function `avg1` defined above to each record in `data_recs`, defined above"
   ]
  },
  {
   "cell_type": "code",
   "execution_count": null,
   "metadata": {},
   "outputs": [],
   "source": [
    "FC1 = \n",
    "anss.submit( 'FC1',FC1 )"
   ]
  },
  {
   "cell_type": "markdown",
   "metadata": {},
   "source": [
    "**Exercise FC2:** Write a function `make_html_table` table that \n",
    "1. Takes as arguments: \n",
    "    1. `headers` : A list of strings containg the names of columns for a table \n",
    "    2. `data` : A list of lists (all of the same length a headers) \n",
    "2. Returns a single string of html code (including line breaks) representing the table \n",
    "\n",
    "Example:  if `headers = [\"name\", \"cell phone\"]` and `data = [ [\"Teo\", 123], [\"Sara\", 567] ]` then `make_html_table( header, data)` should return "
   ]
  },
  {
   "cell_type": "code",
   "execution_count": null,
   "metadata": {},
   "outputs": [],
   "source": [
    "\"\"\"<table>\n",
    "<tr><th>name</th><th>cell phone</th></tr>\n",
    "<tr><td>Teo</td><td>123</td></tr>\n",
    "<tr><td>Sara</td><td>567</td></tr>\n",
    "</table>\n",
    "\"\"\"    "
   ]
  },
  {
   "cell_type": "code",
   "execution_count": null,
   "metadata": {},
   "outputs": [],
   "source": [
    "headers = [\"name\", \"cell phone\"]\n",
    "data = [ [\"Teo\", 123], [\"Sara\", 567] ]"
   ]
  },
  {
   "cell_type": "code",
   "execution_count": null,
   "metadata": {},
   "outputs": [],
   "source": [
    "anss.submit( 'FC2', make_html_table( headers, data))"
   ]
  },
  {
   "cell_type": "markdown",
   "metadata": {},
   "source": [
    "## Using modules "
   ]
  },
  {
   "cell_type": "markdown",
   "metadata": {},
   "source": [
    "**_Module_** is the python term for *library*. A module generally contains functions, class definitions or other modules (as submodules).  It is implemented as one or several  '.py' source codes files or it could also be implemented in C or 'cython'. \n",
    "\n",
    "The basic syntax to import a module is: "
   ]
  },
  {
   "cell_type": "code",
   "execution_count": null,
   "metadata": {},
   "outputs": [],
   "source": [
    "import math   # math is the name of a module from the standard library and will serve as a **namespace**"
   ]
  },
  {
   "cell_type": "markdown",
   "metadata": {},
   "source": [
    "This module contains many mathematically related functions.  "
   ]
  },
  {
   "cell_type": "code",
   "execution_count": null,
   "metadata": {},
   "outputs": [],
   "source": [
    "dir( math )  # shows the list of functiones packed in the module"
   ]
  },
  {
   "cell_type": "markdown",
   "metadata": {},
   "source": [
    "After the import you can use any contained function as follows: "
   ]
  },
  {
   "cell_type": "code",
   "execution_count": null,
   "metadata": {},
   "outputs": [],
   "source": [
    "math.sqrt( 4 ), math.log2( 32 ), math.sin( 0. ), math.cos( 0. )"
   ]
  },
  {
   "cell_type": "markdown",
   "metadata": {},
   "source": [
    "It is also possible to import the names of some of the functions (and classes) directly"
   ]
  },
  {
   "cell_type": "code",
   "execution_count": null,
   "metadata": {},
   "outputs": [],
   "source": [
    "from math import sqrt, log2, sin, cos "
   ]
  },
  {
   "cell_type": "code",
   "execution_count": null,
   "metadata": {},
   "outputs": [],
   "source": [
    "sqrt( 4 ), log2( 32 ), sin( 0. ), cos( 0. )"
   ]
  },
  {
   "cell_type": "code",
   "execution_count": null,
   "metadata": {},
   "outputs": [],
   "source": [
    "anss.submit( 'M1', (sqrt( 4 ), log2( 32 ), sin( 0. ), cos( 0. )) )"
   ]
  },
  {
   "cell_type": "markdown",
   "metadata": {},
   "source": [
    "Other important and often used modules include:  `os`, `sys`, `collections`, `itertools`, `json`, `pandas`, `http` "
   ]
  },
  {
   "cell_type": "code",
   "execution_count": null,
   "metadata": {},
   "outputs": [],
   "source": [
    "import sys \n",
    "sys.version"
   ]
  },
  {
   "cell_type": "code",
   "execution_count": null,
   "metadata": {},
   "outputs": [],
   "source": [
    "import os\n",
    "os.getcwd()  # current working dir "
   ]
  },
  {
   "cell_type": "markdown",
   "metadata": {},
   "source": [
    "# Reading from and writing to files\n",
    "\n",
    "Reading and writing from text files files is very easy. \n",
    "The best way to do it, in order to avoid resource leakage (forgetting to close a file after workign with it) is the `with` construct: "
   ]
  },
  {
   "cell_type": "code",
   "execution_count": null,
   "metadata": {},
   "outputs": [],
   "source": [
    "txt_to_write = \"\"\"\n",
    "Reading and writing from text files files is very easy. \n",
    "The best way to do it, in order to avoid resource leakage (\n",
    "forgetting to close a file after workign with it) \n",
    "is the `with` construct\n",
    "\"\"\"\n",
    "\n",
    "\n",
    "# the following creates a file in the current directory for writing (\"w\")  text (\"t\")\n",
    "# f_out is the name of the file handle\n",
    "with  open( \"my_file.txt\", \"wt\", encoding=\"utf-8\" ) as f_out : \n",
    "    # Now we write the string: txt_to_write defined above to it\n",
    "    print( txt_to_write, file=f_out )"
   ]
  },
  {
   "cell_type": "markdown",
   "metadata": {},
   "source": [
    "We verify that the file is there:"
   ]
  },
  {
   "cell_type": "code",
   "execution_count": null,
   "metadata": {},
   "outputs": [],
   "source": [
    "import os \n",
    "os.listdir('.')"
   ]
  },
  {
   "cell_type": "code",
   "execution_count": null,
   "metadata": {},
   "outputs": [],
   "source": [
    "anss.submit( 'FI1', \"my_file.txt\" in os.listdir( '.' ))"
   ]
  },
  {
   "cell_type": "markdown",
   "metadata": {},
   "source": [
    "Now we read back from the file: "
   ]
  },
  {
   "cell_type": "code",
   "execution_count": null,
   "metadata": {},
   "outputs": [],
   "source": [
    "with open( \"my_file.txt\", \"rt\", encoding=\"utf-8\")  as f_in : \n",
    "    # f_in is the file handle and also can be used as an iterator\n",
    "    cnt_lines = 0 \n",
    "    for line in f_in : \n",
    "        cnt_lines += 1 \n",
    "        print( f\"line #{cnt_lines} : {line}\"  )"
   ]
  },
  {
   "cell_type": "code",
   "execution_count": null,
   "metadata": {},
   "outputs": [],
   "source": [
    "anss.submit( 'FI2', cnt_lines )"
   ]
  },
  {
   "cell_type": "markdown",
   "metadata": {},
   "source": [
    "## References\n",
    "\n",
    "https://wiki.python.org/moin/MovingToPythonFromOtherLanguages\n",
    "\n",
    "https://wiki.python.org/moin/BeginnersGuide/Overview\n",
    "\n",
    "https://docs.python.org/3/library/   "
   ]
  }
 ],
 "metadata": {
  "kernelspec": {
   "display_name": "Python 3",
   "language": "python",
   "name": "python3"
  },
  "language_info": {
   "codemirror_mode": {
    "name": "ipython",
    "version": 3
   },
   "file_extension": ".py",
   "mimetype": "text/x-python",
   "name": "python",
   "nbconvert_exporter": "python",
   "pygments_lexer": "ipython3",
   "version": "3.6.4"
  }
 },
 "nbformat": 4,
 "nbformat_minor": 1
}
