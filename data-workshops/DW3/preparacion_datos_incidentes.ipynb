{
 "cells": [
  {
   "cell_type": "code",
   "execution_count": 113,
   "metadata": {},
   "outputs": [],
   "source": [
    "import pandas as pd \n",
    "\n",
    "# Esteban: Cambiar la siguiente ruta a la tuya\n",
    "ruta_datos_xl = \"c:/_DATA/DW3/Muestra_BD_incidentes.xlsx\"\n",
    "df0 = pd.read_excel( ruta_datos_xl )"
   ]
  },
  {
   "cell_type": "code",
   "execution_count": 114,
   "metadata": {},
   "outputs": [
    {
     "data": {
      "text/plain": [
       "Index(['CODIGO', 'TIPO DE INCIDENTE', 'TIPO FINALIZACION', 'FECHA ALTA',\n",
       "       'FECHA DE CREACION', 'FECHA EN EL LUGAR', 'FECHA DE FINALIZACION',\n",
       "       'LATITUD', 'LONGITUD', 'COMUNA', 'TIENE AGENTE', 'AG1', 'AG2', 'AG3',\n",
       "       'INTERVALO', 'DIRECCION', 'TURNO', 'VEHICULO INVOLUCRADO1',\n",
       "       'VEHICULO INVOLUCRADO2', 'VEHICULO INVOLUCRADO3',\n",
       "       'VEHICULO INVOLUCRADO4', 'VEHICULO SMM', 'MOTO SMM', 'BETA 1', 'BETA 2',\n",
       "       'BETA 3', 'MOTO', 'PMV', 'UBICACIÓN PMV1', 'UBICACIÓN PMV2', 'CCTV',\n",
       "       'UBICACIÓN CCTV1', 'UBICACIÓN CCTV2', 'NOTAS', 'TIEMPO DE CREACION',\n",
       "       'TIEMPO DE RESPUESTA', 'TIEMPO DE ATENCION', 'TIEMPO TOTAL',\n",
       "       'TIPO RECURSO', 'COD DIA', 'DIA', 'FECHA', 'HORA', 'MES', 'SEMANA',\n",
       "       'MES NOM', 'TIPO', 'Enc'],\n",
       "      dtype='object')"
      ]
     },
     "execution_count": 114,
     "metadata": {},
     "output_type": "execute_result"
    }
   ],
   "source": [
    "df0.columns"
   ]
  },
  {
   "cell_type": "code",
   "execution_count": 115,
   "metadata": {},
   "outputs": [],
   "source": [
    "# Remover columnas calculadas \n",
    "df1 = df0.drop( ['TIEMPO DE CREACION', 'TIEMPO DE RESPUESTA', 'TIEMPO DE ATENCION', 'TIEMPO TOTAL', \n",
    "                  'TIPO RECURSO', 'COD DIA', 'DIA', 'FECHA', 'HORA', 'MES', 'SEMANA', 'MES NOM', 'TIPO', 'Enc'],\n",
    "                axis=1)\n",
    "# Remover otras columnas poco útiles\n",
    "# Esteban: agregá las que querás\n",
    "#  Las de información personal las podés dejar y cifrarlas más abajo\n",
    "# Dejarlas permitiría responder preguntas como 'hubo alguna persona involucrada en más de N accidentes en el periodo dado?'\n",
    "# sin revelar la identidad de la persona...\n",
    "df1 = df1.drop( [ 'PMV', 'UBICACIÓN PMV1', 'UBICACIÓN PMV2',\n",
    "                  'CCTV', 'UBICACIÓN PMV2', 'CCTV', 'UBICACIÓN CCTV1', 'UBICACIÓN CCTV2' ],\n",
    "                axis=1 )"
   ]
  },
  {
   "cell_type": "code",
   "execution_count": 116,
   "metadata": {},
   "outputs": [],
   "source": [
    "del df0 # limpieza de basura"
   ]
  },
  {
   "cell_type": "code",
   "execution_count": 85,
   "metadata": {},
   "outputs": [],
   "source": [
    "from hashlib import md5\n",
    "import hashlib\n",
    "import base64\n",
    "import math\n",
    "\n",
    "def make_encrypter( long, salt = 'clave_secreta' ) :\n",
    "    \"\"\"construye una funcion encriptador y la retorna.\"\"\"\n",
    "    def encrypt( s_plano ) : \n",
    "        if (type(s_plano)==float and math.isnan(s_plano)) :\n",
    "            return s_plano \n",
    "        \n",
    "        s_plano = str( s_plano )\n",
    "       \n",
    "        if s_plano.strip() == ''  :\n",
    "            return ''\n",
    "        \n",
    "        return base64.b64encode( md5( (s_plano + salt).encode(\"utf8\") )\n",
    "                                 .digest() )[ :long].decode('ascii')\n",
    "    \n",
    "    encrypt.__doc__ =  f\"\"\"Esta función recibe una cadena (unicode) no vacía, la concatena con '{salt}'\n",
    "          y retorna un md5 codificado en b64 y truncado a longitud {long}. \n",
    "          Cadenas vacías y NaNs no se cifran\"\"\"\n",
    "        \n",
    "    return encrypt #retorna (referencia a) la funcion que acabamos de definir dinámicamente\n",
    "        "
   ]
  },
  {
   "cell_type": "code",
   "execution_count": 86,
   "metadata": {},
   "outputs": [
    {
     "name": "stdout",
     "output_type": "stream",
     "text": [
      "Help on function encrypt in module __main__:\n",
      "\n",
      "encrypt(s_plano)\n",
      "    Esta función recibe una cadena (unicode) no vacía, la concatena con 'Mateo'\n",
      "    y retorna un md5 codificado en b64 y truncado a longitud 5. \n",
      "    Cadenas vacías y NaNs no se cifran\n",
      "\n"
     ]
    }
   ],
   "source": [
    "#%% ejemplo de uso \n",
    "\n",
    "encrypt = make_encrypter( long=5, salt='Mateo')\n",
    "help( encrypt)"
   ]
  },
  {
   "cell_type": "code",
   "execution_count": 87,
   "metadata": {},
   "outputs": [
    {
     "data": {
      "text/plain": [
       "'HEZuw'"
      ]
     },
     "execution_count": 87,
     "metadata": {},
     "output_type": "execute_result"
    }
   ],
   "source": [
    "encrypt( 'TT-827' )"
   ]
  },
  {
   "cell_type": "code",
   "execution_count": 88,
   "metadata": {},
   "outputs": [],
   "source": [
    "# ESTEBAN: Agregar aquí otras que se quieran encryptar aquí columnas aquí\n",
    "# cambiar el valor de SALT por una cadena secreta tuya arbitraria, para que no sea posible revertir el cifrado\n",
    "\n",
    "SALT = 'Mateo' \n",
    "\n",
    "cols_a_cifrar = [ ('AG1', 6), ('AG2', 6)]\n",
    "dfc = df1.copy() \n",
    "\n",
    "for col, long  in cols_a_cifrar : \n",
    "    encrypt = make_encrypter( long, salt=SALT )\n",
    "    dfc[ col ] = df1[col].apply( encrypt )\n",
    "    \n",
    "    "
   ]
  },
  {
   "cell_type": "code",
   "execution_count": 89,
   "metadata": {},
   "outputs": [
    {
     "data": {
      "text/html": [
       "<div>\n",
       "<style scoped>\n",
       "    .dataframe tbody tr th:only-of-type {\n",
       "        vertical-align: middle;\n",
       "    }\n",
       "\n",
       "    .dataframe tbody tr th {\n",
       "        vertical-align: top;\n",
       "    }\n",
       "\n",
       "    .dataframe thead th {\n",
       "        text-align: right;\n",
       "    }\n",
       "</style>\n",
       "<table border=\"1\" class=\"dataframe\">\n",
       "  <thead>\n",
       "    <tr style=\"text-align: right;\">\n",
       "      <th></th>\n",
       "      <th>CODIGO</th>\n",
       "      <th>TIPO DE INCIDENTE</th>\n",
       "      <th>TIPO FINALIZACION</th>\n",
       "      <th>AG1</th>\n",
       "      <th>AG2</th>\n",
       "    </tr>\n",
       "  </thead>\n",
       "  <tbody>\n",
       "    <tr>\n",
       "      <th>0</th>\n",
       "      <td>20180101001435000</td>\n",
       "      <td>002 Lesiones accidente de Tránsito (979)</td>\n",
       "      <td>Negativo en sitio</td>\n",
       "      <td>BXiAhn</td>\n",
       "      <td>9b4/Bs</td>\n",
       "    </tr>\n",
       "    <tr>\n",
       "      <th>1</th>\n",
       "      <td>20180101001601000</td>\n",
       "      <td>007 Servicio Recoge Motos</td>\n",
       "      <td>Positivo</td>\n",
       "      <td>ozqRU5</td>\n",
       "      <td>NaN</td>\n",
       "    </tr>\n",
       "    <tr>\n",
       "      <th>2</th>\n",
       "      <td>20180101002501000</td>\n",
       "      <td>002 Lesiones accidente de Tránsito (979)</td>\n",
       "      <td>Positivo</td>\n",
       "      <td>BXiAhn</td>\n",
       "      <td>9b4/Bs</td>\n",
       "    </tr>\n",
       "    <tr>\n",
       "      <th>3</th>\n",
       "      <td>20180101004420000</td>\n",
       "      <td>002 Lesiones accidente de Tránsito (979)</td>\n",
       "      <td>Positivo</td>\n",
       "      <td>FKAoZS</td>\n",
       "      <td>NaN</td>\n",
       "    </tr>\n",
       "    <tr>\n",
       "      <th>4</th>\n",
       "      <td>20180101005604000</td>\n",
       "      <td>002 Lesiones accidente de Tránsito (979)</td>\n",
       "      <td>Negativo en sitio</td>\n",
       "      <td>psQHFn</td>\n",
       "      <td>NaN</td>\n",
       "    </tr>\n",
       "    <tr>\n",
       "      <th>5</th>\n",
       "      <td>20180101011151000</td>\n",
       "      <td>002 Lesiones accidente de Tránsito (979)</td>\n",
       "      <td>Conci. en el sitio</td>\n",
       "      <td>L2fm/w</td>\n",
       "      <td>crq08/</td>\n",
       "    </tr>\n",
       "    <tr>\n",
       "      <th>6</th>\n",
       "      <td>20180101012650000</td>\n",
       "      <td>002 Lesiones accidente de Tránsito (979)</td>\n",
       "      <td>Negativo en sitio</td>\n",
       "      <td>H+s90O</td>\n",
       "      <td>9YMOJg</td>\n",
       "    </tr>\n",
       "    <tr>\n",
       "      <th>7</th>\n",
       "      <td>20180101013331000</td>\n",
       "      <td>002 Lesiones accidente de Tránsito (979)</td>\n",
       "      <td>Positivo</td>\n",
       "      <td>psQHFn</td>\n",
       "      <td>NaN</td>\n",
       "    </tr>\n",
       "    <tr>\n",
       "      <th>8</th>\n",
       "      <td>20180101013742000</td>\n",
       "      <td>002 Lesiones accidente de Tránsito (979)</td>\n",
       "      <td>Positivo</td>\n",
       "      <td>YQKP+I</td>\n",
       "      <td>NaN</td>\n",
       "    </tr>\n",
       "    <tr>\n",
       "      <th>9</th>\n",
       "      <td>20180101020155000</td>\n",
       "      <td>002 Lesiones accidente de Tránsito (979)</td>\n",
       "      <td>Conci. en el sitio</td>\n",
       "      <td>L2fm/w</td>\n",
       "      <td>kL3kW6</td>\n",
       "    </tr>\n",
       "    <tr>\n",
       "      <th>10</th>\n",
       "      <td>20180101020910000</td>\n",
       "      <td>002 Lesiones accidente de Tránsito (979)</td>\n",
       "      <td>Positivo</td>\n",
       "      <td>yJvcOq</td>\n",
       "      <td>NaN</td>\n",
       "    </tr>\n",
       "    <tr>\n",
       "      <th>11</th>\n",
       "      <td>20180101021852000</td>\n",
       "      <td>007 Servicio Recoge Motos</td>\n",
       "      <td>Negativo en sitio</td>\n",
       "      <td>ozqRU5</td>\n",
       "      <td>NaN</td>\n",
       "    </tr>\n",
       "    <tr>\n",
       "      <th>12</th>\n",
       "      <td>20180101022455000</td>\n",
       "      <td>002 Lesiones accidente de Tránsito (979)</td>\n",
       "      <td>Negativo en sitio</td>\n",
       "      <td>vwOaNH</td>\n",
       "      <td>+Y2gCf</td>\n",
       "    </tr>\n",
       "    <tr>\n",
       "      <th>13</th>\n",
       "      <td>20180101023025000</td>\n",
       "      <td>001 Accidente de Tránsito Solo Daños (942)</td>\n",
       "      <td>Positivo</td>\n",
       "      <td>H+s90O</td>\n",
       "      <td>9YMOJg</td>\n",
       "    </tr>\n",
       "    <tr>\n",
       "      <th>14</th>\n",
       "      <td>20180101023315000</td>\n",
       "      <td>001 Accidente de Tránsito Solo Daños (942)</td>\n",
       "      <td>Positivo</td>\n",
       "      <td>vwOaNH</td>\n",
       "      <td>+Y2gCf</td>\n",
       "    </tr>\n",
       "    <tr>\n",
       "      <th>15</th>\n",
       "      <td>20180101023615000</td>\n",
       "      <td>002 Lesiones accidente de Tránsito (979)</td>\n",
       "      <td>Negativo en sitio</td>\n",
       "      <td>hBZUq+</td>\n",
       "      <td>oC6WRI</td>\n",
       "    </tr>\n",
       "    <tr>\n",
       "      <th>16</th>\n",
       "      <td>20180101025701000</td>\n",
       "      <td>002 Lesiones accidente de Tránsito (979)</td>\n",
       "      <td>Positivo</td>\n",
       "      <td>L2fm/w</td>\n",
       "      <td>lqbB01</td>\n",
       "    </tr>\n",
       "    <tr>\n",
       "      <th>17</th>\n",
       "      <td>20180101030244000</td>\n",
       "      <td>001 Accidente de Tránsito Solo Daños (942)</td>\n",
       "      <td>Positivo</td>\n",
       "      <td>hBZUq+</td>\n",
       "      <td>oC6WRI</td>\n",
       "    </tr>\n",
       "    <tr>\n",
       "      <th>18</th>\n",
       "      <td>20180101030707000</td>\n",
       "      <td>002 Lesiones accidente de Tránsito (979)</td>\n",
       "      <td>Positivo</td>\n",
       "      <td>OADZ05</td>\n",
       "      <td>NaN</td>\n",
       "    </tr>\n",
       "  </tbody>\n",
       "</table>\n",
       "</div>"
      ],
      "text/plain": [
       "               CODIGO                           TIPO DE INCIDENTE  \\\n",
       "0   20180101001435000    002 Lesiones accidente de Tránsito (979)   \n",
       "1   20180101001601000                   007 Servicio Recoge Motos   \n",
       "2   20180101002501000    002 Lesiones accidente de Tránsito (979)   \n",
       "3   20180101004420000    002 Lesiones accidente de Tránsito (979)   \n",
       "4   20180101005604000    002 Lesiones accidente de Tránsito (979)   \n",
       "5   20180101011151000    002 Lesiones accidente de Tránsito (979)   \n",
       "6   20180101012650000    002 Lesiones accidente de Tránsito (979)   \n",
       "7   20180101013331000    002 Lesiones accidente de Tránsito (979)   \n",
       "8   20180101013742000    002 Lesiones accidente de Tránsito (979)   \n",
       "9   20180101020155000    002 Lesiones accidente de Tránsito (979)   \n",
       "10  20180101020910000    002 Lesiones accidente de Tránsito (979)   \n",
       "11  20180101021852000                   007 Servicio Recoge Motos   \n",
       "12  20180101022455000    002 Lesiones accidente de Tránsito (979)   \n",
       "13  20180101023025000  001 Accidente de Tránsito Solo Daños (942)   \n",
       "14  20180101023315000  001 Accidente de Tránsito Solo Daños (942)   \n",
       "15  20180101023615000    002 Lesiones accidente de Tránsito (979)   \n",
       "16  20180101025701000    002 Lesiones accidente de Tránsito (979)   \n",
       "17  20180101030244000  001 Accidente de Tránsito Solo Daños (942)   \n",
       "18  20180101030707000    002 Lesiones accidente de Tránsito (979)   \n",
       "\n",
       "     TIPO FINALIZACION     AG1     AG2  \n",
       "0    Negativo en sitio  BXiAhn  9b4/Bs  \n",
       "1             Positivo  ozqRU5     NaN  \n",
       "2             Positivo  BXiAhn  9b4/Bs  \n",
       "3             Positivo  FKAoZS     NaN  \n",
       "4    Negativo en sitio  psQHFn     NaN  \n",
       "5   Conci. en el sitio  L2fm/w  crq08/  \n",
       "6    Negativo en sitio  H+s90O  9YMOJg  \n",
       "7             Positivo  psQHFn     NaN  \n",
       "8             Positivo  YQKP+I     NaN  \n",
       "9   Conci. en el sitio  L2fm/w  kL3kW6  \n",
       "10            Positivo  yJvcOq     NaN  \n",
       "11   Negativo en sitio  ozqRU5     NaN  \n",
       "12   Negativo en sitio  vwOaNH  +Y2gCf  \n",
       "13            Positivo  H+s90O  9YMOJg  \n",
       "14            Positivo  vwOaNH  +Y2gCf  \n",
       "15   Negativo en sitio  hBZUq+  oC6WRI  \n",
       "16            Positivo  L2fm/w  lqbB01  \n",
       "17            Positivo  hBZUq+  oC6WRI  \n",
       "18            Positivo  OADZ05     NaN  "
      ]
     },
     "execution_count": 89,
     "metadata": {},
     "output_type": "execute_result"
    }
   ],
   "source": [
    "dfc[['CODIGO', 'TIPO DE INCIDENTE', 'TIPO FINALIZACION', 'AG1', 'AG2']]"
   ]
  },
  {
   "cell_type": "code",
   "execution_count": null,
   "metadata": {},
   "outputs": [],
   "source": [
    "# Limpieza de basura\n",
    "del df0\n",
    "del df1"
   ]
  },
  {
   "cell_type": "code",
   "execution_count": 112,
   "metadata": {},
   "outputs": [
    {
     "name": "stderr",
     "output_type": "stream",
     "text": [
      "C:\\Users\\mrestrepo\\AppData\\Local\\Continuum\\miniconda3\\lib\\site-packages\\pandas\\core\\generic.py:1996: PerformanceWarning: \n",
      "your performance may suffer as PyTables will pickle object types that it cannot\n",
      "map directly to c-types [inferred_type->mixed-integer,key->block1_values] [items->['TIPO DE INCIDENTE', 'TIPO FINALIZACION', 'COMUNA', 'TIENE AGENTE', 'AG1', 'AG2', 'AG3', 'INTERVALO', 'DIRECCION', 'VEHICULO INVOLUCRADO1', 'VEHICULO INVOLUCRADO2', 'VEHICULO SMM', 'MOTO SMM', 'BETA 1', 'BETA 2', 'MOTO', 'NOTAS']]\n",
      "\n",
      "  return pytables.to_hdf(path_or_buf, key, self, **kwargs)\n"
     ]
    }
   ],
   "source": [
    "# Esteban: poner tu propia ruta a un excel aquí, pero dejar la extensión h5.\n",
    "# hdf5 es un formato binario open source para guardar información tabular de alta densidad. \n",
    "dfc.to_hdf( 'c:/_DATA/DW3/incidentes.h5', complevel=5, key='data' )"
   ]
  }
 ],
 "metadata": {
  "kernelspec": {
   "display_name": "Python 3",
   "language": "python",
   "name": "python3"
  },
  "language_info": {
   "codemirror_mode": {
    "name": "ipython",
    "version": 3
   },
   "file_extension": ".py",
   "mimetype": "text/x-python",
   "name": "python",
   "nbconvert_exporter": "python",
   "pygments_lexer": "ipython3",
   "version": "3.6.5"
  }
 },
 "nbformat": 4,
 "nbformat_minor": 2
}
