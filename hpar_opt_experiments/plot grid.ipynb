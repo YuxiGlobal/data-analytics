{
 "cells": [
  {
   "cell_type": "code",
   "execution_count": 1,
   "metadata": {},
   "outputs": [],
   "source": [
    "from matplotlib import pyplot as plt"
   ]
  },
  {
   "cell_type": "code",
   "execution_count": 38,
   "metadata": {},
   "outputs": [
    {
     "data": {
      "text/plain": [
       "(0.037500000000000006, 0.3125, 2.4, 15.6)"
      ]
     },
     "execution_count": 38,
     "metadata": {},
     "output_type": "execute_result"
    },
    {
     "data": {
      "image/png": "[encoded data removed]",
      "text/plain": [
       "<Figure size 432x288 with 1 Axes>"
      ]
     },
     "metadata": {},
     "output_type": "display_data"
    }
   ],
   "source": [
    "fig = plt.figure()\n",
    "miny, maxy= 3, 15\n",
    "minx, maxx = 0.05, 0.30\n",
    "\n",
    "for x in [0.05, 0.10, 0.15, 0.20, 0.25, 0.30 ] :\n",
    "    ax =plt.plot( [x,x], (miny,maxy), 'k' )\n",
    "    plt.text( x, 2 , x )     \n",
    "    \n",
    "plt.text( 0.175, 1, 'learning_rate', ha='center' )\n",
    "\n",
    "for y in [3, 4, 5, 6, 8, 10, 12, 15] :\n",
    "    ax =plt.plot( (minx,maxx), [y,y],  'k' )\n",
    "    plt.text( 0.035, y, y )\n",
    "    \n",
    "plt.text( 0.02, 9, 'max_depth', va='center', rotation='vertical' )\n",
    "    \n",
    "plt.axis( 'off' )\n"
   ]
  }
 ],
 "metadata": {
  "kernelspec": {
   "display_name": "Python 3",
   "language": "python",
   "name": "python3"
  },
  "language_info": {
   "codemirror_mode": {
    "name": "ipython",
    "version": 3
   },
   "file_extension": ".py",
   "mimetype": "text/x-python",
   "name": "python",
   "nbconvert_exporter": "python",
   "pygments_lexer": "ipython3",
   "version": "3.6.5"
  }
 },
 "nbformat": 4,
 "nbformat_minor": 2
}
